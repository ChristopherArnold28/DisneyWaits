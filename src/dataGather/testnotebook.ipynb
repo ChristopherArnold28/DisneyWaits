{
 "cells": [
  {
   "cell_type": "code",
   "execution_count": 2,
   "metadata": {
    "collapsed": true
   },
   "outputs": [],
   "source": [
    "import pymysql\n",
    "import config\n",
    "import pandas as pd\n",
    "from datetime import datetime"
   ]
  },
  {
   "cell_type": "code",
   "execution_count": 4,
   "metadata": {},
   "outputs": [],
   "source": [
    "ride_id = \"20194\"\n",
    "conn = pymysql.connect(config.host, user=config.username,port=config.port,\n",
    "       passwd=config.password)\n",
    "\n",
    "ride_table = pd.read_sql_query(\"select * from DisneyDB.Ride where Id = 20194\", conn)\n"
   ]
  },
  {
   "cell_type": "code",
   "execution_count": 5,
   "metadata": {},
   "outputs": [
    {
     "data": {
      "text/html": [
       "<div>\n",
       "<style>\n",
       "    .dataframe thead tr:only-child th {\n",
       "        text-align: right;\n",
       "    }\n",
       "\n",
       "    .dataframe thead th {\n",
       "        text-align: left;\n",
       "    }\n",
       "\n",
       "    .dataframe tbody tr th {\n",
       "        vertical-align: top;\n",
       "    }\n",
       "</style>\n",
       "<table border=\"1\" class=\"dataframe\">\n",
       "  <thead>\n",
       "    <tr style=\"text-align: right;\">\n",
       "      <th></th>\n",
       "      <th>Id</th>\n",
       "      <th>Name</th>\n",
       "      <th>OpeningDate</th>\n",
       "      <th>Tier</th>\n",
       "      <th>Location</th>\n",
       "      <th>ParkId</th>\n",
       "      <th>IntellectualProp</th>\n",
       "      <th>HasWaits</th>\n",
       "      <th>GeoSearchName</th>\n",
       "      <th>Description</th>\n",
       "      <th>Latitude</th>\n",
       "      <th>Longitude</th>\n",
       "    </tr>\n",
       "  </thead>\n",
       "  <tbody>\n",
       "    <tr>\n",
       "      <th>0</th>\n",
       "      <td>20194</td>\n",
       "      <td>Soarin</td>\n",
       "      <td>2005-05-05</td>\n",
       "      <td>super_headliner</td>\n",
       "      <td>Future World</td>\n",
       "      <td>2</td>\n",
       "      <td>None</td>\n",
       "      <td>1</td>\n",
       "      <td>soarin around the world epcot</td>\n",
       "      <td>Take flight on a breathtaking journey as you s...</td>\n",
       "      <td>28.373592</td>\n",
       "      <td>-81.552248</td>\n",
       "    </tr>\n",
       "  </tbody>\n",
       "</table>\n",
       "</div>"
      ],
      "text/plain": [
       "      Id    Name OpeningDate             Tier      Location  ParkId  \\\n",
       "0  20194  Soarin  2005-05-05  super_headliner  Future World       2   \n",
       "\n",
       "  IntellectualProp  HasWaits                  GeoSearchName  \\\n",
       "0             None         1  soarin around the world epcot   \n",
       "\n",
       "                                         Description   Latitude   Longitude  \n",
       "0  Take flight on a breathtaking journey as you s...  28.373592  -81.552248  "
      ]
     },
     "execution_count": 5,
     "metadata": {},
     "output_type": "execute_result"
    }
   ],
   "source": [
    "ride_table"
   ]
  },
  {
   "cell_type": "code",
   "execution_count": 6,
   "metadata": {
    "collapsed": true
   },
   "outputs": [],
   "source": [
    "today_waits = pd.read_sql_query(\"select * from DisneyDB.Ride_Waits_Today where RideId = 20194\",conn)\n",
    "today_predictions = pd.read_sql_query(\"select * from DisneyDB.Ride_Waits_Today_Predicted where RideId = 20194\", conn)"
   ]
  },
  {
   "cell_type": "code",
   "execution_count": 18,
   "metadata": {},
   "outputs": [],
   "source": [
    "current_row = today_waits.iloc[(today_waits.shape[0]-1),:]"
   ]
  },
  {
   "cell_type": "code",
   "execution_count": 25,
   "metadata": {},
   "outputs": [
    {
     "data": {
      "text/plain": [
       "'14:45'"
      ]
     },
     "execution_count": 25,
     "metadata": {},
     "output_type": "execute_result"
    }
   ],
   "source": [
    "latest_time = current_row['Time']\n",
    "latest_time"
   ]
  },
  {
   "cell_type": "code",
   "execution_count": 32,
   "metadata": {},
   "outputs": [
    {
     "data": {
      "text/plain": [
       "datetime.datetime(2018, 10, 27, 14, 45)"
      ]
     },
     "execution_count": 32,
     "metadata": {},
     "output_type": "execute_result"
    }
   ],
   "source": [
    "from pytz import timezone\n",
    "#tz = timezone('US/Eastern')\n",
    "tempTime = datetime.now()\n",
    "tempTime = tempTime.replace(minute = int(latest_time.split(\":\")[1]), hour = int(latest_time.split(\":\")[0]), second = 0, microsecond = 0)\n",
    "tempTime"
   ]
  },
  {
   "cell_type": "code",
   "execution_count": 33,
   "metadata": {
    "collapsed": true
   },
   "outputs": [],
   "source": [
    "today_predictions['Time'] = pd.to_datetime(today_predictions['Time'], infer_datetime_format = True)"
   ]
  },
  {
   "cell_type": "code",
   "execution_count": 35,
   "metadata": {},
   "outputs": [],
   "source": [
    "remaining_predictions = today_predictions[today_predictions['Time'] > tempTime]"
   ]
  },
  {
   "cell_type": "code",
   "execution_count": 39,
   "metadata": {},
   "outputs": [],
   "source": [
    "shortest_wait = min(remaining_predictions['PredictedWait'])"
   ]
  },
  {
   "cell_type": "code",
   "execution_count": 40,
   "metadata": {
    "collapsed": true
   },
   "outputs": [],
   "source": [
    "time_to_come_back = remaining_predictions[remaining_predictions['PredictedWait'] == shortest_wait]['Time']"
   ]
  },
  {
   "cell_type": "code",
   "execution_count": 42,
   "metadata": {},
   "outputs": [],
   "source": [
    "time_to_come_back = time_to_come_back.iloc[0]"
   ]
  },
  {
   "cell_type": "code",
   "execution_count": 47,
   "metadata": {},
   "outputs": [
    {
     "data": {
      "text/plain": [
       "'09:30 PM'"
      ]
     },
     "execution_count": 47,
     "metadata": {},
     "output_type": "execute_result"
    }
   ],
   "source": [
    "time_to_come_back = time_to_come_back.strftime(\"%I:%M %p\")"
   ]
  },
  {
   "cell_type": "code",
   "execution_count": 48,
   "metadata": {},
   "outputs": [
    {
     "data": {
      "text/html": [
       "<div>\n",
       "<style>\n",
       "    .dataframe thead tr:only-child th {\n",
       "        text-align: right;\n",
       "    }\n",
       "\n",
       "    .dataframe thead th {\n",
       "        text-align: left;\n",
       "    }\n",
       "\n",
       "    .dataframe tbody tr th {\n",
       "        vertical-align: top;\n",
       "    }\n",
       "</style>\n",
       "<table border=\"1\" class=\"dataframe\">\n",
       "  <thead>\n",
       "    <tr style=\"text-align: right;\">\n",
       "      <th></th>\n",
       "      <th>id</th>\n",
       "      <th>RideId</th>\n",
       "      <th>Time</th>\n",
       "      <th>PredictedWait</th>\n",
       "      <th>ConfidenceHigh</th>\n",
       "      <th>ConfidenceLow</th>\n",
       "    </tr>\n",
       "  </thead>\n",
       "  <tbody>\n",
       "    <tr>\n",
       "      <th>24</th>\n",
       "      <td>108187</td>\n",
       "      <td>20194</td>\n",
       "      <td>2018-10-27 15:00:00</td>\n",
       "      <td>51</td>\n",
       "      <td>55</td>\n",
       "      <td>47</td>\n",
       "    </tr>\n",
       "    <tr>\n",
       "      <th>25</th>\n",
       "      <td>108188</td>\n",
       "      <td>20194</td>\n",
       "      <td>2018-10-27 15:15:00</td>\n",
       "      <td>50</td>\n",
       "      <td>55</td>\n",
       "      <td>46</td>\n",
       "    </tr>\n",
       "    <tr>\n",
       "      <th>26</th>\n",
       "      <td>108189</td>\n",
       "      <td>20194</td>\n",
       "      <td>2018-10-27 15:30:00</td>\n",
       "      <td>50</td>\n",
       "      <td>55</td>\n",
       "      <td>45</td>\n",
       "    </tr>\n",
       "    <tr>\n",
       "      <th>27</th>\n",
       "      <td>108190</td>\n",
       "      <td>20194</td>\n",
       "      <td>2018-10-27 15:45:00</td>\n",
       "      <td>52</td>\n",
       "      <td>60</td>\n",
       "      <td>45</td>\n",
       "    </tr>\n",
       "  </tbody>\n",
       "</table>\n",
       "</div>"
      ],
      "text/plain": [
       "        id  RideId                Time  PredictedWait  ConfidenceHigh  \\\n",
       "24  108187   20194 2018-10-27 15:00:00             51              55   \n",
       "25  108188   20194 2018-10-27 15:15:00             50              55   \n",
       "26  108189   20194 2018-10-27 15:30:00             50              55   \n",
       "27  108190   20194 2018-10-27 15:45:00             52              60   \n",
       "\n",
       "    ConfidenceLow  \n",
       "24             47  \n",
       "25             46  \n",
       "26             45  \n",
       "27             45  "
      ]
     },
     "execution_count": 48,
     "metadata": {},
     "output_type": "execute_result"
    }
   ],
   "source": [
    "remaining_predictions.iloc[0:4]"
   ]
  },
  {
   "cell_type": "code",
   "execution_count": null,
   "metadata": {
    "collapsed": true
   },
   "outputs": [],
   "source": []
  }
 ],
 "metadata": {
  "kernelspec": {
   "display_name": "Python 3",
   "language": "python",
   "name": "python3"
  },
  "language_info": {
   "codemirror_mode": {
    "name": "ipython",
    "version": 3
   },
   "file_extension": ".py",
   "mimetype": "text/x-python",
   "name": "python",
   "nbconvert_exporter": "python",
   "pygments_lexer": "ipython3",
   "version": "3.6.2"
  }
 },
 "nbformat": 4,
 "nbformat_minor": 2
}
