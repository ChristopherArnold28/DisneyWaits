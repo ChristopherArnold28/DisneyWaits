{
 "cells": [
  {
   "cell_type": "code",
   "execution_count": null,
   "metadata": {},
   "outputs": [],
   "source": [
    "import disney_parks"
   ]
  },
  {
   "cell_type": "code",
   "execution_count": 1,
   "metadata": {},
   "outputs": [],
   "source": [
    "host = \"disneydbinstance.c9lxpmnhtw8a.us-east-2.rds.amazonaws.com\"\n",
    "dbname = \"DisneyDB\"\n",
    "username = \"chrisArnold1228\"\n",
    "password = \"Simba49ers!\"\n",
    "port = 3306\n",
    "weatherAPI = \"686f48c707798f004bf424ed785b2c27\""
   ]
  },
  {
   "cell_type": "code",
   "execution_count": 2,
   "metadata": {},
   "outputs": [],
   "source": [
    "import pymysql\n",
    "import re\n",
    "from datetime import datetime\n",
    "from pytz import timezone\n",
    "import pandas as pd\n",
    "tz = timezone('US/Eastern')"
   ]
  },
  {
   "cell_type": "code",
   "execution_count": null,
   "metadata": {},
   "outputs": [],
   "source": [
    "park_ids = open(\"parkIds.txt\", \"r\")\n",
    "string = park_ids.read()\n",
    "park_list = str.splitlines(string)\n",
    "ids = [x.split(':')[1] for x in park_list]\n",
    "\n",
    "conn = pymysql.connect(host, user=username,port=port,passwd=password)\n",
    "cur = conn.cursor()\n",
    "\n",
    "for current_id in ids:\n",
    "    #print(current_id)\n",
    "    park = disney_parks.Park(current_id)\n",
    "    current_park_name = park.getParkName().replace(\"'\",\"\")\n",
    "    query = \"select * from DisneyDB.Park where Name = '\" + current_park_name + \"'\"\n",
    "    park_table = pd.read_sql_query(query, conn)\n",
    "    if park_table.shape[0] < 1:\n",
    "        insert_park = \"insert into DisneyDB.Park (Name) values ('%s')\" %(current_park_name)\n",
    "        cur.execute(insert_park)\n",
    "        conn.commit()\n",
    "        park_table = pd.read_sql_query(query, conn)\n",
    "\n",
    "    park_db_id = park_table['Id'][0]\n",
    "    park_hours = park.getTodayParkHours()\n",
    "\n",
    "    today = park_hours['park_open'].strftime('%Y-%m-%d')\n",
    "    park_open = park_hours['park_open'].strftime('%I:%M %p') if park_hours['park_open'] is not None else 'None'\n",
    "    park_close= park_hours['park_close'].strftime('%I:%M %p') if park_hours['park_close'] is not None else 'None'\n",
    "    emh_open = park_hours['emh_open'].strftime('%I:%M %p') if park_hours['emh_open'] is not None else 'None'\n",
    "    emh_close = park_hours['emh_close'].strftime('%I:%M %p') if park_hours['emh_close'] is not None else 'None'\n",
    "    # special_open = park_hours['special_open'].strftime('%I:%M %p') if park_hours['special_open'] is not None else 'None'\n",
    "    # special_close = park_hours['special_close'].strftime('%I:%M %p') if park_hours['special_close'] is not None else 'None'\n",
    "    query = \"insert into DisneyDB.ParkHours (Date, ParkId, ParkOpen, ParkClose, EMHOpen, EMHClose) values ('%s', %i, '%s','%s','%s','%s')\"%(today, park_db_id, park_open, park_close, emh_open, emh_close)\n",
    "    cur.execute(query)\n",
    "    conn.commit()\n"
   ]
  },
  {
   "cell_type": "code",
   "execution_count": null,
   "metadata": {},
   "outputs": [],
   "source": [
    "#that got me the operating park hours\n",
    "#now we should look at wait times per attraction grouped by park"
   ]
  },
  {
   "cell_type": "code",
   "execution_count": 3,
   "metadata": {
    "scrolled": true
   },
   "outputs": [
    {
     "name": "stdout",
     "output_type": "stream",
     "text": [
      "Working On Park:Magic Kingdom Park\n",
      "Working On Park:Epcot\n",
      "Working On Park:Disneys Hollywood Studios\n",
      "Working On Park:Disneys Animal Kingdom Theme Park\n",
      "Working On Park:Disneyland Park\n",
      "Working On Park:Disney California Adventure Park\n",
      "Working On Park:Disneys Typhoon Lagoon Water Park\n",
      "Working On Park:Disneys Blizzard Beach Water Park\n",
      "success at 14:12\n"
     ]
    }
   ],
   "source": [
    "import disney_parks\n",
    "import pymysql\n",
    "import pandas as pd\n",
    "from disney_attractions import Attraction\n",
    "from disney_entertainment import Entertainment\n",
    "\n",
    "conn = pymysql.connect(host, user=username,port=port,passwd=password)\n",
    "cur = conn.cursor()\n",
    "\n",
    "p_ids = open(\"parkIds.txt\", \"r\")\n",
    "string = p_ids.read()\n",
    "park_list = str.splitlines(string)\n",
    "ids = [x.split(':')[-1] for x in park_list]\n",
    "\n",
    "att_ids = open(\"attractionIds.txt\", \"r\")\n",
    "string = att_ids.read()\n",
    "att_list = str.splitlines(string)\n",
    "attraction_ids = [x.split(':')[-1] for x in att_list]\n",
    "\n",
    "ent_ids = open(\"entertainment.txt\", \"r\")\n",
    "string = ent_ids.read()\n",
    "ent_list = str.splitlines(string)\n",
    "entertainment_ids = [x.split(':')[-1] for x in ent_list]\n",
    "\n",
    "for current_id in ids:\n",
    "    tz = timezone('US/Eastern')\n",
    "    park = disney_parks.Park(current_id)\n",
    "    current_park_name = park.getParkName().replace(\"'\",\"\")\n",
    "    print(\"Working On Park:\" + str(current_park_name))\n",
    "\n",
    "    query = \"select * from DisneyDB.Park where Name = '\" + current_park_name + \"'\"\n",
    "    park_table = pd.read_sql_query(query, conn)\n",
    "    if park_table.shape[0] < 1:\n",
    "        insert_park = \"insert into DisneyDB.Park (Name) values ('%s')\" %(current_park_name)\n",
    "        cur.execute(insert_park)\n",
    "        conn.commit()\n",
    "        park_table = pd.read_sql_query(query, conn)\n",
    "\n",
    "    park_db_id = park_table['Id'][0]\n",
    "    if (park_db_id == 10) or (park_db_id == 11):\n",
    "        tz = timezone('US/Pacific')\n",
    "    #get our wait times\n",
    "\n",
    "    time = datetime.now(tz)\n",
    "    date = time.date()\n",
    "    time = time.time().strftime(\"%H:%M\")\n",
    "\n",
    "    wait_times = park.getCurrentWaitTimes()\n",
    "    for key, wait_dict in wait_times.items():\n",
    "        is_attraction = False\n",
    "        is_entertainment = False\n",
    "        if key in attraction_ids:\n",
    "            is_attraction = True\n",
    "            #print(\"this is an attraction\")\n",
    "        elif key in entertainment_ids:\n",
    "            is_entertainment = True\n",
    "            #print(\"this is entertainment\")\n",
    "        else:\n",
    "            #print(\"bad_key\")\n",
    "            #print(wait_dict)\n",
    "            continue\n",
    "\n",
    "        #print(key)\n",
    "        #print(wait_dict)\n",
    "        #check if that id exists in the ride table\n",
    "        key = key.strip()\n",
    "        search_query = \"select * from DisneyDB.Ride where Id = \" + key\n",
    "        ride_table = pd.read_sql_query(search_query, conn)\n",
    "        #print(ride_table.shape)\n",
    "        if ride_table.shape[0] < 1:\n",
    "            if is_attraction:\n",
    "                #print(\"finding an attraction\")\n",
    "                current_attraction = Attraction(key)\n",
    "                name = current_attraction.getAttractionName()\n",
    "                #print(name)\n",
    "                location = current_attraction.getAncestorLand()\n",
    "\n",
    "            elif is_entertainment:\n",
    "                #print(\"finding an entertainment\")\n",
    "                current_entertainment = Entertainment(key)\n",
    "                name = current_entertainment.getEntertainmentName()\n",
    "                #print(name)\n",
    "                location = current_entertainment.getAncestorLand()\n",
    "\n",
    "            query = \"insert into DisneyDB.Ride (Id, Name, Location, ParkId) values (%i, '%s', '%s', %i)\"%(int(key),name,location,park_db_id)\n",
    "            #print(query)\n",
    "            cur.execute(query)\n",
    "            conn.commit()\n",
    "\n",
    "            ride_table = pd.read_sql_query(search_query, conn)\n",
    "\n",
    "        db_ride_id = ride_table[\"Id\"][0]\n",
    "\n",
    "\n",
    "        if 'wait_time' in wait_dict:\n",
    "            current_wait = wait_dict['wait_time']\n",
    "            query = \"insert into DisneyDB.Ride_Waits_Today (RideId, Date, Time, Wait) values (%i, '%s','%s', %i)\"%(db_ride_id, date, time, current_wait)\n",
    "            cur.execute(query)\n",
    "            conn.commit()\n",
    "\n",
    "        current_status = \"No Status to Report\"\n",
    "        fastpass_availability = \"Not a fastpass attraction\"\n",
    "        if 'status' in wait_dict:\n",
    "            current_status = wait_dict['status']\n",
    "\n",
    "        if 'fast_pass_info' in wait_dict:\n",
    "            fast_pass_dict = wait_dict['fast_pass_info']\n",
    "            if fast_pass_dict['available']:\n",
    "                fastpass_availability = \"Fastpasses are Available Today\"\n",
    "                if 'startTime' in fast_pass_dict:\n",
    "                    if fast_pass_dict['startTime'] == \"FASTPASS is Not Available\":\n",
    "                        fastpass_availability = \"Fastpasses are no longer Available Today\"\n",
    "            else:\n",
    "                fastpass_availability = \"Not a fastpass attraction\"\n",
    "\n",
    "        query = \"replace into DisneyDB.Ride_Current_Status (RideId, Status, FastPassAvailable) values (%i, '%s', '%s')\"%(db_ride_id, current_status, fastpass_availability)\n",
    "        cur.execute(query)\n",
    "        conn.commit()\n",
    "print(\"success at \" + str(time))"
   ]
  },
  {
   "cell_type": "code",
   "execution_count": null,
   "metadata": {},
   "outputs": [],
   "source": [
    "# testing disneyland \n",
    "current_id =  \"80007823\""
   ]
  },
  {
   "cell_type": "code",
   "execution_count": null,
   "metadata": {},
   "outputs": [],
   "source": [
    "import disney_parks\n",
    "import pymysql\n",
    "import pandas as pd\n",
    "from disney_attractions import Attraction\n",
    "from disney_entertainment import Entertainment\n",
    "conn = pymysql.connect(host, user=username,port=port,passwd=password)\n",
    "cur = conn.cursor()\n",
    "att_ids = open(\"attractionIds.txt\", \"r\")\n",
    "string = att_ids.read()\n",
    "att_list = str.splitlines(string)\n",
    "attraction_ids = [x.split(':')[-1] for x in att_list]\n",
    "\n",
    "ent_ids = open(\"entertainment.txt\", \"r\")\n",
    "string = ent_ids.read()\n",
    "ent_list = str.splitlines(string)\n",
    "entertainment_ids = [x.split(':')[-1] for x in ent_list]\n",
    "\n",
    "tz = timezone('US/Eastern')\n",
    "park = disney_parks.Park(current_id)\n",
    "current_park_name = park.getParkName().replace(\"'\",\"\")\n",
    "print(\"Working On Park:\" + str(current_park_name))\n",
    "\n",
    "query = \"select * from DisneyDB.Park where Name = '\" + current_park_name + \"'\"\n",
    "park_table = pd.read_sql_query(query, conn)\n",
    "if park_table.shape[0] < 1:\n",
    "    insert_park = \"insert into DisneyDB.Park (Name) values ('%s')\" %(current_park_name)\n",
    "    cur.execute(insert_park)\n",
    "    conn.commit()\n",
    "    park_table = pd.read_sql_query(query, conn)\n",
    "\n",
    "park_db_id = park_table['Id'][0]\n",
    "if (park_db_id == 10) or (park_db_id == 11):\n",
    "    tz = timezone('US/Pacific')\n",
    "#get our wait times\n",
    "\n",
    "time = datetime.now(tz)\n",
    "date = time.date()\n",
    "time = time.time().strftime(\"%H:%M\")\n",
    "\n",
    "wait_times = park.getCurrentWaitTimes()\n",
    "for key, wait_dict in wait_times.items():\n",
    "    is_attraction = False\n",
    "    is_entertainment = False\n",
    "    if key in attraction_ids:\n",
    "        is_attraction = True\n",
    "        #print(\"this is an attraction\")\n",
    "    elif key in entertainment_ids:\n",
    "        is_entertainment = True\n",
    "        print(\"this is entertainment\")\n",
    "    else:\n",
    "        #print(\"bad_key\")\n",
    "        #print(wait_dict)\n",
    "        continue\n",
    "\n",
    "    #print(key)\n",
    "    #print(wait_dict)\n",
    "    #check if that id exists in the ride table\n",
    "    key = key.strip()\n",
    "    search_query = \"select * from DisneyDB.Ride where Id = \" + key\n",
    "    ride_table = pd.read_sql_query(search_query, conn)\n",
    "    #print(ride_table.shape)\n",
    "    if ride_table.shape[0] < 1:\n",
    "        if is_attraction:\n",
    "            print(\"finding an attraction\")\n",
    "            current_attraction = Attraction(key)\n",
    "            name = current_attraction.getAttractionName()\n",
    "            print(name)\n",
    "            location = current_attraction.getAncestorLand()\n",
    "\n",
    "        elif is_entertainment:\n",
    "            print(\"finding an entertainment\")\n",
    "            current_entertainment = Entertainment(key)\n",
    "            name = current_entertainment.getEntertainmentName()\n",
    "            print(name)\n",
    "            location = current_entertainment.getAncestorLand()\n",
    "\n",
    "        query = \"insert into DisneyDB.Ride (Id, Name, Location, ParkId) values (%i, '%s', '%s', %i)\"%(int(key),name,location,park_db_id)\n",
    "        print(query)\n",
    "        cur.execute(query)\n",
    "        conn.commit()\n",
    "\n",
    "        ride_table = pd.read_sql_query(search_query, conn)\n",
    "\n",
    "    db_ride_id = ride_table[\"Id\"][0]\n",
    "\n",
    "\n",
    "    if 'wait_time' in wait_dict:\n",
    "        current_wait = wait_dict['wait_time']\n",
    "        print(str(db_ride_id) + \" \" + str(current_wait))\n",
    "        #query = \"insert into DisneyDB.Ride_Waits_Today (RideId, Date, Time, Wait) values (%i, '%s','%s', %i)\"%(db_ride_id, date, time, current_wait)\n",
    "        #cur.execute(query)\n",
    "        #conn.commit()"
   ]
  },
  {
   "cell_type": "code",
   "execution_count": null,
   "metadata": {},
   "outputs": [],
   "source": [
    "siteString = \"https://touringplans.com//\" + \"animal-kingdom\" + \"/attractions.json\""
   ]
  },
  {
   "cell_type": "code",
   "execution_count": null,
   "metadata": {},
   "outputs": [],
   "source": [
    "import requests\n",
    "r = requests.get(siteString)\n",
    "jsonData = r.json()"
   ]
  },
  {
   "cell_type": "code",
   "execution_count": null,
   "metadata": {},
   "outputs": [],
   "source": [
    "jsonData"
   ]
  },
  {
   "cell_type": "code",
   "execution_count": null,
   "metadata": {},
   "outputs": [],
   "source": [
    "for item in jsonData:\n",
    "    print(item['name'])"
   ]
  },
  {
   "cell_type": "code",
   "execution_count": null,
   "metadata": {},
   "outputs": [],
   "source": [
    "from bs4 import BeautifulSoup\n",
    "import pandas as pd\n",
    "import requests\n",
    "import re\n",
    "import pymysql\n",
    "\n",
    "locations = [{\"name\":\"Magic Kingdom Park\", \"linkName\":\"magic-kingdom\"},\n",
    "            {\"name\":\"EpCot\",\"linkName\":\"epcot\"},\n",
    "            {\"name\":\"Disneys Hollywood Studios\",\"linkName\":\"hollywood-studios\"},\n",
    "            {\"name\":\"Disneys Animal Kingdom Theme Park\",\"linkName\":\"animal-kingdom\"}]\n",
    "\n",
    "conn = pymysql.connect(host, user=username,port=port,passwd=password)\n",
    "\n",
    "cur = conn.cursor()\n",
    "\n",
    "for location in locations:\n",
    "    locationName = location[\"name\"]\n",
    "    linkName = location[\"linkName\"]\n",
    "    locationQuery = \"select * from DisneyDB.Park where name = '\" + locationName +\"'\"\n",
    "    df = pd.read_sql_query(locationQuery,conn)\n",
    "    if len(df.index) == 0:\n",
    "        insertLocation = \"insert into DisneyDB.Park (Name) values ('\"+ locationName + \"')\"\n",
    "        cur.execute(insertLocation)\n",
    "        df = pd.read_sql_query(locationQuery,conn)\n",
    "        conn.commit()\n",
    "    locationId = df['Id'][0]\n",
    "    siteString = \"https://touringplans.com//\" + linkName + \"/attractions.json\"\n",
    "    r = requests.get(siteString)\n",
    "    jsonData = r.json()\n",
    "    #print(jsonData)\n",
    "    for ride in jsonData:\n",
    "        tableName = ride[\"name\"]\n",
    "        rideName = ride[\"permalink\"]\n",
    "        #tableName = tableName.replace(\" \", \"-\")\n",
    "        tableName = tableName.replace(\"'\",\"\")\n",
    "        tableName = tableName.replace(u\"\\u2019\",\"\")\n",
    "        tableName = tableName.replace(\"&\", \"and\")\n",
    "        tableName = tableName.replace(\": \",\" - \")\n",
    "        print(rideName)\n",
    "        attractionString = \"https://touringplans.com/\"+linkName+\"/attractions/\"+rideName+\".json\"\n",
    "        rideRequest = requests.get(attractionString)\n",
    "        rideJson = rideRequest.json()\n",
    "        #print(rideJson[\"name\"] + \" opened on \" + str(rideJson[\"opened_on\"]))\n",
    "        rideQuery = \"select * from DisneyDB.Ride where name = '\"+ tableName + \"'\"\n",
    "        rideTable = pd.read_sql_query(rideQuery, conn)\n",
    "        if len(rideTable.index) == 0:\n",
    "            insertRide = \"insert into DisneyDB.Ride (Name, OpeningDate, Tier, ParkId) values ('\" + tableName + \"','\"+ str(rideJson[\"opened_on\"]) + \"','\"+ str(rideJson[\"scope_and_scale_code\"])+ \"',\"+str(locationId)+\")\"\n",
    "        else:\n",
    "            rideId = rideTable['Id'][0]\n",
    "            insertRide = \"update DisneyDB.Ride set OpeningDate='\"+ str(rideJson[\"opened_on\"]) + \"', Tier = '\"+ str(rideJson[\"scope_and_scale_code\"])+ \"' where Id = \"+ str(rideId)\n",
    "        cur.execute(insertRide)\n",
    "        conn.commit()\n"
   ]
  },
  {
   "cell_type": "code",
   "execution_count": null,
   "metadata": {},
   "outputs": [],
   "source": [
    "#can we get restaurants\n",
    "import disney_parks\n",
    "import pymysql\n",
    "import pandas as pd\n",
    "from disney_attractions import Attraction\n",
    "from disney_entertainment import Entertainment"
   ]
  },
  {
   "cell_type": "code",
   "execution_count": null,
   "metadata": {},
   "outputs": [],
   "source": [
    "animal_kingdom = disney_parks.Park('80007834')"
   ]
  },
  {
   "cell_type": "code",
   "execution_count": null,
   "metadata": {},
   "outputs": [],
   "source": [
    "animal_kingdom"
   ]
  },
  {
   "cell_type": "code",
   "execution_count": null,
   "metadata": {},
   "outputs": [],
   "source": [
    "animal_kingdom.getParkData()"
   ]
  },
  {
   "cell_type": "code",
   "execution_count": null,
   "metadata": {},
   "outputs": [],
   "source": [
    "data = animal_kingdom.getParkData()"
   ]
  },
  {
   "cell_type": "code",
   "execution_count": null,
   "metadata": {},
   "outputs": [],
   "source": [
    "data.keys()"
   ]
  },
  {
   "cell_type": "code",
   "execution_count": null,
   "metadata": {},
   "outputs": [],
   "source": [
    "data['webLinks']"
   ]
  },
  {
   "cell_type": "code",
   "execution_count": null,
   "metadata": {},
   "outputs": [],
   "source": [
    "import requests\n",
    "import json\n",
    "import sys\n",
    "from datetime import datetime, timedelta\n",
    "from disney_auth import get_header\n",
    "from disney_parks import Park"
   ]
  },
  {
   "cell_type": "code",
   "execution_count": null,
   "metadata": {},
   "outputs": [],
   "source": [
    "import disney_attractions"
   ]
  },
  {
   "cell_type": "code",
   "execution_count": null,
   "metadata": {},
   "outputs": [],
   "source": [
    "attraction = disney_attractions.Attraction(\"353303\")"
   ]
  },
  {
   "cell_type": "code",
   "execution_count": null,
   "metadata": {},
   "outputs": [],
   "source": [
    "import disney_parks\n",
    "import pymysql\n",
    "import pandas as pd\n",
    "from disney_attractions import Attraction\n",
    "from disney_entertainment import Entertainment\n",
    "conn = pymysql.connect(host, user=username,port=port,passwd=password)\n",
    "cur = conn.cursor()\n",
    "att_ids = open(\"attractionIds.txt\", \"r\")\n",
    "string = att_ids.read()\n",
    "att_list = str.splitlines(string)\n",
    "attraction_ids = [x.split(':')[-1] for x in att_list]\n",
    "\n",
    "ent_ids = open(\"entertainment.txt\", \"r\")\n",
    "string = ent_ids.read()\n",
    "ent_list = str.splitlines(string)\n",
    "entertainment_ids = [x.split(':')[-1] for x in ent_list]\n",
    "\n"
   ]
  },
  {
   "cell_type": "code",
   "execution_count": null,
   "metadata": {},
   "outputs": [],
   "source": [
    "rides = pd.read_sql_query(\"select * from DisneyDB.Ride\", conn)"
   ]
  },
  {
   "cell_type": "code",
   "execution_count": null,
   "metadata": {},
   "outputs": [],
   "source": [
    "ride_ids = rides['Id']"
   ]
  },
  {
   "cell_type": "code",
   "execution_count": null,
   "metadata": {},
   "outputs": [],
   "source": [
    "list(ride_ids)"
   ]
  },
  {
   "cell_type": "code",
   "execution_count": null,
   "metadata": {
    "scrolled": true
   },
   "outputs": [],
   "source": [
    "for ride in list(ride_ids):\n",
    "    if str(ride) in attraction_ids:\n",
    "#         this_ride = Attraction(str(ride))\n",
    "#         ride_data = this_ride.getAttractionData()\n",
    "#         if 'descriptions' in ride_data:\n",
    "#             print(\"updating description for \" + str(this_ride.getAttractionName()))\n",
    "#             ride_description = this_ride.getMobileDescription()\n",
    "            \n",
    "#             query = 'update DisneyDB.Ride set Description = \"%s\" where Id = %i'%(ride_description, int(ride))\n",
    "#             cur.execute(query)\n",
    "#             conn.commit()\n",
    "            \n",
    "        \"do some stuff and handle as an attraction\"\n",
    "        \n",
    "    elif str(ride) in entertainment_ids:\n",
    "        this_ride = Entertainment(str(ride))\n",
    "        ride_data = this_ride.getEntertainmentData()\n",
    "        if 'descriptions' in ride_data:\n",
    "            print(\"updating description for \" + str(this_ride.getEntertainmentName()))\n",
    "            ride_description = this_ride.getMobileDescription()\n",
    "            \n",
    "            query = 'update DisneyDB.Ride set Description = \"%s\" where Id = %i'%(ride_description, int(ride))\n",
    "            cur.execute(query)\n",
    "            conn.commit()\n",
    "        "
   ]
  },
  {
   "cell_type": "code",
   "execution_count": null,
   "metadata": {},
   "outputs": [],
   "source": [
    "test_case = Attraction(\"80010110\")"
   ]
  },
  {
   "cell_type": "code",
   "execution_count": null,
   "metadata": {},
   "outputs": [],
   "source": [
    "string = test_case.getMobileDescription()"
   ]
  },
  {
   "cell_type": "code",
   "execution_count": null,
   "metadata": {},
   "outputs": [],
   "source": [
    "data = test_case.getAttractionData()"
   ]
  },
  {
   "cell_type": "code",
   "execution_count": null,
   "metadata": {},
   "outputs": [],
   "source": [
    "data.keys()"
   ]
  },
  {
   "cell_type": "code",
   "execution_count": null,
   "metadata": {},
   "outputs": [],
   "source": [
    "data['fastPass']"
   ]
  },
  {
   "cell_type": "code",
   "execution_count": null,
   "metadata": {},
   "outputs": [],
   "source": [
    "string = data['descriptions']['shortDescriptionMobile']['text'].replace(u\"\\u201c\",\" \").replace(u\"\\u201d\",\" \").replace(u\"\\u2019\",\" \").replace(u\"\\u2014\", \" \").replace(u\"\\u2022\", \" \").replace(u\"\\u2026\", \" \").replace(u\"\\u2013\", \" \")\n",
    "string = string.replace(u\"\\u2018\", \" \").replace(u\"\\u2122\", \" \")\n",
    "string = string.replace('\"', \"'\")\n",
    "string = re.sub(\"<.?a.*?>\",\"\",string)"
   ]
  },
  {
   "cell_type": "code",
   "execution_count": null,
   "metadata": {},
   "outputs": [],
   "source": [
    "import re"
   ]
  },
  {
   "cell_type": "code",
   "execution_count": null,
   "metadata": {},
   "outputs": [],
   "source": [
    "re.findall(\"<a.*>.*</a>\", string)"
   ]
  },
  {
   "cell_type": "code",
   "execution_count": null,
   "metadata": {},
   "outputs": [],
   "source": [
    "strings = re.split(\"<a.*>.*</a>\", string)"
   ]
  },
  {
   "cell_type": "code",
   "execution_count": null,
   "metadata": {},
   "outputs": [],
   "source": [
    "strings"
   ]
  },
  {
   "cell_type": "code",
   "execution_count": null,
   "metadata": {},
   "outputs": [],
   "source": [
    "replacement = re.findall(\"<a.*>.*</a>\", string)"
   ]
  },
  {
   "cell_type": "code",
   "execution_count": null,
   "metadata": {},
   "outputs": [],
   "source": [
    "found_occurance = replacement[0]"
   ]
  },
  {
   "cell_type": "code",
   "execution_count": null,
   "metadata": {},
   "outputs": [],
   "source": [
    "new_string = re.sub(\"<.*?>\",\"\",found_occurance)"
   ]
  },
  {
   "cell_type": "code",
   "execution_count": null,
   "metadata": {},
   "outputs": [],
   "source": [
    "new_string"
   ]
  },
  {
   "cell_type": "code",
   "execution_count": null,
   "metadata": {},
   "outputs": [],
   "source": [
    "bad_string = re.findall(\"<a.*>.*</a?>\", string)\n",
    "if len(bad_string) > 1:\n",
    "    new_string = \"\"\n",
    "    strings = re.split(\"<a.*>.*</a?>\", string)\n",
    "    for i in range(len(strings) - 1):\n",
    "        print(i)\n",
    "        current_occurance = bad_string[i]\n",
    "        corrected =  \n",
    "    "
   ]
  },
  {
   "cell_type": "code",
   "execution_count": null,
   "metadata": {},
   "outputs": [],
   "source": [
    "strings = re.sub(\"<.?a.*?>\",\"\",string)"
   ]
  },
  {
   "cell_type": "code",
   "execution_count": null,
   "metadata": {},
   "outputs": [],
   "source": [
    "strings"
   ]
  },
  {
   "cell_type": "code",
   "execution_count": null,
   "metadata": {},
   "outputs": [],
   "source": [
    "string"
   ]
  },
  {
   "cell_type": "code",
   "execution_count": null,
   "metadata": {},
   "outputs": [],
   "source": [
    "magic_kingdom = disney_parks.Park(\"80007944\")"
   ]
  },
  {
   "cell_type": "code",
   "execution_count": null,
   "metadata": {},
   "outputs": [],
   "source": [
    "wait_time_data = magic_kingdom.getCurrentWaitTimes()"
   ]
  },
  {
   "cell_type": "code",
   "execution_count": null,
   "metadata": {},
   "outputs": [],
   "source": [
    "wait_time_data"
   ]
  },
  {
   "cell_type": "code",
   "execution_count": null,
   "metadata": {},
   "outputs": [],
   "source": [
    "authenticaion = get_header()"
   ]
  },
  {
   "cell_type": "code",
   "execution_count": null,
   "metadata": {},
   "outputs": [],
   "source": [
    "from disney_auth import get_header\n",
    "import requests\n",
    "import json"
   ]
  },
  {
   "cell_type": "code",
   "execution_count": null,
   "metadata": {},
   "outputs": [],
   "source": [
    "authentication = get_header()"
   ]
  },
  {
   "cell_type": "code",
   "execution_count": null,
   "metadata": {},
   "outputs": [],
   "source": [
    "s = requests.get(\"https://api.wdpro.disney.go.com/facility-service/theme-parks/{}/wait-times\".format(\"80007944\"), headers=authentication)\n",
    "wait_data = json.loads(s.content)"
   ]
  },
  {
   "cell_type": "code",
   "execution_count": null,
   "metadata": {},
   "outputs": [],
   "source": [
    "wait_data"
   ]
  },
  {
   "cell_type": "code",
   "execution_count": null,
   "metadata": {},
   "outputs": [],
   "source": []
  }
 ],
 "metadata": {
  "kernelspec": {
   "display_name": "Python 3",
   "language": "python",
   "name": "python3"
  },
  "language_info": {
   "codemirror_mode": {
    "name": "ipython",
    "version": 3
   },
   "file_extension": ".py",
   "mimetype": "text/x-python",
   "name": "python",
   "nbconvert_exporter": "python",
   "pygments_lexer": "ipython3",
   "version": "3.6.2"
  }
 },
 "nbformat": 4,
 "nbformat_minor": 2
}
