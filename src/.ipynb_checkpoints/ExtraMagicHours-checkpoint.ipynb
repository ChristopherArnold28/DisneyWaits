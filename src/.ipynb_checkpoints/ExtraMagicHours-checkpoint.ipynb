{
 "cells": [
  {
   "cell_type": "code",
   "execution_count": 1,
   "metadata": {},
   "outputs": [],
   "source": [
    "import sys\n",
    "import pandas as pd\n",
    "import numpy as np\n",
    "from datetime import datetime\n",
    "import matplotlib.pyplot as plt\n",
    "import pymysql\n",
    "import config\n",
    "%matplotlib inline\n",
    "import seaborn as sns"
   ]
  },
  {
   "cell_type": "code",
   "execution_count": 2,
   "metadata": {},
   "outputs": [],
   "source": [
    "conn = pymysql.connect(config.host, user=config.username,port=config.port,\n",
    "                           passwd=config.password)\n",
    "\n",
    "#gather all historical data to build model\n",
    "RideWaits = pd.read_sql_query(\"call DisneyDB.RideWaitQuery('2,7,8,9')\", conn)"
   ]
  },
  {
   "cell_type": "markdown",
   "metadata": {},
   "source": [
    "## The Magic Behind Magic Hours"
   ]
  },
  {
   "cell_type": "markdown",
   "metadata": {},
   "source": [
    "Extra magic hours are one of the larger draws to signing on to stay on property at Walt Disney World Resort. The benefit of being able to glamorously walk into the park an hour before all the other plebians or stay an hour later is one that most assume is well worth the extra cost of the Disney sponsored Resort hotel. Is it worth it in terms of wait times? And if you had to maximize your day around extra magic hours, how would you do it? Do extra magic hours make more of a difference at certain parks, times of day, tiers of rides? I'll try and answer these questions, and see if I can give any helpful advice when deciding which day to give yourself a little extra magic."
   ]
  },
  {
   "cell_type": "markdown",
   "metadata": {},
   "source": [
    "### A Brief History\n",
    "If you're still wondering what an Extra Magic Hour is or how you sign up for one, don't worry I'll explain. The first thing you usually do at the infancy stages of planning your vacation to Walt Disney World Resort is settle on a hotel, or at least compile a list of hotel options. To convince you to stay on property (in one of the 25+ Disney owned and managed hotels) Disney has included some perks attached to Resort life. These perks include:\n",
    "\n",
    "* Free Transportation between the airport and your resort\n",
    "* Free MagicBands\n",
    "* Free parking and transportation between resorts and parks\n",
    "* Access to a Disney Dining Plan\n",
    "* FastPass+ Reservations at 60 days from your vacation\n",
    "* <b> Extra Magic Hours </b> \n",
    "\n",
    "The idea here is that Disney is rewarding you for spending the extra cash to stay within close proximity of the parks. Personally I always recommend staying on property. It has a different feel entirely. From the moment you drive under that Walt Disney World arch you are now under the magical spell of the mouse and won't lose that feeling until you check out at the end of your stay. \n",
    "\n",
    "So back to Extra Magic Hours. You picked your hotel and you decided to stay on property. Good choice. You're planning what days to go to what park and you notice that one of the days you're thinking of going to Magic Kingdom has two sets of hours, and one has a tag of Extra Magic Hours by it. Well what's the difference? Since you chose to stay on property, you are now viewed as first class under the eyes of Disney. This Extra Magic Hour entitles you to expereince a select list of attractions before the park opens to the general public. The thought is that if you get to the park before the general public, you may be able to experience some of the highest priority rides with much shorter waits, or get those much desired pictures in front of the castle without a sea of humans photobombing you. There is no sign up for Extra Magic Hours, you just show up with your magic band and walk right in. The caveat is that most days only have one park with Extra Magic Hours, and typically it is either only in the morning or the evening, not both. \n",
    "\n",
    "The thought is that since a large number of people stay on resort property, the one park with Extra Magic Hours that day draws the largest percentage of people from the resorts. This surges the park with the bonus hours and tends to deplete the others. So now we have the question of, is it worth it? Should I go to or avoid that park that day?"
   ]
  },
  {
   "cell_type": "code",
   "execution_count": 3,
   "metadata": {},
   "outputs": [],
   "source": [
    "RideWaits[\"RideId\"] = pd.Categorical(RideWaits[\"RideId\"])\n",
    "#RideWaits[\"Status\"] = pd.Categorical(RideWaits[\"Status\"])\n",
    "RideWaits[\"ParkId\"] = pd.Categorical(RideWaits[\"ParkId\"])\n",
    "RideWaits[\"Tier\"] = pd.Categorical(RideWaits[\"Tier\"])\n",
    "RideWaits[\"ParkName\"] = pd.Categorical(RideWaits[\"ParkName\"])\n",
    "RideWaits[\"IntellectualProp\"] = pd.Categorical(RideWaits[\"IntellectualProp\"])\n",
    "RideWaits[\"Date\"] = pd.to_datetime(RideWaits[\"Date\"], infer_datetime_format = True)\n",
    "RideWaits[\"OpeningDate\"] = pd.to_datetime(RideWaits[\"OpeningDate\"], infer_datetime_format = True)\n",
    "RideWaits[\"Time\"] = pd.to_datetime(RideWaits[\"Time\"], format = '%H:%M').dt.time\n",
    "RideWaits[\"ParkOpen\"] = pd.to_datetime(RideWaits[\"ParkOpen\"], format = '%I:%M %p').dt.strftime('%H:%M')\n",
    "RideWaits[\"ParkOpen\"] = pd.to_datetime(RideWaits[\"ParkOpen\"], format = '%H:%M').dt.time\n",
    "RideWaits[\"ParkClose\"] = pd.to_datetime(RideWaits[\"ParkClose\"], format = '%I:%M %p').dt.strftime('%H:%M')\n",
    "RideWaits[\"ParkClose\"] = pd.to_datetime(RideWaits[\"ParkClose\"], format = '%H:%M').dt.time\n",
    "RideWaits[\"DayOfWeek\"] = [datetime.weekday(x) for x in RideWaits[\"Date\"]]\n",
    "RideWaits[\"EMHOpen\"] = pd.to_datetime(RideWaits[\"EMHOpen\"], format = '%I:%M %p', errors = 'coerce').dt.strftime('%H:%M')\n",
    "RideWaits[\"EMHClose\"] = pd.to_datetime(RideWaits[\"EMHClose\"], format = '%I:%M %p', errors = 'coerce').dt.strftime('%H:%M')\n",
    "RideWaits[\"EMHOpen\"] = pd.to_datetime(RideWaits[\"EMHOpen\"], format = '%H:%M', errors = 'coerce').dt.time\n",
    "RideWaits[\"EMHClose\"] = pd.to_datetime(RideWaits[\"EMHClose\"], format = '%H:%M', errors = 'coerce').dt.time\n",
    "RideWaits[\"Weekend\"] = [0 if x == 0 or x == 1 or x ==2 or x==3 or x==4 else 1 for x in RideWaits[\"DayOfWeek\"]]\n",
    "RideWaits[\"Weekend\"].value_counts()\n",
    "RideWaits[\"CharacterExperience\"] = [1 if (\"Meet\" in x) or (\"Encounter\" in x) or (\"Visa\" in x) else 0 for x in RideWaits[\"Name\"]]"
   ]
  },
  {
   "cell_type": "code",
   "execution_count": 4,
   "metadata": {},
   "outputs": [
    {
     "data": {
      "text/plain": [
       "2018-09-19    6872\n",
       "2018-10-04    5312\n",
       "2018-10-11    3967\n",
       "2018-10-10    3434\n",
       "2018-09-29    3433\n",
       "2018-10-13    3276\n",
       "2018-10-03    3263\n",
       "2018-09-22    3237\n",
       "2018-09-26    3217\n",
       "2018-10-09    3208\n",
       "2018-10-06    3202\n",
       "2018-09-28    3191\n",
       "2018-09-20    3186\n",
       "2018-10-20    3172\n",
       "2018-10-12    3154\n",
       "2018-09-25    3151\n",
       "2018-10-17    3144\n",
       "2018-10-05    3128\n",
       "2018-10-19    3126\n",
       "2018-10-28    3120\n",
       "2018-10-25    3120\n",
       "2018-10-24    3116\n",
       "2018-10-23    3115\n",
       "2018-10-02    3111\n",
       "2018-10-29    3094\n",
       "2018-10-26    3093\n",
       "2018-09-30    3084\n",
       "2018-10-15    3076\n",
       "2018-10-16    3074\n",
       "2018-11-02    3064\n",
       "2018-09-23    3062\n",
       "2018-11-03    3058\n",
       "2018-10-21    3054\n",
       "2018-10-01    3041\n",
       "2018-10-18    3020\n",
       "2018-10-22    3014\n",
       "2018-10-27    2994\n",
       "2018-10-14    2993\n",
       "2018-10-30    2991\n",
       "2018-10-08    2952\n",
       "2018-09-27    2867\n",
       "2018-11-01    2835\n",
       "2018-10-07    2829\n",
       "2018-09-24    2807\n",
       "2018-11-05    2363\n",
       "2018-10-31    1588\n",
       "2018-09-21    1435\n",
       "2018-11-04     479\n",
       "Name: Date, dtype: int64"
      ]
     },
     "execution_count": 4,
     "metadata": {},
     "output_type": "execute_result"
    }
   ],
   "source": [
    "RideWaits[\"Date\"].value_counts()"
   ]
  },
  {
   "cell_type": "code",
   "execution_count": 5,
   "metadata": {},
   "outputs": [],
   "source": [
    "validTime = []\n",
    "inEMH = []\n",
    "emhDay = []\n",
    "timeSinceStart = []\n",
    "timeSinceMidDay = []\n",
    "magicHourType = []\n",
    "timeSinceOpenMinutes = []\n",
    "\n",
    "for index, row in RideWaits.iterrows():\n",
    "    #print(row)\n",
    "    tempTime = datetime.now()\n",
    "    cTime = row[\"Time\"]\n",
    "    pOpen = row[\"ParkOpen\"]\n",
    "    pClose = row[\"ParkClose\"]\n",
    "    currentParkTime = tempTime.replace(hour = cTime.hour, minute = cTime.minute, second = 0, microsecond = 0)\n",
    "    parkOpen = tempTime.replace(hour = pOpen.hour, minute = pOpen.minute, second = 0, microsecond = 0)\n",
    "    parkClose = tempTime.replace(hour = pClose.hour, minute = pClose.minute, second = 0, microsecond = 0)\n",
    "    if parkClose < parkOpen:\n",
    "        parkClose = parkClose.replace(day = parkClose.day + 1)\n",
    "    if (pd.notnull(row[\"EMHOpen\"])) & (pd.notnull(row[\"EMHClose\"])):\n",
    "        eOpen = row[\"EMHOpen\"]\n",
    "        #print(eOpen)\n",
    "        eClose = row[\"EMHClose\"]\n",
    "        #print(eClose)\n",
    "        emhOpen = tempTime.replace(hour = eOpen.hour, minute = eOpen.minute, second = 0, microsecond = 0)\n",
    "        emhClose = tempTime.replace(hour = eClose.hour, minute = eClose.minute, second = 0, microsecond = 0)\n",
    "        if emhClose < emhOpen:\n",
    "            emhClose = emhClose.replace(day = emhClose.day + 1)\n",
    "        emh = \"ok\"\n",
    "        emhDay.append(1)\n",
    "        if emhClose.hour == parkOpen.hour:\n",
    "            magicHourType.append(\"Morning\")\n",
    "        else:\n",
    "            magicHourType.append(\"Night\")\n",
    "    else:\n",
    "        emh = \"none\"\n",
    "        emhDay.append(0)\n",
    "        magicHourType.append(\"None\")\n",
    "        \n",
    "    #print(emh)\n",
    "    if (currentParkTime < parkClose) & (currentParkTime > parkOpen):\n",
    "        #print(\"Current Time is: \" + str(currentParkTime) + \" and ParkHours are \"+ str(parkOpen) +\" to \" + str(parkClose) + \" \" +str(validtime))\n",
    "        tSinceOpen = currentParkTime.hour - parkOpen.hour\n",
    "        tSinceOpenMinutes = currentParkTime - parkOpen\n",
    "        tSinceMidDay = abs(currentParkTime.hour - 14)\n",
    "        if currentParkTime.hour < parkOpen.hour:\n",
    "            tSinceOpen = currentParkTime.hour + 24 - parkOpen.hour\n",
    "            tSinceOpenMinutes = currentParkTime.replace(day = currentParkTime.day + 1) - parkOpen\n",
    "            tSinceMidDay = abs(currentParkTime.hour - 14 + 24)\n",
    "        validTime.append(1)\n",
    "        inEMH.append(0)\n",
    "    else:\n",
    "        if (emh == \"ok\"):\n",
    "            if (currentParkTime < emhClose) & (currentParkTime > emhOpen):\n",
    "                validTime.append(1)\n",
    "                inEMH.append(1)\n",
    "                if (emhClose.hour == parkOpen.hour):\n",
    "                    tSinceOpen = currentParkTime.hour - emhOpen.hour\n",
    "                    tSinceOpenMinutes = currentParkTime - emhOpen\n",
    "                    tSinceMidDay = abs(currentParkTime.hour - 14)\n",
    "\n",
    "                else:\n",
    "                    if currentParkTime.hour < parkOpen.hour:\n",
    "                        tSinceOpen = currentParkTime.hour + 24 - parkOpen.hour\n",
    "                        tSinceOpenMinutes = currentParkTime.replace(day = currentParkTime.day + 1) - parkOpen\n",
    "                        tSinceMidDay = abs(currentParkTime.hour - 14 + 24)\n",
    "                    else:\n",
    "                        tSinceOpen = currentParkTime.hour - parkOpen.hour\n",
    "                        tSinceOpenMinutes = currentParkTime - parkOpen\n",
    "                        tSinceMidDay = abs(currentParkTime.hour - 14)\n",
    "            else:\n",
    "                validTime.append(0)\n",
    "                inEMH.append(0)\n",
    "        else:\n",
    "            validTime.append(0)\n",
    "            inEMH.append(0)\n",
    "    timeSinceStart.append(tSinceOpen)\n",
    "    timeSinceMidDay.append(tSinceMidDay)\n",
    "    timeSinceOpenMinutes.append(tSinceOpenMinutes)\n",
    "\n",
    "\n",
    "RideWaits[\"inEMH\"] = inEMH\n",
    "RideWaits[\"validTime\"] = validTime\n",
    "RideWaits[\"EMHDay\"] = emhDay\n",
    "RideWaits[\"TimeSinceOpen\"] = timeSinceStart\n",
    "RideWaits[\"TimeSinceMidday\"] = timeSinceMidDay\n",
    "RideWaits[\"MagicHourType\"] = magicHourType\n",
    "RideWaits[\"MinutesSinceOpen\"] = [x.total_seconds()/60 for x in timeSinceOpenMinutes]\n",
    "#RideWaits[\"SimpleStatus\"] = pd.Categorical(RideWaits[\"SimpleStatus\"])\n",
    "RideWaits = RideWaits[RideWaits[\"validTime\"] == 1]\n",
    "\n",
    "RideWaits[\"Month\"] = RideWaits[\"Date\"].dt.month\n",
    "RideWaits[\"TimeSinceRideOpen\"] = (RideWaits[\"Date\"] - RideWaits[\"OpeningDate\"]).dt.days"
   ]
  },
  {
   "cell_type": "markdown",
   "metadata": {},
   "source": [
    "## The Data\n",
    "For this analysis we will be using wait times between September 19th, 2018 and October 31st, 2018 collected every 15 minutes while the park is open. We have assigned each wait time to be either in an extra magic hour window or not. We have also categorized things like the month but because we only have two months, it may not be particularly helpful at this time, and we should revisit this in the future once we have more information."
   ]
  },
  {
   "cell_type": "markdown",
   "metadata": {},
   "source": [
    "## The Analysis"
   ]
  },
  {
   "cell_type": "code",
   "execution_count": 6,
   "metadata": {},
   "outputs": [
    {
     "data": {
      "text/plain": [
       "count    130372.000000\n",
       "mean         30.321979\n",
       "std          24.577306\n",
       "min           0.000000\n",
       "25%          15.000000\n",
       "50%          25.000000\n",
       "75%          40.000000\n",
       "max         335.000000\n",
       "Name: Wait, dtype: float64"
      ]
     },
     "execution_count": 6,
     "metadata": {},
     "output_type": "execute_result"
    }
   ],
   "source": [
    "RideWaits[\"Wait\"].describe()"
   ]
  },
  {
   "cell_type": "code",
   "execution_count": 7,
   "metadata": {},
   "outputs": [
    {
     "name": "stderr",
     "output_type": "stream",
     "text": [
      "C:\\Users\\chrisA\\AppData\\Roaming\\Python\\Python36\\site-packages\\matplotlib\\axes\\_axes.py:6510: MatplotlibDeprecationWarning: \n",
      "The 'normed' kwarg was deprecated in Matplotlib 2.1 and will be removed in 3.1. Use 'density' instead.\n",
      "  alternative=\"'density'\", removal=\"3.1\")\n"
     ]
    },
    {
     "data": {
      "text/plain": [
       "<matplotlib.axes._subplots.AxesSubplot at 0x209893c3278>"
      ]
     },
     "execution_count": 7,
     "metadata": {},
     "output_type": "execute_result"
    },
    {
     "data": {
      "image/png": "[encoded data removed]",
      "text/plain": [
       "<Figure size 432x288 with 1 Axes>"
      ]
     },
     "metadata": {},
     "output_type": "display_data"
    }
   ],
   "source": [
    "import seaborn as sns\n",
    "%matplotlib inline\n",
    "\n",
    "sns.distplot(RideWaits['Wait'])"
   ]
  },
  {
   "cell_type": "markdown",
   "metadata": {},
   "source": [
    "The average wait times across all segments and ride types in this time window was 30.2 minutes. We also see that our wait times are heavily left skewed. Let's jump right into extra magic hours.\n",
    "\n",
    "First how does the wait compare over the course of the whole day between an extra magic hour day and a non extra magic hour day. "
   ]
  },
  {
   "cell_type": "code",
   "execution_count": 8,
   "metadata": {},
   "outputs": [
    {
     "data": {
      "text/html": [
       "<div>\n",
       "<style>\n",
       "    .dataframe thead tr:only-child th {\n",
       "        text-align: right;\n",
       "    }\n",
       "\n",
       "    .dataframe thead th {\n",
       "        text-align: left;\n",
       "    }\n",
       "\n",
       "    .dataframe tbody tr th {\n",
       "        vertical-align: top;\n",
       "    }\n",
       "</style>\n",
       "<table border=\"1\" class=\"dataframe\">\n",
       "  <thead>\n",
       "    <tr style=\"text-align: right;\">\n",
       "      <th></th>\n",
       "      <th>count</th>\n",
       "      <th>mean</th>\n",
       "      <th>std</th>\n",
       "      <th>min</th>\n",
       "      <th>25%</th>\n",
       "      <th>50%</th>\n",
       "      <th>75%</th>\n",
       "      <th>max</th>\n",
       "    </tr>\n",
       "    <tr>\n",
       "      <th>EMHDay</th>\n",
       "      <th></th>\n",
       "      <th></th>\n",
       "      <th></th>\n",
       "      <th></th>\n",
       "      <th></th>\n",
       "      <th></th>\n",
       "      <th></th>\n",
       "      <th></th>\n",
       "    </tr>\n",
       "  </thead>\n",
       "  <tbody>\n",
       "    <tr>\n",
       "      <th>0</th>\n",
       "      <td>93673.0</td>\n",
       "      <td>30.154143</td>\n",
       "      <td>24.188175</td>\n",
       "      <td>0.0</td>\n",
       "      <td>15.0</td>\n",
       "      <td>25.0</td>\n",
       "      <td>40.0</td>\n",
       "      <td>335.0</td>\n",
       "    </tr>\n",
       "    <tr>\n",
       "      <th>1</th>\n",
       "      <td>36699.0</td>\n",
       "      <td>30.750375</td>\n",
       "      <td>25.539025</td>\n",
       "      <td>0.0</td>\n",
       "      <td>10.0</td>\n",
       "      <td>25.0</td>\n",
       "      <td>40.0</td>\n",
       "      <td>240.0</td>\n",
       "    </tr>\n",
       "  </tbody>\n",
       "</table>\n",
       "</div>"
      ],
      "text/plain": [
       "          count       mean        std  min   25%   50%   75%    max\n",
       "EMHDay                                                             \n",
       "0       93673.0  30.154143  24.188175  0.0  15.0  25.0  40.0  335.0\n",
       "1       36699.0  30.750375  25.539025  0.0  10.0  25.0  40.0  240.0"
      ]
     },
     "execution_count": 8,
     "metadata": {},
     "output_type": "execute_result"
    }
   ],
   "source": [
    "RideWaits.groupby('EMHDay')['Wait'].describe()"
   ]
  },
  {
   "cell_type": "code",
   "execution_count": 10,
   "metadata": {},
   "outputs": [
    {
     "data": {
      "text/plain": [
       "<matplotlib.axes._subplots.AxesSubplot at 0x20987917908>"
      ]
     },
     "execution_count": 10,
     "metadata": {},
     "output_type": "execute_result"
    },
    {
     "data": {
      "image/png": "[encoded data removed]",
      "text/plain": [
       "<Figure size 432x288 with 1 Axes>"
      ]
     },
     "metadata": {},
     "output_type": "display_data"
    }
   ],
   "source": [
    "emhDay = RideWaits.loc[RideWaits['EMHDay'] == 1]\n",
    "sns.distplot(emhDay[['Wait']], hist = False)"
   ]
  },
  {
   "cell_type": "code",
   "execution_count": 11,
   "metadata": {},
   "outputs": [
    {
     "data": {
      "text/plain": [
       "<matplotlib.axes._subplots.AxesSubplot at 0x20987e8a908>"
      ]
     },
     "execution_count": 11,
     "metadata": {},
     "output_type": "execute_result"
    },
    {
     "data": {
      "image/png": "[encoded data removed]",
      "text/plain": [
       "<Figure size 432x288 with 1 Axes>"
      ]
     },
     "metadata": {},
     "output_type": "display_data"
    }
   ],
   "source": [
    "emhDay = RideWaits.loc[RideWaits['EMHDay'] == 1]\n",
    "nonemhDay = RideWaits.loc[RideWaits['EMHDay'] == 0]\n",
    "sns.distplot(emhDay[['Wait']], hist = False)\n",
    "sns.distplot(nonemhDay[['Wait']], hist = False)"
   ]
  },
  {
   "cell_type": "code",
   "execution_count": 12,
   "metadata": {},
   "outputs": [
    {
     "data": {
      "image/png": "[encoded data removed]",
      "text/plain": [
       "<Figure size 1440x720 with 1 Axes>"
      ]
     },
     "metadata": {},
     "output_type": "display_data"
    }
   ],
   "source": [
    "plt.subplots(figsize = (20,10))\n",
    "ax = sns.boxplot(x = \"EMHDay\", y = \"Wait\", data = RideWaits)\n",
    "plt.show()"
   ]
  },
  {
   "cell_type": "code",
   "execution_count": 13,
   "metadata": {},
   "outputs": [
    {
     "name": "stdout",
     "output_type": "stream",
     "text": [
      "8.167462361196462e-05\n"
     ]
    }
   ],
   "source": [
    "from scipy import stats\n",
    "t, p = stats.ttest_ind(RideWaits[RideWaits[\"EMHDay\"] == 0][\"Wait\"], RideWaits[RideWaits[\"EMHDay\"]==1][\"Wait\"])\n",
    "print(p)"
   ]
  },
  {
   "cell_type": "markdown",
   "metadata": {},
   "source": [
    "This is statistically significant. This would lead us to believe there is enough evidence to say that a day that had extra magic hours experiences different wait times than a day that did not have extra magic hours. The difference in means was only 0.6 minutes so not enough to really warrant avoiding a park just because it has Extra Magic Hours and you don't want to deal with the crowd of people. What about in the Extra Magic Hours. Are the wait times significantly lower than normal?"
   ]
  },
  {
   "cell_type": "code",
   "execution_count": 18,
   "metadata": {},
   "outputs": [
    {
     "data": {
      "text/plain": [
       "<matplotlib.axes._subplots.AxesSubplot at 0x20988cd3be0>"
      ]
     },
     "execution_count": 18,
     "metadata": {},
     "output_type": "execute_result"
    },
    {
     "data": {
      "image/png": "[encoded data removed]",
      "text/plain": [
       "<Figure size 432x288 with 1 Axes>"
      ]
     },
     "metadata": {},
     "output_type": "display_data"
    }
   ],
   "source": [
    "all_waits_notin_emh = RideWaits.loc[RideWaits['inEMH'] == 0]\n",
    "all_waits_in_emh = RideWaits.loc[RideWaits['inEMH'] == 1]\n",
    "sns.distplot(all_waits_notin_emh['Wait'], hist = False, label = \"Normal Hours\")\n",
    "sns.distplot(all_waits_in_emh['Wait'], hist = False, label = \"In Extra Magic Hours\")\n"
   ]
  },
  {
   "cell_type": "code",
   "execution_count": 14,
   "metadata": {},
   "outputs": [
    {
     "data": {
      "text/html": [
       "<div>\n",
       "<style>\n",
       "    .dataframe thead tr:only-child th {\n",
       "        text-align: right;\n",
       "    }\n",
       "\n",
       "    .dataframe thead th {\n",
       "        text-align: left;\n",
       "    }\n",
       "\n",
       "    .dataframe tbody tr th {\n",
       "        vertical-align: top;\n",
       "    }\n",
       "</style>\n",
       "<table border=\"1\" class=\"dataframe\">\n",
       "  <thead>\n",
       "    <tr style=\"text-align: right;\">\n",
       "      <th></th>\n",
       "      <th>count</th>\n",
       "      <th>mean</th>\n",
       "      <th>std</th>\n",
       "      <th>min</th>\n",
       "      <th>25%</th>\n",
       "      <th>50%</th>\n",
       "      <th>75%</th>\n",
       "      <th>max</th>\n",
       "    </tr>\n",
       "    <tr>\n",
       "      <th>inEMH</th>\n",
       "      <th></th>\n",
       "      <th></th>\n",
       "      <th></th>\n",
       "      <th></th>\n",
       "      <th></th>\n",
       "      <th></th>\n",
       "      <th></th>\n",
       "      <th></th>\n",
       "    </tr>\n",
       "  </thead>\n",
       "  <tbody>\n",
       "    <tr>\n",
       "      <th>0</th>\n",
       "      <td>127911.0</td>\n",
       "      <td>30.571100</td>\n",
       "      <td>24.595028</td>\n",
       "      <td>0.0</td>\n",
       "      <td>15.0</td>\n",
       "      <td>25.0</td>\n",
       "      <td>40.0</td>\n",
       "      <td>335.0</td>\n",
       "    </tr>\n",
       "    <tr>\n",
       "      <th>1</th>\n",
       "      <td>2461.0</td>\n",
       "      <td>17.373832</td>\n",
       "      <td>19.698418</td>\n",
       "      <td>0.0</td>\n",
       "      <td>5.0</td>\n",
       "      <td>10.0</td>\n",
       "      <td>20.0</td>\n",
       "      <td>180.0</td>\n",
       "    </tr>\n",
       "  </tbody>\n",
       "</table>\n",
       "</div>"
      ],
      "text/plain": [
       "          count       mean        std  min   25%   50%   75%    max\n",
       "inEMH                                                              \n",
       "0      127911.0  30.571100  24.595028  0.0  15.0  25.0  40.0  335.0\n",
       "1        2461.0  17.373832  19.698418  0.0   5.0  10.0  20.0  180.0"
      ]
     },
     "execution_count": 14,
     "metadata": {},
     "output_type": "execute_result"
    }
   ],
   "source": [
    "all_waits = RideWaits.groupby('inEMH')['Wait'].describe()\n",
    "all_waits"
   ]
  },
  {
   "cell_type": "markdown",
   "metadata": {},
   "source": [
    "That certainly looks like a significant difference."
   ]
  },
  {
   "cell_type": "code",
   "execution_count": null,
   "metadata": {},
   "outputs": [],
   "source": []
  },
  {
   "cell_type": "code",
   "execution_count": 19,
   "metadata": {},
   "outputs": [
    {
     "data": {
      "image/png": "[encoded data removed]",
      "text/plain": [
       "<Figure size 1440x720 with 1 Axes>"
      ]
     },
     "metadata": {},
     "output_type": "display_data"
    }
   ],
   "source": [
    "plt.subplots(figsize = (20,10))\n",
    "ax = sns.boxplot(x = \"inEMH\", y = \"Wait\", data = RideWaits)\n",
    "plt.show()"
   ]
  },
  {
   "cell_type": "code",
   "execution_count": 20,
   "metadata": {},
   "outputs": [
    {
     "data": {
      "text/plain": [
       "<matplotlib.axes._subplots.AxesSubplot at 0x2098928c518>"
      ]
     },
     "execution_count": 20,
     "metadata": {},
     "output_type": "execute_result"
    },
    {
     "data": {
      "image/png": "[encoded data removed]",
      "text/plain": [
       "<Figure size 432x288 with 1 Axes>"
      ]
     },
     "metadata": {},
     "output_type": "display_data"
    }
   ],
   "source": [
    "all_waits.index = ['Normal Hours', 'In Extra Magic Hours']\n",
    "all_waits.plot.bar(y = \"mean\")"
   ]
  },
  {
   "cell_type": "code",
   "execution_count": 21,
   "metadata": {},
   "outputs": [
    {
     "name": "stdout",
     "output_type": "stream",
     "text": [
      "7.90423272092147e-154\n"
     ]
    }
   ],
   "source": [
    "t, p = stats.ttest_ind(RideWaits[RideWaits[\"inEMH\"] == 0][\"Wait\"], RideWaits[RideWaits[\"inEMH\"]==1][\"Wait\"])\n",
    "print(p)"
   ]
  },
  {
   "cell_type": "markdown",
   "metadata": {},
   "source": [
    "This is significant. This causes us to believe that rides inside of Extra Magic Hours experience a much lower wait than those outside of Extra Magic Hours. Alright, so Disney is right in there assessment that you will experience lower waits. Does it matter which type of Extra Magic Hour you experience? Morning or Night?"
   ]
  },
  {
   "cell_type": "code",
   "execution_count": 22,
   "metadata": {},
   "outputs": [
    {
     "data": {
      "text/html": [
       "<div>\n",
       "<style>\n",
       "    .dataframe thead tr:only-child th {\n",
       "        text-align: right;\n",
       "    }\n",
       "\n",
       "    .dataframe thead th {\n",
       "        text-align: left;\n",
       "    }\n",
       "\n",
       "    .dataframe tbody tr th {\n",
       "        vertical-align: top;\n",
       "    }\n",
       "</style>\n",
       "<table border=\"1\" class=\"dataframe\">\n",
       "  <thead>\n",
       "    <tr style=\"text-align: right;\">\n",
       "      <th></th>\n",
       "      <th>count</th>\n",
       "      <th>mean</th>\n",
       "      <th>std</th>\n",
       "      <th>min</th>\n",
       "      <th>25%</th>\n",
       "      <th>50%</th>\n",
       "      <th>75%</th>\n",
       "      <th>max</th>\n",
       "    </tr>\n",
       "    <tr>\n",
       "      <th>MagicHourType</th>\n",
       "      <th></th>\n",
       "      <th></th>\n",
       "      <th></th>\n",
       "      <th></th>\n",
       "      <th></th>\n",
       "      <th></th>\n",
       "      <th></th>\n",
       "      <th></th>\n",
       "    </tr>\n",
       "  </thead>\n",
       "  <tbody>\n",
       "    <tr>\n",
       "      <th>Morning</th>\n",
       "      <td>908.0</td>\n",
       "      <td>19.861233</td>\n",
       "      <td>28.226805</td>\n",
       "      <td>0.0</td>\n",
       "      <td>5.0</td>\n",
       "      <td>10.0</td>\n",
       "      <td>20.0</td>\n",
       "      <td>180.0</td>\n",
       "    </tr>\n",
       "    <tr>\n",
       "      <th>Night</th>\n",
       "      <td>1553.0</td>\n",
       "      <td>15.919511</td>\n",
       "      <td>11.986648</td>\n",
       "      <td>0.0</td>\n",
       "      <td>5.0</td>\n",
       "      <td>10.0</td>\n",
       "      <td>20.0</td>\n",
       "      <td>90.0</td>\n",
       "    </tr>\n",
       "  </tbody>\n",
       "</table>\n",
       "</div>"
      ],
      "text/plain": [
       "                count       mean        std  min  25%   50%   75%    max\n",
       "MagicHourType                                                           \n",
       "Morning         908.0  19.861233  28.226805  0.0  5.0  10.0  20.0  180.0\n",
       "Night          1553.0  15.919511  11.986648  0.0  5.0  10.0  20.0   90.0"
      ]
     },
     "execution_count": 22,
     "metadata": {},
     "output_type": "execute_result"
    }
   ],
   "source": [
    "inextra_magic = RideWaits[RideWaits['inEMH'] == 1].groupby('MagicHourType')['Wait'].describe()\n",
    "inextra_magic"
   ]
  },
  {
   "cell_type": "code",
   "execution_count": 23,
   "metadata": {},
   "outputs": [
    {
     "data": {
      "image/png": "[encoded data removed]",
      "text/plain": [
       "<Figure size 1440x720 with 1 Axes>"
      ]
     },
     "metadata": {},
     "output_type": "display_data"
    }
   ],
   "source": [
    "plt.subplots(figsize = (20,10))\n",
    "ax = sns.boxplot(x = \"MagicHourType\", y = \"Wait\", data = RideWaits[RideWaits['inEMH'] == 1])\n",
    "plt.show()"
   ]
  },
  {
   "cell_type": "code",
   "execution_count": 35,
   "metadata": {},
   "outputs": [
    {
     "data": {
      "text/plain": [
       "Text(0.5, 0, '')"
      ]
     },
     "execution_count": 35,
     "metadata": {},
     "output_type": "execute_result"
    },
    {
     "data": {
      "image/png": "[encoded data removed]",
      "text/plain": [
       "<Figure size 432x288 with 1 Axes>"
      ]
     },
     "metadata": {},
     "output_type": "display_data"
    }
   ],
   "source": [
    "ax = inextra_magic.plot.bar(y = \"mean\", rot = 45)\n",
    "plt.title(\"Average Wait Time in Extra Magic Hours by Time Period\")\n",
    "plt.ylabel(\"\")\n",
    "plt.xlabel(\"\")"
   ]
  },
  {
   "cell_type": "markdown",
   "metadata": {},
   "source": [
    "A 4 minute difference is not small when comparing wait times. Perhaps there is some statistical significance between the two."
   ]
  },
  {
   "cell_type": "code",
   "execution_count": 25,
   "metadata": {},
   "outputs": [
    {
     "name": "stdout",
     "output_type": "stream",
     "text": [
      "1.5892406675142072e-06\n"
     ]
    }
   ],
   "source": [
    "inemhWaits = RideWaits[RideWaits['inEMH'] == 1]\n",
    "t, p = stats.ttest_ind(inemhWaits[inemhWaits[\"MagicHourType\"] == \"Night\"][\"Wait\"], inemhWaits[inemhWaits[\"MagicHourType\"]==\"Morning\"][\"Wait\"])\n",
    "print(p)"
   ]
  },
  {
   "cell_type": "markdown",
   "metadata": {},
   "source": [
    "Again the difference is statistically significant. Given the choice between a morning extra magic hour or a night extra magic hour, the night will have generally lower wait times. This may be due to a number of factors, probably mostly general exhaustion and children wanting to go to bed.\n",
    "\n",
    "Let's look at every day individually and see which days have the biggest gaps between being an Extra Magic Hour day or not. For example you would want to avoid a park that has an Extra Magic Hour day on that day of the week if there is a large difference between the two."
   ]
  },
  {
   "cell_type": "code",
   "execution_count": 26,
   "metadata": {},
   "outputs": [
    {
     "data": {
      "text/html": [
       "<div>\n",
       "<style>\n",
       "    .dataframe thead tr:only-child th {\n",
       "        text-align: right;\n",
       "    }\n",
       "\n",
       "    .dataframe thead th {\n",
       "        text-align: left;\n",
       "    }\n",
       "\n",
       "    .dataframe tbody tr th {\n",
       "        vertical-align: top;\n",
       "    }\n",
       "</style>\n",
       "<table border=\"1\" class=\"dataframe\">\n",
       "  <thead>\n",
       "    <tr style=\"text-align: right;\">\n",
       "      <th></th>\n",
       "      <th></th>\n",
       "      <th>count</th>\n",
       "      <th>mean</th>\n",
       "      <th>std</th>\n",
       "      <th>min</th>\n",
       "      <th>25%</th>\n",
       "      <th>50%</th>\n",
       "      <th>75%</th>\n",
       "      <th>max</th>\n",
       "    </tr>\n",
       "    <tr>\n",
       "      <th>DayOfWeek</th>\n",
       "      <th>EMHDay</th>\n",
       "      <th></th>\n",
       "      <th></th>\n",
       "      <th></th>\n",
       "      <th></th>\n",
       "      <th></th>\n",
       "      <th></th>\n",
       "      <th></th>\n",
       "      <th></th>\n",
       "    </tr>\n",
       "  </thead>\n",
       "  <tbody>\n",
       "    <tr>\n",
       "      <th rowspan=\"2\" valign=\"top\">0</th>\n",
       "      <th>0</th>\n",
       "      <td>14935.0</td>\n",
       "      <td>32.414864</td>\n",
       "      <td>24.581952</td>\n",
       "      <td>0.0</td>\n",
       "      <td>15.0</td>\n",
       "      <td>25.0</td>\n",
       "      <td>45.0</td>\n",
       "      <td>190.0</td>\n",
       "    </tr>\n",
       "    <tr>\n",
       "      <th>1</th>\n",
       "      <td>4081.0</td>\n",
       "      <td>37.836560</td>\n",
       "      <td>32.198762</td>\n",
       "      <td>0.0</td>\n",
       "      <td>15.0</td>\n",
       "      <td>30.0</td>\n",
       "      <td>50.0</td>\n",
       "      <td>225.0</td>\n",
       "    </tr>\n",
       "    <tr>\n",
       "      <th rowspan=\"2\" valign=\"top\">1</th>\n",
       "      <th>0</th>\n",
       "      <td>11471.0</td>\n",
       "      <td>26.146631</td>\n",
       "      <td>21.188133</td>\n",
       "      <td>0.0</td>\n",
       "      <td>10.0</td>\n",
       "      <td>20.0</td>\n",
       "      <td>35.0</td>\n",
       "      <td>175.0</td>\n",
       "    </tr>\n",
       "    <tr>\n",
       "      <th>1</th>\n",
       "      <td>3471.0</td>\n",
       "      <td>26.233074</td>\n",
       "      <td>22.084280</td>\n",
       "      <td>0.0</td>\n",
       "      <td>10.0</td>\n",
       "      <td>20.0</td>\n",
       "      <td>35.0</td>\n",
       "      <td>230.0</td>\n",
       "    </tr>\n",
       "    <tr>\n",
       "      <th rowspan=\"2\" valign=\"top\">2</th>\n",
       "      <th>0</th>\n",
       "      <td>10358.0</td>\n",
       "      <td>24.913883</td>\n",
       "      <td>20.722718</td>\n",
       "      <td>5.0</td>\n",
       "      <td>10.0</td>\n",
       "      <td>20.0</td>\n",
       "      <td>35.0</td>\n",
       "      <td>290.0</td>\n",
       "    </tr>\n",
       "    <tr>\n",
       "      <th>1</th>\n",
       "      <td>12287.0</td>\n",
       "      <td>30.933751</td>\n",
       "      <td>23.202823</td>\n",
       "      <td>0.0</td>\n",
       "      <td>15.0</td>\n",
       "      <td>25.0</td>\n",
       "      <td>45.0</td>\n",
       "      <td>185.0</td>\n",
       "    </tr>\n",
       "    <tr>\n",
       "      <th rowspan=\"2\" valign=\"top\">3</th>\n",
       "      <th>0</th>\n",
       "      <td>16098.0</td>\n",
       "      <td>27.749410</td>\n",
       "      <td>22.305298</td>\n",
       "      <td>0.0</td>\n",
       "      <td>10.0</td>\n",
       "      <td>20.0</td>\n",
       "      <td>35.0</td>\n",
       "      <td>210.0</td>\n",
       "    </tr>\n",
       "    <tr>\n",
       "      <th>1</th>\n",
       "      <td>4305.0</td>\n",
       "      <td>23.885017</td>\n",
       "      <td>18.485891</td>\n",
       "      <td>5.0</td>\n",
       "      <td>10.0</td>\n",
       "      <td>20.0</td>\n",
       "      <td>35.0</td>\n",
       "      <td>240.0</td>\n",
       "    </tr>\n",
       "    <tr>\n",
       "      <th rowspan=\"2\" valign=\"top\">4</th>\n",
       "      <th>0</th>\n",
       "      <td>10347.0</td>\n",
       "      <td>32.767179</td>\n",
       "      <td>28.454498</td>\n",
       "      <td>0.0</td>\n",
       "      <td>15.0</td>\n",
       "      <td>25.0</td>\n",
       "      <td>45.0</td>\n",
       "      <td>335.0</td>\n",
       "    </tr>\n",
       "    <tr>\n",
       "      <th>1</th>\n",
       "      <td>6093.0</td>\n",
       "      <td>25.268505</td>\n",
       "      <td>16.868708</td>\n",
       "      <td>0.0</td>\n",
       "      <td>10.0</td>\n",
       "      <td>20.0</td>\n",
       "      <td>35.0</td>\n",
       "      <td>105.0</td>\n",
       "    </tr>\n",
       "    <tr>\n",
       "      <th rowspan=\"2\" valign=\"top\">5</th>\n",
       "      <th>0</th>\n",
       "      <td>18294.0</td>\n",
       "      <td>33.946649</td>\n",
       "      <td>23.587816</td>\n",
       "      <td>0.0</td>\n",
       "      <td>15.0</td>\n",
       "      <td>30.0</td>\n",
       "      <td>45.0</td>\n",
       "      <td>155.0</td>\n",
       "    </tr>\n",
       "    <tr>\n",
       "      <th>1</th>\n",
       "      <td>3170.0</td>\n",
       "      <td>41.815457</td>\n",
       "      <td>38.785308</td>\n",
       "      <td>0.0</td>\n",
       "      <td>15.0</td>\n",
       "      <td>30.0</td>\n",
       "      <td>55.0</td>\n",
       "      <td>180.0</td>\n",
       "    </tr>\n",
       "    <tr>\n",
       "      <th rowspan=\"2\" valign=\"top\">6</th>\n",
       "      <th>0</th>\n",
       "      <td>12170.0</td>\n",
       "      <td>30.875514</td>\n",
       "      <td>26.648611</td>\n",
       "      <td>0.0</td>\n",
       "      <td>15.0</td>\n",
       "      <td>25.0</td>\n",
       "      <td>40.0</td>\n",
       "      <td>235.0</td>\n",
       "    </tr>\n",
       "    <tr>\n",
       "      <th>1</th>\n",
       "      <td>3292.0</td>\n",
       "      <td>34.513366</td>\n",
       "      <td>26.612988</td>\n",
       "      <td>5.0</td>\n",
       "      <td>15.0</td>\n",
       "      <td>25.0</td>\n",
       "      <td>50.0</td>\n",
       "      <td>135.0</td>\n",
       "    </tr>\n",
       "  </tbody>\n",
       "</table>\n",
       "</div>"
      ],
      "text/plain": [
       "                    count       mean        std  min   25%   50%   75%    max\n",
       "DayOfWeek EMHDay                                                             \n",
       "0         0       14935.0  32.414864  24.581952  0.0  15.0  25.0  45.0  190.0\n",
       "          1        4081.0  37.836560  32.198762  0.0  15.0  30.0  50.0  225.0\n",
       "1         0       11471.0  26.146631  21.188133  0.0  10.0  20.0  35.0  175.0\n",
       "          1        3471.0  26.233074  22.084280  0.0  10.0  20.0  35.0  230.0\n",
       "2         0       10358.0  24.913883  20.722718  5.0  10.0  20.0  35.0  290.0\n",
       "          1       12287.0  30.933751  23.202823  0.0  15.0  25.0  45.0  185.0\n",
       "3         0       16098.0  27.749410  22.305298  0.0  10.0  20.0  35.0  210.0\n",
       "          1        4305.0  23.885017  18.485891  5.0  10.0  20.0  35.0  240.0\n",
       "4         0       10347.0  32.767179  28.454498  0.0  15.0  25.0  45.0  335.0\n",
       "          1        6093.0  25.268505  16.868708  0.0  10.0  20.0  35.0  105.0\n",
       "5         0       18294.0  33.946649  23.587816  0.0  15.0  30.0  45.0  155.0\n",
       "          1        3170.0  41.815457  38.785308  0.0  15.0  30.0  55.0  180.0\n",
       "6         0       12170.0  30.875514  26.648611  0.0  15.0  25.0  40.0  235.0\n",
       "          1        3292.0  34.513366  26.612988  5.0  15.0  25.0  50.0  135.0"
      ]
     },
     "execution_count": 26,
     "metadata": {},
     "output_type": "execute_result"
    }
   ],
   "source": [
    "RideWaits.groupby(['DayOfWeek','EMHDay'])['Wait'].describe()"
   ]
  },
  {
   "cell_type": "markdown",
   "metadata": {},
   "source": [
    "We see the largest differences on Saturday. On Saturday in parks without Extra Magic Hours we see an average of 8 minutes less wait. Tuesdays, Thursdays, and Fridays appear to have negligible or negative difference between days with Extra Magic Hours and days without. Let's look into parks to see if the difference matters by the park."
   ]
  },
  {
   "cell_type": "code",
   "execution_count": 27,
   "metadata": {},
   "outputs": [
    {
     "data": {
      "text/html": [
       "<div>\n",
       "<style>\n",
       "    .dataframe thead tr:only-child th {\n",
       "        text-align: right;\n",
       "    }\n",
       "\n",
       "    .dataframe thead th {\n",
       "        text-align: left;\n",
       "    }\n",
       "\n",
       "    .dataframe tbody tr th {\n",
       "        vertical-align: top;\n",
       "    }\n",
       "</style>\n",
       "<table border=\"1\" class=\"dataframe\">\n",
       "  <thead>\n",
       "    <tr style=\"text-align: right;\">\n",
       "      <th></th>\n",
       "      <th></th>\n",
       "      <th>count</th>\n",
       "      <th>mean</th>\n",
       "      <th>std</th>\n",
       "      <th>min</th>\n",
       "      <th>25%</th>\n",
       "      <th>50%</th>\n",
       "      <th>75%</th>\n",
       "      <th>max</th>\n",
       "    </tr>\n",
       "    <tr>\n",
       "      <th>ParkName</th>\n",
       "      <th>EMHDay</th>\n",
       "      <th></th>\n",
       "      <th></th>\n",
       "      <th></th>\n",
       "      <th></th>\n",
       "      <th></th>\n",
       "      <th></th>\n",
       "      <th></th>\n",
       "      <th></th>\n",
       "    </tr>\n",
       "  </thead>\n",
       "  <tbody>\n",
       "    <tr>\n",
       "      <th rowspan=\"2\" valign=\"top\">Disneys Animal Kingdom Theme Park</th>\n",
       "      <th>0</th>\n",
       "      <td>13355.0</td>\n",
       "      <td>36.423811</td>\n",
       "      <td>35.308395</td>\n",
       "      <td>5.0</td>\n",
       "      <td>10.0</td>\n",
       "      <td>25.0</td>\n",
       "      <td>50.0</td>\n",
       "      <td>305.0</td>\n",
       "    </tr>\n",
       "    <tr>\n",
       "      <th>1</th>\n",
       "      <td>6114.0</td>\n",
       "      <td>41.145731</td>\n",
       "      <td>37.700441</td>\n",
       "      <td>0.0</td>\n",
       "      <td>15.0</td>\n",
       "      <td>30.0</td>\n",
       "      <td>55.0</td>\n",
       "      <td>225.0</td>\n",
       "    </tr>\n",
       "    <tr>\n",
       "      <th rowspan=\"2\" valign=\"top\">Disneys Hollywood Studios</th>\n",
       "      <th>0</th>\n",
       "      <td>20694.0</td>\n",
       "      <td>32.303180</td>\n",
       "      <td>24.035366</td>\n",
       "      <td>5.0</td>\n",
       "      <td>15.0</td>\n",
       "      <td>25.0</td>\n",
       "      <td>45.0</td>\n",
       "      <td>190.0</td>\n",
       "    </tr>\n",
       "    <tr>\n",
       "      <th>1</th>\n",
       "      <td>3198.0</td>\n",
       "      <td>35.107567</td>\n",
       "      <td>26.717893</td>\n",
       "      <td>0.0</td>\n",
       "      <td>15.0</td>\n",
       "      <td>25.0</td>\n",
       "      <td>50.0</td>\n",
       "      <td>135.0</td>\n",
       "    </tr>\n",
       "    <tr>\n",
       "      <th rowspan=\"2\" valign=\"top\">EpCot</th>\n",
       "      <th>0</th>\n",
       "      <td>18413.0</td>\n",
       "      <td>26.554065</td>\n",
       "      <td>20.037177</td>\n",
       "      <td>0.0</td>\n",
       "      <td>10.0</td>\n",
       "      <td>20.0</td>\n",
       "      <td>35.0</td>\n",
       "      <td>335.0</td>\n",
       "    </tr>\n",
       "    <tr>\n",
       "      <th>1</th>\n",
       "      <td>7965.0</td>\n",
       "      <td>24.505964</td>\n",
       "      <td>18.992983</td>\n",
       "      <td>0.0</td>\n",
       "      <td>10.0</td>\n",
       "      <td>20.0</td>\n",
       "      <td>35.0</td>\n",
       "      <td>240.0</td>\n",
       "    </tr>\n",
       "    <tr>\n",
       "      <th rowspan=\"2\" valign=\"top\">Magic Kingdom Park</th>\n",
       "      <th>0</th>\n",
       "      <td>41211.0</td>\n",
       "      <td>28.651743</td>\n",
       "      <td>20.816585</td>\n",
       "      <td>0.0</td>\n",
       "      <td>15.0</td>\n",
       "      <td>25.0</td>\n",
       "      <td>40.0</td>\n",
       "      <td>180.0</td>\n",
       "    </tr>\n",
       "    <tr>\n",
       "      <th>1</th>\n",
       "      <td>19422.0</td>\n",
       "      <td>29.321337</td>\n",
       "      <td>21.551864</td>\n",
       "      <td>0.0</td>\n",
       "      <td>15.0</td>\n",
       "      <td>25.0</td>\n",
       "      <td>40.0</td>\n",
       "      <td>185.0</td>\n",
       "    </tr>\n",
       "  </tbody>\n",
       "</table>\n",
       "</div>"
      ],
      "text/plain": [
       "                                            count       mean        std  min  \\\n",
       "ParkName                          EMHDay                                       \n",
       "Disneys Animal Kingdom Theme Park 0       13355.0  36.423811  35.308395  5.0   \n",
       "                                  1        6114.0  41.145731  37.700441  0.0   \n",
       "Disneys Hollywood Studios         0       20694.0  32.303180  24.035366  5.0   \n",
       "                                  1        3198.0  35.107567  26.717893  0.0   \n",
       "EpCot                             0       18413.0  26.554065  20.037177  0.0   \n",
       "                                  1        7965.0  24.505964  18.992983  0.0   \n",
       "Magic Kingdom Park                0       41211.0  28.651743  20.816585  0.0   \n",
       "                                  1       19422.0  29.321337  21.551864  0.0   \n",
       "\n",
       "                                           25%   50%   75%    max  \n",
       "ParkName                          EMHDay                           \n",
       "Disneys Animal Kingdom Theme Park 0       10.0  25.0  50.0  305.0  \n",
       "                                  1       15.0  30.0  55.0  225.0  \n",
       "Disneys Hollywood Studios         0       15.0  25.0  45.0  190.0  \n",
       "                                  1       15.0  25.0  50.0  135.0  \n",
       "EpCot                             0       10.0  20.0  35.0  335.0  \n",
       "                                  1       10.0  20.0  35.0  240.0  \n",
       "Magic Kingdom Park                0       15.0  25.0  40.0  180.0  \n",
       "                                  1       15.0  25.0  40.0  185.0  "
      ]
     },
     "execution_count": 27,
     "metadata": {},
     "output_type": "execute_result"
    }
   ],
   "source": [
    "by_park = RideWaits.groupby(['ParkName','EMHDay'])['Wait'].describe()\n",
    "by_park"
   ]
  },
  {
   "cell_type": "code",
   "execution_count": 28,
   "metadata": {},
   "outputs": [
    {
     "data": {
      "text/plain": [
       "<matplotlib.axes._subplots.AxesSubplot at 0x2098a5ed3c8>"
      ]
     },
     "execution_count": 28,
     "metadata": {},
     "output_type": "execute_result"
    },
    {
     "data": {
      "image/png": "[encoded data removed]",
      "text/plain": [
       "<Figure size 432x288 with 1 Axes>"
      ]
     },
     "metadata": {},
     "output_type": "display_data"
    }
   ],
   "source": [
    "data = by_park[\"mean\"]\n",
    "data.unstack().plot(kind = 'barh')"
   ]
  },
  {
   "cell_type": "markdown",
   "metadata": {},
   "source": [
    "I believe this tells you that you don't necessarily need to avoid parks like Epcot or Magic Kingdom on days with Extra Magic Hours. Perhaps, though, steer clear of Animal Kingdom and Hollywood studios if you don't intend on taking advantage of the early or late hour. This would potentially be more helpful to a person staying off property and they are forced to go to a park on an Extra Magic Hour day when they do not have access to those activities. In that case, if I were that person, I would prioritize avoiding Animal Kingdom on an Extra Magic Hour day and not stress so much about the others. \n",
    "\n",
    "What about the differences between being in and out of Extra Magic Hours. Where is your buck worth the most bang?"
   ]
  },
  {
   "cell_type": "code",
   "execution_count": 29,
   "metadata": {},
   "outputs": [
    {
     "data": {
      "text/html": [
       "<div>\n",
       "<style>\n",
       "    .dataframe thead tr:only-child th {\n",
       "        text-align: right;\n",
       "    }\n",
       "\n",
       "    .dataframe thead th {\n",
       "        text-align: left;\n",
       "    }\n",
       "\n",
       "    .dataframe tbody tr th {\n",
       "        vertical-align: top;\n",
       "    }\n",
       "</style>\n",
       "<table border=\"1\" class=\"dataframe\">\n",
       "  <thead>\n",
       "    <tr style=\"text-align: right;\">\n",
       "      <th></th>\n",
       "      <th></th>\n",
       "      <th>count</th>\n",
       "      <th>mean</th>\n",
       "      <th>std</th>\n",
       "      <th>min</th>\n",
       "      <th>25%</th>\n",
       "      <th>50%</th>\n",
       "      <th>75%</th>\n",
       "      <th>max</th>\n",
       "    </tr>\n",
       "    <tr>\n",
       "      <th>ParkName</th>\n",
       "      <th>inEMH</th>\n",
       "      <th></th>\n",
       "      <th></th>\n",
       "      <th></th>\n",
       "      <th></th>\n",
       "      <th></th>\n",
       "      <th></th>\n",
       "      <th></th>\n",
       "      <th></th>\n",
       "    </tr>\n",
       "  </thead>\n",
       "  <tbody>\n",
       "    <tr>\n",
       "      <th rowspan=\"2\" valign=\"top\">Disneys Animal Kingdom Theme Park</th>\n",
       "      <th>0</th>\n",
       "      <td>19166.0</td>\n",
       "      <td>38.080455</td>\n",
       "      <td>36.058610</td>\n",
       "      <td>0.0</td>\n",
       "      <td>15.0</td>\n",
       "      <td>25.0</td>\n",
       "      <td>50.0</td>\n",
       "      <td>305.0</td>\n",
       "    </tr>\n",
       "    <tr>\n",
       "      <th>1</th>\n",
       "      <td>303.0</td>\n",
       "      <td>26.914191</td>\n",
       "      <td>39.629483</td>\n",
       "      <td>5.0</td>\n",
       "      <td>5.0</td>\n",
       "      <td>10.0</td>\n",
       "      <td>20.0</td>\n",
       "      <td>180.0</td>\n",
       "    </tr>\n",
       "    <tr>\n",
       "      <th rowspan=\"2\" valign=\"top\">Disneys Hollywood Studios</th>\n",
       "      <th>0</th>\n",
       "      <td>23748.0</td>\n",
       "      <td>32.716523</td>\n",
       "      <td>24.380347</td>\n",
       "      <td>0.0</td>\n",
       "      <td>15.0</td>\n",
       "      <td>25.0</td>\n",
       "      <td>45.0</td>\n",
       "      <td>190.0</td>\n",
       "    </tr>\n",
       "    <tr>\n",
       "      <th>1</th>\n",
       "      <td>144.0</td>\n",
       "      <td>26.416667</td>\n",
       "      <td>30.990975</td>\n",
       "      <td>5.0</td>\n",
       "      <td>5.0</td>\n",
       "      <td>10.0</td>\n",
       "      <td>40.0</td>\n",
       "      <td>135.0</td>\n",
       "    </tr>\n",
       "    <tr>\n",
       "      <th rowspan=\"2\" valign=\"top\">EpCot</th>\n",
       "      <th>0</th>\n",
       "      <td>25821.0</td>\n",
       "      <td>26.180241</td>\n",
       "      <td>19.815383</td>\n",
       "      <td>0.0</td>\n",
       "      <td>10.0</td>\n",
       "      <td>20.0</td>\n",
       "      <td>35.0</td>\n",
       "      <td>335.0</td>\n",
       "    </tr>\n",
       "    <tr>\n",
       "      <th>1</th>\n",
       "      <td>557.0</td>\n",
       "      <td>14.596050</td>\n",
       "      <td>11.770750</td>\n",
       "      <td>5.0</td>\n",
       "      <td>5.0</td>\n",
       "      <td>10.0</td>\n",
       "      <td>20.0</td>\n",
       "      <td>65.0</td>\n",
       "    </tr>\n",
       "    <tr>\n",
       "      <th rowspan=\"2\" valign=\"top\">Magic Kingdom Park</th>\n",
       "      <th>0</th>\n",
       "      <td>59176.0</td>\n",
       "      <td>29.193896</td>\n",
       "      <td>21.122833</td>\n",
       "      <td>0.0</td>\n",
       "      <td>15.0</td>\n",
       "      <td>25.0</td>\n",
       "      <td>40.0</td>\n",
       "      <td>185.0</td>\n",
       "    </tr>\n",
       "    <tr>\n",
       "      <th>1</th>\n",
       "      <td>1457.0</td>\n",
       "      <td>15.557996</td>\n",
       "      <td>12.220090</td>\n",
       "      <td>0.0</td>\n",
       "      <td>5.0</td>\n",
       "      <td>10.0</td>\n",
       "      <td>20.0</td>\n",
       "      <td>90.0</td>\n",
       "    </tr>\n",
       "  </tbody>\n",
       "</table>\n",
       "</div>"
      ],
      "text/plain": [
       "                                           count       mean        std  min  \\\n",
       "ParkName                          inEMH                                       \n",
       "Disneys Animal Kingdom Theme Park 0      19166.0  38.080455  36.058610  0.0   \n",
       "                                  1        303.0  26.914191  39.629483  5.0   \n",
       "Disneys Hollywood Studios         0      23748.0  32.716523  24.380347  0.0   \n",
       "                                  1        144.0  26.416667  30.990975  5.0   \n",
       "EpCot                             0      25821.0  26.180241  19.815383  0.0   \n",
       "                                  1        557.0  14.596050  11.770750  5.0   \n",
       "Magic Kingdom Park                0      59176.0  29.193896  21.122833  0.0   \n",
       "                                  1       1457.0  15.557996  12.220090  0.0   \n",
       "\n",
       "                                          25%   50%   75%    max  \n",
       "ParkName                          inEMH                           \n",
       "Disneys Animal Kingdom Theme Park 0      15.0  25.0  50.0  305.0  \n",
       "                                  1       5.0  10.0  20.0  180.0  \n",
       "Disneys Hollywood Studios         0      15.0  25.0  45.0  190.0  \n",
       "                                  1       5.0  10.0  40.0  135.0  \n",
       "EpCot                             0      10.0  20.0  35.0  335.0  \n",
       "                                  1       5.0  10.0  20.0   65.0  \n",
       "Magic Kingdom Park                0      15.0  25.0  40.0  185.0  \n",
       "                                  1       5.0  10.0  20.0   90.0  "
      ]
     },
     "execution_count": 29,
     "metadata": {},
     "output_type": "execute_result"
    }
   ],
   "source": [
    "RideWaits.groupby(['ParkName','inEMH'])['Wait'].describe()"
   ]
  },
  {
   "cell_type": "markdown",
   "metadata": {},
   "source": [
    "This is where you can't afford to miss Extra Magic Hours. Magic Kingdom, which includes the high priority ride \"Seven Dwarfs Mine Train\" in its early morning offering, experiences a reduction in average wait by 14 minutes. That is a 50% reduction. Epcot and Animal Kingdom both have roughly 10 minute reductions, and Hollywood Studios falls in around 5 minutes. Let's look directly at tiers of rides to see how those fare between being in or out of Extra Magic Hours."
   ]
  },
  {
   "cell_type": "code",
   "execution_count": null,
   "metadata": {},
   "outputs": [],
   "source": [
    "RideWaits.groupby(['Tier','inEMH'])['Wait'].describe()"
   ]
  },
  {
   "cell_type": "markdown",
   "metadata": {},
   "source": [
    "The most in demand rides in the park are called \"Super Headliners\". These include rides that would be in the top tier of getting fastpasses and most of the time you may only be able to ride once a day or once in a whole trip. These are rides like:\n",
    "* Magic Kingdom:\n",
    "    * Seven Dwarfs Mine Train (Magic Kingdom)\n",
    "    * Splash Mountain (Magic Kingdom)\n",
    "    * Space Mountain (Magic Kingdom)\n",
    "* Hollywood Studios:\n",
    "    * Twilight Zone Tower of Terror\n",
    "* Epcot:\n",
    "    * Test Track\n",
    "    * Soarin\n",
    "    * Mission:SPACE\n",
    "* Animal Kingdom:\n",
    "    * Avatar Flight of Passage\n",
    "    * Kilimanjaro Safaris\n",
    "    * Expedition Everest\n",
    "    \n",
    "We see a reduction in weight by nearly 16 minutes. Let's look at rides that are considered headliners and super headliners to grasp all the in demand rides to see how those differ between being in or out of Extra Magic Hours."
   ]
  },
  {
   "cell_type": "code",
   "execution_count": null,
   "metadata": {},
   "outputs": [],
   "source": [
    "mine_train = RideWaits[RideWaits['Name'] == \"Seven Dwarfs Mine Train\"]\n",
    "mine_train.groupby(['Name','inEMH'])['Wait'].describe()"
   ]
  },
  {
   "cell_type": "code",
   "execution_count": null,
   "metadata": {
    "scrolled": true
   },
   "outputs": [],
   "source": [
    "big_rides = RideWaits[RideWaits['Tier'].isin(['headliner','super_headliner'])]\n",
    "big_rides.groupby(['Name','inEMH'])['Wait'].describe()"
   ]
  },
  {
   "cell_type": "code",
   "execution_count": null,
   "metadata": {},
   "outputs": [],
   "source": [
    "big_rides = RideWaits[RideWaits['Tier'].isin(['headliner','super_headliner'])]\n",
    "\n",
    "differences = big_rides.groupby(['Name','inEMH'])['Wait'].describe()\n",
    "rides = []\n",
    "inEMH = []\n",
    "outEMH = []\n",
    "for index,row in differences.iterrows():\n",
    "    #print(index[0])\n",
    "#     print(row)\n",
    "    if index[0] in [\"Splash Mountain\",\"Walt Disneys Carousel of Progress\",\"The Hall Of Presidents\",\"Muppet*Vision 3D\",\"Jungle Cruise\"]:\n",
    "        continue\n",
    "    ride_name = index[0]\n",
    "    in_emh = index[1]\n",
    "    if ride_name not in rides:\n",
    "        rides.append(ride_name)\n",
    "    \n",
    "    if in_emh == 1:\n",
    "        inEMH.append(row['mean'])\n",
    "    else:\n",
    "        outEMH.append(row['mean'])\n",
    "        \n",
    "differences_frame = {\n",
    "    'rides' : rides,\n",
    "    'inEMH' : inEMH,\n",
    "    'outEMH': outEMH\n",
    "}\n",
    "\n",
    "differences_frame1 = pd.DataFrame(differences_frame)\n",
    "differences_frame1['difference'] = differences_frame1['outEMH'] - differences_frame1['inEMH']\n",
    "\n",
    "differences_frame1 = differences_frame1[['rides','outEMH','inEMH','difference']]\n",
    "differences_frame1 = differences_frame1.sort_values(by = ['difference'])"
   ]
  },
  {
   "cell_type": "code",
   "execution_count": null,
   "metadata": {},
   "outputs": [],
   "source": [
    "ax = differences_frame1.plot.barh(x = 'rides', y = 'difference', rot = 0)"
   ]
  },
  {
   "cell_type": "markdown",
   "metadata": {},
   "source": [
    "These are our biggest rides. If we want to really prioritize our time at Disney World we want to get the most out of Extra Magic Hours and should be striving to reduce the wait on these rides as much as possible. A couple things of serious note from this diagram. First, 4 of the top 6 rides are in Animal Kingdom. That doesn't mean just blindly rush into Animal Kingdom on an Extra Magic Hour Day and go crazy. That means plan your Extra Magic Hour strategically with your pre booked fastpasses. Notice that the ride at the bottom actually has a longer wait in Extra Magic Hours. This leads me to believe that everyone has the same thought when running into the park early for the day, \"Hit Avatar Flight of Passage, it has to be lower wait.\" Now that we are powered with this knowledge, I would plan my day at Animal Kingdom as follows if possible:\n",
    "\n",
    "* Do everything I can to book a fastpass for Avatar Flight of Passage. Even if it's later in the day around noon or so.\n",
    "* Go early. Go to Extra Magic Hours\n",
    "* Ride Navi River Journey first. Let everyone else get in line for Avatar Flight of Passage.\n",
    "* After Navi River Journey, go do Kilimanjaro Safaris when it's nice and cool\n",
    "* Right before rope drop I would go to Expedition Everest. This ride doesn't normally have a really high wait, so 20 minutes lower than normal puts it at basically a walk right on wait. \n",
    "* If you're up for another short wait, go to DINOSAUR! The wait will again be short.\n",
    "* By the time rope drops and the general public is walking in to rush Avatar Flight of passage, you have now accomplished 4 of the biggest rides in the park. Go get some Flame Tree BBQ and relax and soak in your accomplishments for a well done start of your day."
   ]
  },
  {
   "cell_type": "code",
   "execution_count": null,
   "metadata": {},
   "outputs": [],
   "source": [
    "import pymysql\n",
    "import matplotlib.pyplot as plt\n",
    "import pandas as pd\n",
    "import seaborn as sns\n",
    "import numpy as np\n",
    "import transformations\n",
    "import config\n",
    "%matplotlib inline\n",
    "\n",
    "conn = pymysql.connect(config.host, user=config.username,port=config.port,\n",
    "                           passwd=config.password)\n",
    "\n",
    "#gather all historical data to build model\n",
    "RideWaits = pd.read_sql_query(\"call DisneyDB.RideWaitQuery('2,7,8,9')\", conn)\n",
    "\n",
    "\n",
    "starter_data = RideWaits.copy()\n",
    "\n",
    "#transform data for model bulding\n",
    "RideWaits = transformations.transformData(RideWaits)\n",
    "\n"
   ]
  },
  {
   "cell_type": "code",
   "execution_count": null,
   "metadata": {},
   "outputs": [],
   "source": [
    "def create_dummies(df,column_name):\n",
    "    dummies = pd.get_dummies(df[column_name],prefix=column_name)\n",
    "    df = pd.concat([df,dummies],axis=1)\n",
    "    df = df.drop([column_name], axis = 1)\n",
    "    return df\n",
    "\n",
    "def get_shift(day, steps):\n",
    "    previous_steps = {}\n",
    "    for i in range(1,1+steps):\n",
    "        current_steps = []\n",
    "        test_day_current = day.reset_index()\n",
    "        for index,row in test_day_current.iterrows():\n",
    "            if index in list(range(i)):\n",
    "                current_steps.append(0)\n",
    "            else:\n",
    "                current_steps.append(test_day_current.loc[index - i,'Wait'])\n",
    "        \n",
    "        name = \"previous_step\"+str(i)\n",
    "        previous_steps[name] = current_steps\n",
    "    \n",
    "    for key,value in previous_steps.items():\n",
    "        day[key] = value\n",
    "        \n",
    "    return day\n",
    "    \n",
    "    \n",
    "def shift_data(ride_data, shift_range):\n",
    "    new_data_frame = pd.DataFrame()\n",
    "    distinct_rides = list(ride_data['RideId'].unique())\n",
    "    for ride in distinct_rides:\n",
    "        this_ride = ride_data[ride_data['RideId'] == ride]\n",
    "        day_list = list(this_ride['Date'].unique())\n",
    "        for day in day_list:\n",
    "            day_data = this_ride[this_ride['Date'] == day]\n",
    "            new_data = get_shift(day_data, shift_range)\n",
    "            new_data_frame = pd.concat([new_data_frame, new_data])\n",
    "\n",
    "    return new_data_frame\n",
    "\n",
    "def model_transformation(data, num_shifts, start_day = True, by_ride = True):\n",
    "    ride_waits = data\n",
    "    \n",
    "    if by_ride:\n",
    "        important_columns = ['Wait','DayOfWeek','Weekend','inEMH','EMHDay','MagicHourType','Month','TimeSinceOpen','TimeSinceMidday','MinutesSinceOpen']\n",
    "        dummy_columns = ['DayOfWeek','Weekend','inEMH','EMHDay','MagicHourType','Month']\n",
    "    else:\n",
    "        important_columns = ['RideId','Date', 'Wait','Name','Tier','Location','IntellectualProp','ParkId','DayOfWeek','Weekend','CharacterExperience','inEMH','EMHDay','TimeSinceOpen','TimeSinceMidday','MagicHourType','MinutesSinceOpen','Month']\n",
    "        ride_waits = ride_waits[ride_waits['Location'] != \"\"]\n",
    "        dummy_columns = ['RideId','Tier','Location','IntellectualProp','ParkId','DayOfWeek','Weekend','CharacterExperience','inEMH','EMHDay','MagicHourType','Month']\n",
    "        ride_waits = ride_waits.drop(['Name'], axis = 1)\n",
    "    ride_waits = ride_waits[important_columns]\n",
    "    ride_waits = ride_waits.dropna(how = \"any\")\n",
    "    \n",
    "    if start_day == False:\n",
    "        ride_waits = shift_data(ride_waits,num_shifts)\n",
    "    \n",
    "    for column in dummy_columns:\n",
    "        ride_waits = create_dummies(ride_waits, column)\n",
    "        \n",
    "    correlation = ride_waits.corr()['Wait']\n",
    "    key_correlations = correlation[abs(correlation) > .005]\n",
    "    important_cols = list(key_correlations.index)\n",
    "    shift_columns = []\n",
    "    if start_day == False:\n",
    "        shift_columns = [\"previous_step\" + str(x+1)  for x in range(num_shifts)]\n",
    "    important_cols = important_cols + [\"Wait\",\"MinutesSinceOpen\"] + shift_columns\n",
    "    important_cols = [x for x in important_cols if x != \"Weekend_0\"]\n",
    "    important_cols = [x for x in important_cols if x != \"inEMH_0\"]\n",
    "    important_cols = list(set(important_cols))\n",
    "    ride_waits_key = ride_waits[important_cols]\n",
    "    \n",
    "    \n",
    "    return ride_waits_key\n",
    "\n",
    "\n",
    "\n",
    "def new_data_transform(data, num_shifts, important_cols, start_day = True, by_ride = True):\n",
    "    ride_waits = data\n",
    "    \n",
    "    if by_ride:\n",
    "        important_columns = ['Wait','DayOfWeek','Weekend','inEMH','EMHDay','MagicHourType','Month','TimeSinceOpen','TimeSinceMidday','MinutesSinceOpen']\n",
    "        dummy_columns = ['DayOfWeek','Weekend','inEMH','EMHDay','MagicHourType','Month']\n",
    "    else:\n",
    "        important_columns = ['RideId','Date', 'Wait','Name','Tier','Location','IntellectualProp','ParkId','DayOfWeek','Weekend','CharacterExperience','inEMH','EMHDay','TimeSinceOpen','TimeSinceMidday','MagicHourType','MinutesSinceOpen','Month']\n",
    "        ride_waits = ride_waits[ride_waits['Location'] != \"\"]\n",
    "        dummy_columns = ['RideId','Tier','Location','IntellectualProp','ParkId','DayOfWeek','Weekend','CharacterExperience','inEMH','EMHDay','MagicHourType','Month']\n",
    "        ride_waits = ride_waits.drop(['Name'], axis = 1)\n",
    "    \n",
    "\n",
    "    ride_waits = ride_waits[important_columns]\n",
    "    \n",
    "    ride_waits = ride_waits.dropna(how = \"any\")\n",
    "    \n",
    "    if start_day == False:\n",
    "        ride_waits = shift_data(ride_waits,num_shifts)\n",
    "    for column in dummy_columns:\n",
    "        ride_waits = create_dummies(ride_waits, column)\n",
    "        \n",
    "    missing_cols = [x for x in important_cols if x not in ride_waits.columns]\n",
    "    for col in missing_cols:\n",
    "        ride_waits[col] = 0\n",
    "        \n",
    "    return ride_waits\n",
    "\n",
    "\n"
   ]
  },
  {
   "cell_type": "code",
   "execution_count": null,
   "metadata": {},
   "outputs": [],
   "source": [
    "import sys\n",
    "!{sys.executable} -m pip install eli5 --user\n"
   ]
  },
  {
   "cell_type": "code",
   "execution_count": null,
   "metadata": {},
   "outputs": [],
   "source": [
    "from datetime import datetime\n",
    "from pytz import timezone\n",
    "tz = timezone('US/Eastern')\n",
    "dtime = datetime.now(tz)\n",
    "dtime = dtime.replace(hour = 7,minute = 0, second = 0, microsecond = 0)\n",
    "date = dtime.date()\n",
    "time = dtime.time().strftime(\"%H:%M\")\n",
    "from datetime import datetime\n",
    "from dateutil.relativedelta import relativedelta\n",
    "from pdpbox import pdp, get_dataset, info_plots\n",
    "import eli5\n",
    "from eli5.sklearn import PermutationImportance\n",
    "\n",
    "def date_range(start_date, end_date, increment, period):\n",
    "    result = []\n",
    "    nxt = start_date\n",
    "    delta = relativedelta(**{period:increment})\n",
    "    while nxt <= end_date:\n",
    "        result.append(nxt)\n",
    "        nxt += delta\n",
    "    return result\n",
    "\n",
    "end_time = dtime.replace(hour = 23, minute = 45, second = 0, microsecond = 0)\n",
    "time_list = date_range(dtime, end_time, 15, 'minutes')\n",
    "time_list = [x.time().strftime(\"%H:%M\") for x in time_list]\n",
    "\n",
    "\n",
    "park_hours = pd.read_sql_query(\"select * from DisneyDB.ParkHours where Date = '\" + str(date) + \"'\", conn)\n",
    "\n",
    "\n",
    "def get_conf_interval(clf, df):\n",
    "    conf_high_list = []\n",
    "    conf_low_list = []\n",
    "    for index, row in df.iterrows():\n",
    "        current_row = df.loc[[index]]\n",
    "        all_predictions = [estimator.predict(current_row) for estimator in clf.estimators_]\n",
    "        mean = np.mean(all_predictions)\n",
    "        pred_std = np.std(all_predictions)\n",
    "        conf_high = (mean + 2*pred_std)\n",
    "        conf_low = (mean - 2*pred_std)\n",
    "        conf_high_list.append(conf_high)\n",
    "        conf_low_list.append(conf_low)\n",
    "    \n",
    "    df['confidence_high'] = conf_high_list\n",
    "    df['confidence_low'] = conf_low_list\n",
    "    return df\n",
    "\n",
    "def make_daily_prediction(current_ride,ride, time_list, best_params, todays_predictions,park_hours):\n",
    "    ride_predictions = {}\n",
    "    current_ride_fm = current_ride.copy()\n",
    "    current_ride_fm = transformations.transformData(current_ride_fm)\n",
    "    #print(current_ride.shape[0])\n",
    "    #print(current_ride.columns)\n",
    "    model_data = model_transformation(current_ride_fm, 1)\n",
    "    important_columns = [x for x in model_data.columns if x != \"Wait\"]\n",
    "    clf = RandomForestRegressor(**best_params)\n",
    "    \n",
    "    #scores = cross_val_score(clf, model_data[important_columns],model_data['Wait'], scoring = \"neg_median_absolute_error\", cv = 3)\n",
    "    #ride_score = scores.mean()\n",
    "    #ride_predictions['score'] = ride_score\n",
    "    #print(model_data.head())\n",
    "    clf.fit(model_data[important_columns], model_data['Wait'])\n",
    "    pdp_plot = pdp.pdp_interact(model = clf, dataset = model_data[important_columns], model_features = important_columns, features = [\"inEMH_1\",\"MinutesSinceOpen\"])\n",
    "    ride_predictions['features_used'] = important_columns\n",
    "    predictions_frame = pd.DataFrame()\n",
    "    ride_starter = current_ride.iloc[[0]]\n",
    "    ride_predictions['pdp_plot'] = pdp_plot\n",
    "    predictions_frame = pd.concat([ride_starter]*len(time_list),ignore_index = True)\n",
    "    #need to change the park hours and date\n",
    "    current_park_id = predictions_frame['ParkId'][0]\n",
    "    todays_hours = park_hours[park_hours['ParkId'] == current_park_id]\n",
    "    todays_date = todays_hours['Date'].iloc[0]\n",
    "    park_open = todays_hours['ParkOpen'].iloc[0]\n",
    "    park_close = todays_hours['ParkClose'].iloc[0]\n",
    "    emh_open = todays_hours['EMHOpen'].iloc[0]\n",
    "    emh_close = todays_hours['EMHClose'].iloc[0]\n",
    "\n",
    "    predictions_frame['Date'] = todays_date\n",
    "    predictions_frame['EMHOpen'] = emh_open\n",
    "    predictions_frame['ParkOpen'] = park_open\n",
    "    predictions_frame['ParkClose'] = park_close\n",
    "    predictions_frame['EMHClose'] = emh_close\n",
    "\n",
    "\n",
    "    predictions_frame['Time'] = time_list\n",
    "    predictions_frame = transformations.transformData(predictions_frame)\n",
    "    # print(predictions_frame)\n",
    "    #predictions_frame = transformations.transformData(predictions_frame)\n",
    "    model_predictions_frame = new_data_transform(predictions_frame, 3, important_columns)\n",
    "    predictions_frame['predicted_wait'] = clf.predict(model_predictions_frame[important_columns])\n",
    "    model_predictions_frame = get_conf_interval(clf,model_predictions_frame[important_columns])\n",
    "    predictions_frame['confidence_high'] = model_predictions_frame['confidence_high']\n",
    "    predictions_frame['confidence_low'] = model_predictions_frame['confidence_low']\n",
    "    perm = PermutationImportance(clf).fit(model_data[important_columns], model_data['Wait'])\n",
    "    ride_predictions['weights_table'] = perm\n",
    "    ride_predictions['predictions'] = predictions_frame\n",
    "    todays_predictions[ride] = ride_predictions"
   ]
  },
  {
   "cell_type": "code",
   "execution_count": null,
   "metadata": {
    "scrolled": true
   },
   "outputs": [],
   "source": [
    "%%time\n",
    "from sklearn.ensemble import RandomForestRegressor\n",
    "from sklearn.model_selection import cross_val_score\n",
    "best_params = {'criterion': 'mse',\n",
    " 'max_depth': 10,\n",
    " 'max_features': 'auto',\n",
    " 'min_samples_leaf': 5,\n",
    " 'min_samples_split': 2,\n",
    " 'n_estimators': 100}\n",
    "\n",
    "#rides = list(set(starter_data['Name']))\n",
    "rides = [\"Seven Dwarfs Mine Train\", 'Rock n Roller Coaster Starring Aerosmith', 'Navi River Journey', 'Test Track']\n",
    "global todays_predictions\n",
    "todays_predictions = {}\n",
    "\n",
    "import threading\n",
    "num_threads = len(rides)\n",
    "\n",
    "threads = []\n",
    "for i in range(num_threads):\n",
    "    print(rides[i-1])\n",
    "    ride = rides[i-1]\n",
    "    current_ride = starter_data.copy()\n",
    "    current_ride = starter_data[current_ride['Name'] == ride]\n",
    "    process = threading.Thread(target = make_daily_prediction, args = [current_ride,ride,time_list, best_params, todays_predictions, park_hours])\n",
    "    process.start()\n",
    "    threads.append(process)\n",
    "\n",
    "for process in threads:\n",
    "    process.join()\n"
   ]
  },
  {
   "cell_type": "code",
   "execution_count": null,
   "metadata": {},
   "outputs": [],
   "source": [
    "for key,value in todays_predictions.items():\n",
    "    display(eli5.show_weights(value['weights_table'], feature_names = value['features_used']))"
   ]
  },
  {
   "cell_type": "markdown",
   "metadata": {},
   "source": [
    "### Partial Dependence and Anticipated Wait Importance\n",
    "Eventually all this information boils down to how much being in an extra magic hour changes our wait time prediction. Unfortunately we can never have two exactly the same scenarios one in extra magic hours and one not while holding all other variables constance. However, we can use some fancy techniques to gain a general understanding of the direct partial dependence of being in extra magic hours vs not being in extra magic hours. As we have seen earlier there is statistical evidence to support that being in extra magic hours will decrease a wait time, but the question remains: How much decrease? This depends on the ride, but I took a few of our rides and generated some partial dependence plots to see exactly how much our anticipated wait changed while holding all other things constant. \n",
    "\n",
    "We see by the grid partial dependence plots that the time since the park opened is a much more important factor in determining the wait time, so it confounds the impact of being in extra magic hours or not. With this being said we see that the partial dependence only shows a roughly 1 to 5 minute decrease in wait for being in extra magic hours or not. \n",
    "\n",
    "However we see huge changes in wait based on how many minutes the park has been open. Early and late have quite short waits."
   ]
  },
  {
   "cell_type": "code",
   "execution_count": null,
   "metadata": {
    "scrolled": false
   },
   "outputs": [],
   "source": [
    "value = todays_predictions['Test Track']\n",
    "pdp_plot = value['pdp_plot']\n",
    "pdp.pdp_interact_plot(pdp_interact_out = pdp_plot, feature_names = ['inEMH_1','MinutesSinceOpen'], plot_type = 'grid')"
   ]
  },
  {
   "cell_type": "markdown",
   "metadata": {},
   "source": [
    "## Ideal Scenarios and Conclusions\n",
    "This was just a short introduction to the mystery that is Extra Magic Hours. If you skipped all the graphs laid out above, no worries, I'll sum it up for you here.\n",
    "\n",
    "1. Extra Magic Hours make a difference. It is a huge benefit for those staying on property. Roughly 40% reduction in wait from a ride normally to one in Extra Magic Hours.\n",
    "2. Night Extra Magic Hours make a larger difference than Day Extra Magic Hours by about 20%\n",
    "3. Avoid Extra Magic Hour parks on a Saturday, those parks get more crowded because of the draw of Extra Magic Hours. Every other day it's not that much of a difference.\n",
    "4. Prioritize where you go during the Extra Magic Hour by rides you don't already have a fastpass for, and rides that have the biggest difference. Avoid Avatar Flight of Passage.\n",
    "\n",
    "If I had to plan a Saturday that had Extra Magic Hours at Magic Kingdom at Night I would do it as follows. Ideally I would have park hopper. I would start the day early in Hollywood Studios as a member of the general public, finish the day there around 6 or so, then park hop over to Magic Kingdom. As long as I haven't entered another Extra Magic Hour for that day I'll be good to go for the night time festivities at Magic Kingdom. I would watch the fireworks and watch the crowds dwindle down as Extra Magic Hours approached. Right when the Extra Magic Hour starts, I would head to high priority rides like Seven Dwarfs Mine train which would have a reduced wait by upwards of 30 minutes. \n",
    "\n",
    "The key in every day at Walt Disney World is to maximize your experience. Extra Magic Hours are pivotal in maximizing that time, when done in a smart efficient matter. Hopefully my brief exploration into this topic has helped and may bring a little extra magic to your next Disney vacation."
   ]
  },
  {
   "cell_type": "code",
   "execution_count": null,
   "metadata": {},
   "outputs": [],
   "source": []
  }
 ],
 "metadata": {
  "kernelspec": {
   "display_name": "Python 3",
   "language": "python",
   "name": "python3"
  },
  "language_info": {
   "codemirror_mode": {
    "name": "ipython",
    "version": 3
   },
   "file_extension": ".py",
   "mimetype": "text/x-python",
   "name": "python",
   "nbconvert_exporter": "python",
   "pygments_lexer": "ipython3",
   "version": "3.6.2"
  }
 },
 "nbformat": 4,
 "nbformat_minor": 2
}
