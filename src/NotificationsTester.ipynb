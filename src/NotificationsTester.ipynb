{
 "cells": [
  {
   "cell_type": "code",
   "execution_count": null,
   "metadata": {},
   "outputs": [],
   "source": [
    "import sys\n",
    "!{sys.executable} -m pip install twilio"
   ]
  },
  {
   "cell_type": "code",
   "execution_count": null,
   "metadata": {},
   "outputs": [],
   "source": [
    "import config\n",
    "import pymysql\n",
    "from twilio.rest import Client\n",
    "import pandas as pd\n",
    "from datetime import datetime\n",
    "from pytz import timezone"
   ]
  },
  {
   "cell_type": "code",
   "execution_count": null,
   "metadata": {},
   "outputs": [],
   "source": [
    "conn = pymysql.connect(config.host, user=config.username,port=config.port,\n",
    "                           passwd=config.password)"
   ]
  },
  {
   "cell_type": "code",
   "execution_count": null,
   "metadata": {},
   "outputs": [],
   "source": [
    "notifications_table = pd.read_sql_query(\"select * from DisneyDB.User_Notifications\", conn)"
   ]
  },
  {
   "cell_type": "code",
   "execution_count": null,
   "metadata": {},
   "outputs": [],
   "source": [
    "users_list = list(notifications_table['UserId'].unique())\n",
    "user = users_list[0]"
   ]
  },
  {
   "cell_type": "code",
   "execution_count": null,
   "metadata": {},
   "outputs": [],
   "source": [
    "#delete invalid notifications from table\n",
    "#invalid means we have passed the end date or they no longer follow that ride\n",
    "\n",
    "invalid_rides = []\n",
    "user_frame = notifications_table[notifications_table['UserId'] == user]\n",
    "rides_to_check = list(user_frame['RideId'].unique())\n",
    "user_favorites = pd.read_sql_query(\"select * from DisneyDB.User_Ride_Favorites where UserId = \" + str(user), conn)\n",
    "for ride in rides_to_check:\n",
    "    ride_frame = user_frame[user_frame['RideId'] == ride]\n",
    "    ride_details = pd.read_sql_query(\"select * from DisneyDB.Ride where Id = \" + str(ride), conn)\n",
    "    park_id = ride_details['ParkId'].iloc[0]\n",
    "    date = pd.to_datetime(ride_frame['DateEnd']).iloc[0].date()\n",
    "    print(date)\n",
    "    tz = timezone('US/Eastern')\n",
    "    if (park_id == 10) or (park_id == 11):\n",
    "        tz = timezone('US/Pacific')\n",
    "        \n",
    "    current_date = datetime.now(tz).date()\n",
    "    if (current_date >  date):\n",
    "        invalid_rides.append(ride)\n",
    "        \n",
    "    \n",
    "    ride_in_favorites = user_favorites[user_favorites['RideId'] == ride]\n",
    "    if ride_in_favorites.shape[0] <1:\n",
    "        invalid_rides.append(ride)\n",
    "\n",
    "if len(invalid_rides) > 0:\n",
    "    invalid_rides = [str(x) for x in invalid_rides]\n",
    "    invalid_rides_string = \",\".join(invalid_rides)\n",
    "    query = \"delete from DisneyDB.User_Notifications where UserId = \"+str(user)+\" and RideId in (\" + invalid_rides_string +\")\"\n",
    "    cur = conn.cursor()\n",
    "    cur.execute(query)\n",
    "    conn.commit()"
   ]
  },
  {
   "cell_type": "code",
   "execution_count": null,
   "metadata": {},
   "outputs": [],
   "source": [
    "notifications_table = pd.read_sql_query(\"select * from DisneyDB.User_Notifications\", conn)\n",
    "users_list = list(notifications_table['UserId'].unique())\n",
    "user = users_list[0]\n",
    "#this would be a loop over all users\n",
    "\n",
    "\n",
    "#inner loop over all rides in the users frame\n",
    "user_frame = notifications_table[notifications_table['UserId'] == user]\n",
    "user_frame['DateStart'] = pd.to_datetime(user_frame['DateStart'])\n",
    "user_frame['DateStart'] = [x.date() for x in user_frame['DateStart']]\n",
    "\n",
    "\n",
    "rides_to_check = list(user_frame['RideId'].unique())\n",
    "rides_to_check_str = [str(x) for x in rides_to_check]\n",
    "rides_string = \",\".join(rides_to_check_str)\n",
    "check_operational_query = \"select * from DisneyDB.Ride_Current_Status where RideId in (\" + rides_string +\")\"\n",
    "check_operational = pd.read_sql_query(check_operational_query, conn)\n",
    "rides = list(check_operational[check_operational['Status'] == \"Operating\"]['RideId'].unique())\n",
    "for ride in rides:\n",
    "    print(ride)\n",
    "    ride_frame = user_frame[user_frame['RideId'] == ride]\n",
    "    start_date = ride_frame['DateStart'].iloc[0]\n",
    "    get_name_query = \"select * from DisneyDB.Ride where Id = \"+ str(ride)\n",
    "    get_name = pd.read_sql_query(get_name_query, conn)\n",
    "    park_id = get_name['ParkId'].iloc[0]\n",
    "    tz = timezone('US/Eastern')\n",
    "    if (park_id == 10) or (park_id == 11):\n",
    "        tz = timezone('US/Pacific')\n",
    "        \n",
    "    current_date = datetime.now(tz).date()\n",
    "    \n",
    "    if current_date<start_date:\n",
    "        print(\"too early for this one\")\n",
    "        continue\n",
    "    else:\n",
    "        print(\"this one fits\")\n",
    "    name = get_name['Name'].iloc[0]\n",
    "    waits_query = \"select * from DisneyDB.Ride_Waits_Today rwt join DisneyDB.Ride_Waits_Today_Predicted rwtp on rwt.RideId = rwtp.RideId and LEFT(rwt.Time,4) = LEFT(rwtp.Time,4) where rwt.RideId =\" + str(ride) \n",
    "    waits = pd.read_sql_query(waits_query, conn)\n",
    "    current_time = waits.iloc[waits.shape[0]-1]\n",
    "    if current_time['Wait'] < current_time['ConfidenceLow']:\n",
    "        message = \"Wait for\" + name + \" Much lower than expected! GO NOW for \"+ str(current_time['Wait']) +\" minute wait\"\n",
    "        account_sid = config.twilio_account_num\n",
    "        auth_token = config.twilio_auth_token\n",
    "        client = Client(account_sid, auth_token)\n",
    "        client.messages.create(\n",
    "          to=str(user_frame['PhoneNumber'].iloc[0]),\n",
    "          from_=config.twilio_number,\n",
    "          body=message)\n",
    "\n",
    "    else:\n",
    "        print(name + \" wait is not lower\")\n",
    "# check check to see if the current wait is outside the cofidence interval\n",
    "\n",
    "# grab current wait time, grab predictions from right now, check how it falls in the confidence interval"
   ]
  },
  {
   "cell_type": "code",
   "execution_count": null,
   "metadata": {},
   "outputs": [],
   "source": [
    "ride"
   ]
  },
  {
   "cell_type": "code",
   "execution_count": null,
   "metadata": {},
   "outputs": [],
   "source": [
    "waits_query = \"select * from DisneyDB.Ride_Waits_Today rwt join DisneyDB.Ride_Waits_Today_Predicted rwtp on rwt.RideId = rwtp.RideId and LEFT(rwt.Time,4) = LEFT(rwtp.Time,4) where rwt.RideId =\" + str(ride) "
   ]
  },
  {
   "cell_type": "code",
   "execution_count": null,
   "metadata": {},
   "outputs": [],
   "source": [
    "waits = pd.read_sql_query(waits_query, conn)"
   ]
  },
  {
   "cell_type": "code",
   "execution_count": null,
   "metadata": {},
   "outputs": [],
   "source": [
    "current_time = waits.iloc[waits.shape[0]-1]"
   ]
  },
  {
   "cell_type": "code",
   "execution_count": null,
   "metadata": {},
   "outputs": [],
   "source": []
  }
 ],
 "metadata": {
  "kernelspec": {
   "display_name": "Python 3",
   "language": "python",
   "name": "python3"
  },
  "language_info": {
   "codemirror_mode": {
    "name": "ipython",
    "version": 3
   },
   "file_extension": ".py",
   "mimetype": "text/x-python",
   "name": "python",
   "nbconvert_exporter": "python",
   "pygments_lexer": "ipython3",
   "version": "3.6.2"
  }
 },
 "nbformat": 4,
 "nbformat_minor": 2
}
