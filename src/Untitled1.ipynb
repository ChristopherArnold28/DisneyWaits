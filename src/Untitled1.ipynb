{
 "cells": [
  {
   "cell_type": "code",
   "execution_count": 2,
   "metadata": {},
   "outputs": [
    {
     "name": "stdout",
     "output_type": "stream",
     "text": [
      "Collecting pyowm\n",
      "  Downloading https://files.pythonhosted.org/packages/28/ce/a2d6db7f6c6073e677a53e13c155d9faf1d9a6ef12f3b2c2db188552ab91/pyowm-2.9.0-py3-none-any.whl (3.7MB)\n",
      "Collecting requests<3,>=2.18.2 (from pyowm)\n",
      "  Downloading https://files.pythonhosted.org/packages/65/47/7e02164a2a3db50ed6d8a6ab1d6d60b69c4c3fdf57a284257925dfc12bda/requests-2.19.1-py2.py3-none-any.whl (91kB)\n",
      "Collecting geojson<2.4,>=2.3.0 (from pyowm)\n",
      "  Downloading https://files.pythonhosted.org/packages/1c/59/5d8f40aa03591d68fa6bf99268810c66a0fbc82b9598e40822f3fd9149d2/geojson-2.3.0-py2.py3-none-any.whl\n",
      "Requirement already satisfied: idna<2.8,>=2.5 in c:\\users\\chrisa\\appdata\\local\\programs\\python\\python36\\lib\\site-packages (from requests<3,>=2.18.2->pyowm) (2.6)\n",
      "Requirement already satisfied: certifi>=2017.4.17 in c:\\users\\chrisa\\appdata\\local\\programs\\python\\python36\\lib\\site-packages (from requests<3,>=2.18.2->pyowm) (2018.4.16)\n",
      "Requirement already satisfied: urllib3<1.24,>=1.21.1 in c:\\users\\chrisa\\appdata\\local\\programs\\python\\python36\\lib\\site-packages (from requests<3,>=2.18.2->pyowm) (1.22)\n",
      "Requirement already satisfied: chardet<3.1.0,>=3.0.2 in c:\\users\\chrisa\\appdata\\local\\programs\\python\\python36\\lib\\site-packages (from requests<3,>=2.18.2->pyowm) (3.0.4)\n",
      "Installing collected packages: requests, geojson, pyowm\n",
      "  Found existing installation: requests 2.5.3\n",
      "    Uninstalling requests-2.5.3:\n",
      "      Successfully uninstalled requests-2.5.3\n",
      "Successfully installed geojson-2.3.0 pyowm-2.9.0 requests-2.19.1\n"
     ]
    },
    {
     "name": "stderr",
     "output_type": "stream",
     "text": [
      "amusement 0.1.2 has requirement requests==2.5.3, but you'll have requests 2.19.1 which is incompatible.\n"
     ]
    }
   ],
   "source": [
    "import sys\n",
    "!{sys.executable} -m pip install pyowm"
   ]
  },
  {
   "cell_type": "code",
   "execution_count": 3,
   "metadata": {},
   "outputs": [],
   "source": [
    "import pyowm\n",
    "import config\n",
    "owm = pyowm.OWM(config.weatherAPI)\n",
    "#observations = owm.weather_at_place('Bay Lake,US')\n",
    "\n",
    "reg = owm.city_id_registry()\n",
    "ids = reg.ids_for('Celebration')\n",
    "id = ids[0][0]\n",
    "\n",
    "obs = owm.weather_at_id(id)\n",
    "weather = obs.get_weather()"
   ]
  },
  {
   "cell_type": "code",
   "execution_count": 4,
   "metadata": {},
   "outputs": [],
   "source": [
    "import inspect"
   ]
  },
  {
   "cell_type": "code",
   "execution_count": 12,
   "metadata": {
    "scrolled": false
   },
   "outputs": [
    {
     "data": {
      "text/plain": [
       "[('__init__',\n",
       "  <bound method OWM25.__init__ of <pyowm.webapi25.owm25.OWM25 - API key=************************785b2c27, OWM web API version=2.5, subscription type=free, PyOWM version=2.9.0, language=en>>),\n",
       " ('__repr__',\n",
       "  <bound method OWM25.__repr__ of <pyowm.webapi25.owm25.OWM25 - API key=************************785b2c27, OWM web API version=2.5, subscription type=free, PyOWM version=2.9.0, language=en>>),\n",
       " ('_retrieve_station_history',\n",
       "  <bound method OWM25._retrieve_station_history of <pyowm.webapi25.owm25.OWM25 - API key=************************785b2c27, OWM web API version=2.5, subscription type=free, PyOWM version=2.9.0, language=en>>),\n",
       " ('alert_manager',\n",
       "  <bound method OWM25.alert_manager of <pyowm.webapi25.owm25.OWM25 - API key=************************785b2c27, OWM web API version=2.5, subscription type=free, PyOWM version=2.9.0, language=en>>),\n",
       " ('city_id_registry',\n",
       "  <bound method OWM25.city_id_registry of <pyowm.webapi25.owm25.OWM25 - API key=************************785b2c27, OWM web API version=2.5, subscription type=free, PyOWM version=2.9.0, language=en>>),\n",
       " ('coindex_around_coords',\n",
       "  <bound method OWM25.coindex_around_coords of <pyowm.webapi25.owm25.OWM25 - API key=************************785b2c27, OWM web API version=2.5, subscription type=free, PyOWM version=2.9.0, language=en>>),\n",
       " ('daily_forecast',\n",
       "  <bound method OWM25.daily_forecast of <pyowm.webapi25.owm25.OWM25 - API key=************************785b2c27, OWM web API version=2.5, subscription type=free, PyOWM version=2.9.0, language=en>>),\n",
       " ('daily_forecast_at_coords',\n",
       "  <bound method OWM25.daily_forecast_at_coords of <pyowm.webapi25.owm25.OWM25 - API key=************************785b2c27, OWM web API version=2.5, subscription type=free, PyOWM version=2.9.0, language=en>>),\n",
       " ('daily_forecast_at_id',\n",
       "  <bound method OWM25.daily_forecast_at_id of <pyowm.webapi25.owm25.OWM25 - API key=************************785b2c27, OWM web API version=2.5, subscription type=free, PyOWM version=2.9.0, language=en>>),\n",
       " ('get_API_key',\n",
       "  <bound method OWM25.get_API_key of <pyowm.webapi25.owm25.OWM25 - API key=************************785b2c27, OWM web API version=2.5, subscription type=free, PyOWM version=2.9.0, language=en>>),\n",
       " ('get_API_version',\n",
       "  <bound method OWM25.get_API_version of <pyowm.webapi25.owm25.OWM25 - API key=************************785b2c27, OWM web API version=2.5, subscription type=free, PyOWM version=2.9.0, language=en>>),\n",
       " ('get_language',\n",
       "  <bound method OWM25.get_language of <pyowm.webapi25.owm25.OWM25 - API key=************************785b2c27, OWM web API version=2.5, subscription type=free, PyOWM version=2.9.0, language=en>>),\n",
       " ('get_subscription_type',\n",
       "  <bound method OWM25.get_subscription_type of <pyowm.webapi25.owm25.OWM25 - API key=************************785b2c27, OWM web API version=2.5, subscription type=free, PyOWM version=2.9.0, language=en>>),\n",
       " ('get_version',\n",
       "  <bound method OWM25.get_version of <pyowm.webapi25.owm25.OWM25 - API key=************************785b2c27, OWM web API version=2.5, subscription type=free, PyOWM version=2.9.0, language=en>>),\n",
       " ('is_API_online',\n",
       "  <bound method OWM25.is_API_online of <pyowm.webapi25.owm25.OWM25 - API key=************************785b2c27, OWM web API version=2.5, subscription type=free, PyOWM version=2.9.0, language=en>>),\n",
       " ('no2index_around_coords',\n",
       "  <bound method OWM25.no2index_around_coords of <pyowm.webapi25.owm25.OWM25 - API key=************************785b2c27, OWM web API version=2.5, subscription type=free, PyOWM version=2.9.0, language=en>>),\n",
       " ('ozone_around_coords',\n",
       "  <bound method OWM25.ozone_around_coords of <pyowm.webapi25.owm25.OWM25 - API key=************************785b2c27, OWM web API version=2.5, subscription type=free, PyOWM version=2.9.0, language=en>>),\n",
       " ('set_API_key',\n",
       "  <bound method OWM25.set_API_key of <pyowm.webapi25.owm25.OWM25 - API key=************************785b2c27, OWM web API version=2.5, subscription type=free, PyOWM version=2.9.0, language=en>>),\n",
       " ('set_language',\n",
       "  <bound method OWM25.set_language of <pyowm.webapi25.owm25.OWM25 - API key=************************785b2c27, OWM web API version=2.5, subscription type=free, PyOWM version=2.9.0, language=en>>),\n",
       " ('so2index_around_coords',\n",
       "  <bound method OWM25.so2index_around_coords of <pyowm.webapi25.owm25.OWM25 - API key=************************785b2c27, OWM web API version=2.5, subscription type=free, PyOWM version=2.9.0, language=en>>),\n",
       " ('station_at_coords',\n",
       "  <bound method OWM25.station_at_coords of <pyowm.webapi25.owm25.OWM25 - API key=************************785b2c27, OWM web API version=2.5, subscription type=free, PyOWM version=2.9.0, language=en>>),\n",
       " ('station_day_history',\n",
       "  <bound method OWM25.station_day_history of <pyowm.webapi25.owm25.OWM25 - API key=************************785b2c27, OWM web API version=2.5, subscription type=free, PyOWM version=2.9.0, language=en>>),\n",
       " ('station_hour_history',\n",
       "  <bound method OWM25.station_hour_history of <pyowm.webapi25.owm25.OWM25 - API key=************************785b2c27, OWM web API version=2.5, subscription type=free, PyOWM version=2.9.0, language=en>>),\n",
       " ('station_tick_history',\n",
       "  <bound method OWM25.station_tick_history of <pyowm.webapi25.owm25.OWM25 - API key=************************785b2c27, OWM web API version=2.5, subscription type=free, PyOWM version=2.9.0, language=en>>),\n",
       " ('stations_manager',\n",
       "  <bound method OWM25.stations_manager of <pyowm.webapi25.owm25.OWM25 - API key=************************785b2c27, OWM web API version=2.5, subscription type=free, PyOWM version=2.9.0, language=en>>),\n",
       " ('three_hours_forecast',\n",
       "  <bound method OWM25.three_hours_forecast of <pyowm.webapi25.owm25.OWM25 - API key=************************785b2c27, OWM web API version=2.5, subscription type=free, PyOWM version=2.9.0, language=en>>),\n",
       " ('three_hours_forecast_at_coords',\n",
       "  <bound method OWM25.three_hours_forecast_at_coords of <pyowm.webapi25.owm25.OWM25 - API key=************************785b2c27, OWM web API version=2.5, subscription type=free, PyOWM version=2.9.0, language=en>>),\n",
       " ('three_hours_forecast_at_id',\n",
       "  <bound method OWM25.three_hours_forecast_at_id of <pyowm.webapi25.owm25.OWM25 - API key=************************785b2c27, OWM web API version=2.5, subscription type=free, PyOWM version=2.9.0, language=en>>),\n",
       " ('uvindex_around_coords',\n",
       "  <bound method OWM25.uvindex_around_coords of <pyowm.webapi25.owm25.OWM25 - API key=************************785b2c27, OWM web API version=2.5, subscription type=free, PyOWM version=2.9.0, language=en>>),\n",
       " ('uvindex_forecast_around_coords',\n",
       "  <bound method OWM25.uvindex_forecast_around_coords of <pyowm.webapi25.owm25.OWM25 - API key=************************785b2c27, OWM web API version=2.5, subscription type=free, PyOWM version=2.9.0, language=en>>),\n",
       " ('uvindex_history_around_coords',\n",
       "  <bound method OWM25.uvindex_history_around_coords of <pyowm.webapi25.owm25.OWM25 - API key=************************785b2c27, OWM web API version=2.5, subscription type=free, PyOWM version=2.9.0, language=en>>),\n",
       " ('weather_around_coords',\n",
       "  <bound method OWM25.weather_around_coords of <pyowm.webapi25.owm25.OWM25 - API key=************************785b2c27, OWM web API version=2.5, subscription type=free, PyOWM version=2.9.0, language=en>>),\n",
       " ('weather_at_coords',\n",
       "  <bound method OWM25.weather_at_coords of <pyowm.webapi25.owm25.OWM25 - API key=************************785b2c27, OWM web API version=2.5, subscription type=free, PyOWM version=2.9.0, language=en>>),\n",
       " ('weather_at_id',\n",
       "  <bound method OWM25.weather_at_id of <pyowm.webapi25.owm25.OWM25 - API key=************************785b2c27, OWM web API version=2.5, subscription type=free, PyOWM version=2.9.0, language=en>>),\n",
       " ('weather_at_ids',\n",
       "  <bound method OWM25.weather_at_ids of <pyowm.webapi25.owm25.OWM25 - API key=************************785b2c27, OWM web API version=2.5, subscription type=free, PyOWM version=2.9.0, language=en>>),\n",
       " ('weather_at_place',\n",
       "  <bound method OWM25.weather_at_place of <pyowm.webapi25.owm25.OWM25 - API key=************************785b2c27, OWM web API version=2.5, subscription type=free, PyOWM version=2.9.0, language=en>>),\n",
       " ('weather_at_places',\n",
       "  <bound method OWM25.weather_at_places of <pyowm.webapi25.owm25.OWM25 - API key=************************785b2c27, OWM web API version=2.5, subscription type=free, PyOWM version=2.9.0, language=en>>),\n",
       " ('weather_at_station',\n",
       "  <bound method OWM25.weather_at_station of <pyowm.webapi25.owm25.OWM25 - API key=************************785b2c27, OWM web API version=2.5, subscription type=free, PyOWM version=2.9.0, language=en>>),\n",
       " ('weather_at_stations_in_bbox',\n",
       "  <bound method OWM25.weather_at_stations_in_bbox of <pyowm.webapi25.owm25.OWM25 - API key=************************785b2c27, OWM web API version=2.5, subscription type=free, PyOWM version=2.9.0, language=en>>),\n",
       " ('weather_at_zip_code',\n",
       "  <bound method OWM25.weather_at_zip_code of <pyowm.webapi25.owm25.OWM25 - API key=************************785b2c27, OWM web API version=2.5, subscription type=free, PyOWM version=2.9.0, language=en>>),\n",
       " ('weather_history_at_coords',\n",
       "  <bound method OWM25.weather_history_at_coords of <pyowm.webapi25.owm25.OWM25 - API key=************************785b2c27, OWM web API version=2.5, subscription type=free, PyOWM version=2.9.0, language=en>>),\n",
       " ('weather_history_at_id',\n",
       "  <bound method OWM25.weather_history_at_id of <pyowm.webapi25.owm25.OWM25 - API key=************************785b2c27, OWM web API version=2.5, subscription type=free, PyOWM version=2.9.0, language=en>>),\n",
       " ('weather_history_at_place',\n",
       "  <bound method OWM25.weather_history_at_place of <pyowm.webapi25.owm25.OWM25 - API key=************************785b2c27, OWM web API version=2.5, subscription type=free, PyOWM version=2.9.0, language=en>>)]"
      ]
     },
     "execution_count": 12,
     "metadata": {},
     "output_type": "execute_result"
    }
   ],
   "source": [
    "inspect.getmembers(owm, predicate= inspect.ismethod)"
   ]
  },
  {
   "cell_type": "code",
   "execution_count": 6,
   "metadata": {},
   "outputs": [
    {
     "data": {
      "text/plain": [
       "[('__init__',\n",
       "  <bound method Weather.__init__ of <pyowm.webapi25.weather.Weather - reference time=2018-10-04 13:56:00+00, status=clear, detailed status=clear sky>>),\n",
       " ('__repr__',\n",
       "  <bound method Weather.__repr__ of <pyowm.webapi25.weather.Weather - reference time=2018-10-04 13:56:00+00, status=clear, detailed status=clear sky>>),\n",
       " ('_to_DOM',\n",
       "  <bound method Weather._to_DOM of <pyowm.webapi25.weather.Weather - reference time=2018-10-04 13:56:00+00, status=clear, detailed status=clear sky>>),\n",
       " ('get_clouds',\n",
       "  <bound method Weather.get_clouds of <pyowm.webapi25.weather.Weather - reference time=2018-10-04 13:56:00+00, status=clear, detailed status=clear sky>>),\n",
       " ('get_detailed_status',\n",
       "  <bound method Weather.get_detailed_status of <pyowm.webapi25.weather.Weather - reference time=2018-10-04 13:56:00+00, status=clear, detailed status=clear sky>>),\n",
       " ('get_dewpoint',\n",
       "  <bound method Weather.get_dewpoint of <pyowm.webapi25.weather.Weather - reference time=2018-10-04 13:56:00+00, status=clear, detailed status=clear sky>>),\n",
       " ('get_heat_index',\n",
       "  <bound method Weather.get_heat_index of <pyowm.webapi25.weather.Weather - reference time=2018-10-04 13:56:00+00, status=clear, detailed status=clear sky>>),\n",
       " ('get_humidex',\n",
       "  <bound method Weather.get_humidex of <pyowm.webapi25.weather.Weather - reference time=2018-10-04 13:56:00+00, status=clear, detailed status=clear sky>>),\n",
       " ('get_humidity',\n",
       "  <bound method Weather.get_humidity of <pyowm.webapi25.weather.Weather - reference time=2018-10-04 13:56:00+00, status=clear, detailed status=clear sky>>),\n",
       " ('get_pressure',\n",
       "  <bound method Weather.get_pressure of <pyowm.webapi25.weather.Weather - reference time=2018-10-04 13:56:00+00, status=clear, detailed status=clear sky>>),\n",
       " ('get_rain',\n",
       "  <bound method Weather.get_rain of <pyowm.webapi25.weather.Weather - reference time=2018-10-04 13:56:00+00, status=clear, detailed status=clear sky>>),\n",
       " ('get_reference_time',\n",
       "  <bound method Weather.get_reference_time of <pyowm.webapi25.weather.Weather - reference time=2018-10-04 13:56:00+00, status=clear, detailed status=clear sky>>),\n",
       " ('get_snow',\n",
       "  <bound method Weather.get_snow of <pyowm.webapi25.weather.Weather - reference time=2018-10-04 13:56:00+00, status=clear, detailed status=clear sky>>),\n",
       " ('get_status',\n",
       "  <bound method Weather.get_status of <pyowm.webapi25.weather.Weather - reference time=2018-10-04 13:56:00+00, status=clear, detailed status=clear sky>>),\n",
       " ('get_sunrise_time',\n",
       "  <bound method Weather.get_sunrise_time of <pyowm.webapi25.weather.Weather - reference time=2018-10-04 13:56:00+00, status=clear, detailed status=clear sky>>),\n",
       " ('get_sunset_time',\n",
       "  <bound method Weather.get_sunset_time of <pyowm.webapi25.weather.Weather - reference time=2018-10-04 13:56:00+00, status=clear, detailed status=clear sky>>),\n",
       " ('get_temperature',\n",
       "  <bound method Weather.get_temperature of <pyowm.webapi25.weather.Weather - reference time=2018-10-04 13:56:00+00, status=clear, detailed status=clear sky>>),\n",
       " ('get_visibility_distance',\n",
       "  <bound method Weather.get_visibility_distance of <pyowm.webapi25.weather.Weather - reference time=2018-10-04 13:56:00+00, status=clear, detailed status=clear sky>>),\n",
       " ('get_weather_code',\n",
       "  <bound method Weather.get_weather_code of <pyowm.webapi25.weather.Weather - reference time=2018-10-04 13:56:00+00, status=clear, detailed status=clear sky>>),\n",
       " ('get_weather_icon_name',\n",
       "  <bound method Weather.get_weather_icon_name of <pyowm.webapi25.weather.Weather - reference time=2018-10-04 13:56:00+00, status=clear, detailed status=clear sky>>),\n",
       " ('get_wind',\n",
       "  <bound method Weather.get_wind of <pyowm.webapi25.weather.Weather - reference time=2018-10-04 13:56:00+00, status=clear, detailed status=clear sky>>),\n",
       " ('to_JSON',\n",
       "  <bound method Weather.to_JSON of <pyowm.webapi25.weather.Weather - reference time=2018-10-04 13:56:00+00, status=clear, detailed status=clear sky>>),\n",
       " ('to_XML',\n",
       "  <bound method Weather.to_XML of <pyowm.webapi25.weather.Weather - reference time=2018-10-04 13:56:00+00, status=clear, detailed status=clear sky>>)]"
      ]
     },
     "execution_count": 6,
     "metadata": {},
     "output_type": "execute_result"
    }
   ],
   "source": [
    "inspect.getmembers(weather, predicate = inspect.ismethod)"
   ]
  },
  {
   "cell_type": "code",
   "execution_count": 13,
   "metadata": {},
   "outputs": [],
   "source": [
    "obs = owm.weather_at_coords(28.3747,-81.5516)"
   ]
  },
  {
   "cell_type": "code",
   "execution_count": 14,
   "metadata": {},
   "outputs": [],
   "source": [
    "weather = obs.get_weather()"
   ]
  },
  {
   "cell_type": "code",
   "execution_count": 17,
   "metadata": {},
   "outputs": [
    {
     "data": {
      "text/plain": [
       "'02d'"
      ]
     },
     "execution_count": 17,
     "metadata": {},
     "output_type": "execute_result"
    }
   ],
   "source": [
    "weather.get_weather_icon_name()"
   ]
  },
  {
   "cell_type": "code",
   "execution_count": 10,
   "metadata": {},
   "outputs": [],
   "source": [
    "from pytz import all_timezones"
   ]
  },
  {
   "cell_type": "code",
   "execution_count": 11,
   "metadata": {},
   "outputs": [
    {
     "data": {
      "text/plain": [
       "['Africa/Abidjan', 'Africa/Accra', 'Africa/Addis_Ababa', 'Africa/Algiers', 'Africa/Asmara', 'Africa/Asmera', 'Africa/Bamako', 'Africa/Bangui', 'Africa/Banjul', 'Africa/Bissau', 'Africa/Blantyre', 'Africa/Brazzaville', 'Africa/Bujumbura', 'Africa/Cairo', 'Africa/Casablanca', 'Africa/Ceuta', 'Africa/Conakry', 'Africa/Dakar', 'Africa/Dar_es_Salaam', 'Africa/Djibouti', 'Africa/Douala', 'Africa/El_Aaiun', 'Africa/Freetown', 'Africa/Gaborone', 'Africa/Harare', 'Africa/Johannesburg', 'Africa/Juba', 'Africa/Kampala', 'Africa/Khartoum', 'Africa/Kigali', 'Africa/Kinshasa', 'Africa/Lagos', 'Africa/Libreville', 'Africa/Lome', 'Africa/Luanda', 'Africa/Lubumbashi', 'Africa/Lusaka', 'Africa/Malabo', 'Africa/Maputo', 'Africa/Maseru', 'Africa/Mbabane', 'Africa/Mogadishu', 'Africa/Monrovia', 'Africa/Nairobi', 'Africa/Ndjamena', 'Africa/Niamey', 'Africa/Nouakchott', 'Africa/Ouagadougou', 'Africa/Porto-Novo', 'Africa/Sao_Tome', 'Africa/Timbuktu', 'Africa/Tripoli', 'Africa/Tunis', 'Africa/Windhoek', 'America/Adak', 'America/Anchorage', 'America/Anguilla', 'America/Antigua', 'America/Araguaina', 'America/Argentina/Buenos_Aires', 'America/Argentina/Catamarca', 'America/Argentina/ComodRivadavia', 'America/Argentina/Cordoba', 'America/Argentina/Jujuy', 'America/Argentina/La_Rioja', 'America/Argentina/Mendoza', 'America/Argentina/Rio_Gallegos', 'America/Argentina/Salta', 'America/Argentina/San_Juan', 'America/Argentina/San_Luis', 'America/Argentina/Tucuman', 'America/Argentina/Ushuaia', 'America/Aruba', 'America/Asuncion', 'America/Atikokan', 'America/Atka', 'America/Bahia', 'America/Bahia_Banderas', 'America/Barbados', 'America/Belem', 'America/Belize', 'America/Blanc-Sablon', 'America/Boa_Vista', 'America/Bogota', 'America/Boise', 'America/Buenos_Aires', 'America/Cambridge_Bay', 'America/Campo_Grande', 'America/Cancun', 'America/Caracas', 'America/Catamarca', 'America/Cayenne', 'America/Cayman', 'America/Chicago', 'America/Chihuahua', 'America/Coral_Harbour', 'America/Cordoba', 'America/Costa_Rica', 'America/Creston', 'America/Cuiaba', 'America/Curacao', 'America/Danmarkshavn', 'America/Dawson', 'America/Dawson_Creek', 'America/Denver', 'America/Detroit', 'America/Dominica', 'America/Edmonton', 'America/Eirunepe', 'America/El_Salvador', 'America/Ensenada', 'America/Fort_Nelson', 'America/Fort_Wayne', 'America/Fortaleza', 'America/Glace_Bay', 'America/Godthab', 'America/Goose_Bay', 'America/Grand_Turk', 'America/Grenada', 'America/Guadeloupe', 'America/Guatemala', 'America/Guayaquil', 'America/Guyana', 'America/Halifax', 'America/Havana', 'America/Hermosillo', 'America/Indiana/Indianapolis', 'America/Indiana/Knox', 'America/Indiana/Marengo', 'America/Indiana/Petersburg', 'America/Indiana/Tell_City', 'America/Indiana/Vevay', 'America/Indiana/Vincennes', 'America/Indiana/Winamac', 'America/Indianapolis', 'America/Inuvik', 'America/Iqaluit', 'America/Jamaica', 'America/Jujuy', 'America/Juneau', 'America/Kentucky/Louisville', 'America/Kentucky/Monticello', 'America/Knox_IN', 'America/Kralendijk', 'America/La_Paz', 'America/Lima', 'America/Los_Angeles', 'America/Louisville', 'America/Lower_Princes', 'America/Maceio', 'America/Managua', 'America/Manaus', 'America/Marigot', 'America/Martinique', 'America/Matamoros', 'America/Mazatlan', 'America/Mendoza', 'America/Menominee', 'America/Merida', 'America/Metlakatla', 'America/Mexico_City', 'America/Miquelon', 'America/Moncton', 'America/Monterrey', 'America/Montevideo', 'America/Montreal', 'America/Montserrat', 'America/Nassau', 'America/New_York', 'America/Nipigon', 'America/Nome', 'America/Noronha', 'America/North_Dakota/Beulah', 'America/North_Dakota/Center', 'America/North_Dakota/New_Salem', 'America/Ojinaga', 'America/Panama', 'America/Pangnirtung', 'America/Paramaribo', 'America/Phoenix', 'America/Port-au-Prince', 'America/Port_of_Spain', 'America/Porto_Acre', 'America/Porto_Velho', 'America/Puerto_Rico', 'America/Punta_Arenas', 'America/Rainy_River', 'America/Rankin_Inlet', 'America/Recife', 'America/Regina', 'America/Resolute', 'America/Rio_Branco', 'America/Rosario', 'America/Santa_Isabel', 'America/Santarem', 'America/Santiago', 'America/Santo_Domingo', 'America/Sao_Paulo', 'America/Scoresbysund', 'America/Shiprock', 'America/Sitka', 'America/St_Barthelemy', 'America/St_Johns', 'America/St_Kitts', 'America/St_Lucia', 'America/St_Thomas', 'America/St_Vincent', 'America/Swift_Current', 'America/Tegucigalpa', 'America/Thule', 'America/Thunder_Bay', 'America/Tijuana', 'America/Toronto', 'America/Tortola', 'America/Vancouver', 'America/Virgin', 'America/Whitehorse', 'America/Winnipeg', 'America/Yakutat', 'America/Yellowknife', 'Antarctica/Casey', 'Antarctica/Davis', 'Antarctica/DumontDUrville', 'Antarctica/Macquarie', 'Antarctica/Mawson', 'Antarctica/McMurdo', 'Antarctica/Palmer', 'Antarctica/Rothera', 'Antarctica/South_Pole', 'Antarctica/Syowa', 'Antarctica/Troll', 'Antarctica/Vostok', 'Arctic/Longyearbyen', 'Asia/Aden', 'Asia/Almaty', 'Asia/Amman', 'Asia/Anadyr', 'Asia/Aqtau', 'Asia/Aqtobe', 'Asia/Ashgabat', 'Asia/Ashkhabad', 'Asia/Atyrau', 'Asia/Baghdad', 'Asia/Bahrain', 'Asia/Baku', 'Asia/Bangkok', 'Asia/Barnaul', 'Asia/Beirut', 'Asia/Bishkek', 'Asia/Brunei', 'Asia/Calcutta', 'Asia/Chita', 'Asia/Choibalsan', 'Asia/Chongqing', 'Asia/Chungking', 'Asia/Colombo', 'Asia/Dacca', 'Asia/Damascus', 'Asia/Dhaka', 'Asia/Dili', 'Asia/Dubai', 'Asia/Dushanbe', 'Asia/Famagusta', 'Asia/Gaza', 'Asia/Harbin', 'Asia/Hebron', 'Asia/Ho_Chi_Minh', 'Asia/Hong_Kong', 'Asia/Hovd', 'Asia/Irkutsk', 'Asia/Istanbul', 'Asia/Jakarta', 'Asia/Jayapura', 'Asia/Jerusalem', 'Asia/Kabul', 'Asia/Kamchatka', 'Asia/Karachi', 'Asia/Kashgar', 'Asia/Kathmandu', 'Asia/Katmandu', 'Asia/Khandyga', 'Asia/Kolkata', 'Asia/Krasnoyarsk', 'Asia/Kuala_Lumpur', 'Asia/Kuching', 'Asia/Kuwait', 'Asia/Macao', 'Asia/Macau', 'Asia/Magadan', 'Asia/Makassar', 'Asia/Manila', 'Asia/Muscat', 'Asia/Nicosia', 'Asia/Novokuznetsk', 'Asia/Novosibirsk', 'Asia/Omsk', 'Asia/Oral', 'Asia/Phnom_Penh', 'Asia/Pontianak', 'Asia/Pyongyang', 'Asia/Qatar', 'Asia/Qyzylorda', 'Asia/Rangoon', 'Asia/Riyadh', 'Asia/Saigon', 'Asia/Sakhalin', 'Asia/Samarkand', 'Asia/Seoul', 'Asia/Shanghai', 'Asia/Singapore', 'Asia/Srednekolymsk', 'Asia/Taipei', 'Asia/Tashkent', 'Asia/Tbilisi', 'Asia/Tehran', 'Asia/Tel_Aviv', 'Asia/Thimbu', 'Asia/Thimphu', 'Asia/Tokyo', 'Asia/Tomsk', 'Asia/Ujung_Pandang', 'Asia/Ulaanbaatar', 'Asia/Ulan_Bator', 'Asia/Urumqi', 'Asia/Ust-Nera', 'Asia/Vientiane', 'Asia/Vladivostok', 'Asia/Yakutsk', 'Asia/Yangon', 'Asia/Yekaterinburg', 'Asia/Yerevan', 'Atlantic/Azores', 'Atlantic/Bermuda', 'Atlantic/Canary', 'Atlantic/Cape_Verde', 'Atlantic/Faeroe', 'Atlantic/Faroe', 'Atlantic/Jan_Mayen', 'Atlantic/Madeira', 'Atlantic/Reykjavik', 'Atlantic/South_Georgia', 'Atlantic/St_Helena', 'Atlantic/Stanley', 'Australia/ACT', 'Australia/Adelaide', 'Australia/Brisbane', 'Australia/Broken_Hill', 'Australia/Canberra', 'Australia/Currie', 'Australia/Darwin', 'Australia/Eucla', 'Australia/Hobart', 'Australia/LHI', 'Australia/Lindeman', 'Australia/Lord_Howe', 'Australia/Melbourne', 'Australia/NSW', 'Australia/North', 'Australia/Perth', 'Australia/Queensland', 'Australia/South', 'Australia/Sydney', 'Australia/Tasmania', 'Australia/Victoria', 'Australia/West', 'Australia/Yancowinna', 'Brazil/Acre', 'Brazil/DeNoronha', 'Brazil/East', 'Brazil/West', 'CET', 'CST6CDT', 'Canada/Atlantic', 'Canada/Central', 'Canada/East-Saskatchewan', 'Canada/Eastern', 'Canada/Mountain', 'Canada/Newfoundland', 'Canada/Pacific', 'Canada/Saskatchewan', 'Canada/Yukon', 'Chile/Continental', 'Chile/EasterIsland', 'Cuba', 'EET', 'EST', 'EST5EDT', 'Egypt', 'Eire', 'Etc/GMT', 'Etc/GMT+0', 'Etc/GMT+1', 'Etc/GMT+10', 'Etc/GMT+11', 'Etc/GMT+12', 'Etc/GMT+2', 'Etc/GMT+3', 'Etc/GMT+4', 'Etc/GMT+5', 'Etc/GMT+6', 'Etc/GMT+7', 'Etc/GMT+8', 'Etc/GMT+9', 'Etc/GMT-0', 'Etc/GMT-1', 'Etc/GMT-10', 'Etc/GMT-11', 'Etc/GMT-12', 'Etc/GMT-13', 'Etc/GMT-14', 'Etc/GMT-2', 'Etc/GMT-3', 'Etc/GMT-4', 'Etc/GMT-5', 'Etc/GMT-6', 'Etc/GMT-7', 'Etc/GMT-8', 'Etc/GMT-9', 'Etc/GMT0', 'Etc/Greenwich', 'Etc/UCT', 'Etc/UTC', 'Etc/Universal', 'Etc/Zulu', 'Europe/Amsterdam', 'Europe/Andorra', 'Europe/Astrakhan', 'Europe/Athens', 'Europe/Belfast', 'Europe/Belgrade', 'Europe/Berlin', 'Europe/Bratislava', 'Europe/Brussels', 'Europe/Bucharest', 'Europe/Budapest', 'Europe/Busingen', 'Europe/Chisinau', 'Europe/Copenhagen', 'Europe/Dublin', 'Europe/Gibraltar', 'Europe/Guernsey', 'Europe/Helsinki', 'Europe/Isle_of_Man', 'Europe/Istanbul', 'Europe/Jersey', 'Europe/Kaliningrad', 'Europe/Kiev', 'Europe/Kirov', 'Europe/Lisbon', 'Europe/Ljubljana', 'Europe/London', 'Europe/Luxembourg', 'Europe/Madrid', 'Europe/Malta', 'Europe/Mariehamn', 'Europe/Minsk', 'Europe/Monaco', 'Europe/Moscow', 'Europe/Nicosia', 'Europe/Oslo', 'Europe/Paris', 'Europe/Podgorica', 'Europe/Prague', 'Europe/Riga', 'Europe/Rome', 'Europe/Samara', 'Europe/San_Marino', 'Europe/Sarajevo', 'Europe/Saratov', 'Europe/Simferopol', 'Europe/Skopje', 'Europe/Sofia', 'Europe/Stockholm', 'Europe/Tallinn', 'Europe/Tirane', 'Europe/Tiraspol', 'Europe/Ulyanovsk', 'Europe/Uzhgorod', 'Europe/Vaduz', 'Europe/Vatican', 'Europe/Vienna', 'Europe/Vilnius', 'Europe/Volgograd', 'Europe/Warsaw', 'Europe/Zagreb', 'Europe/Zaporozhye', 'Europe/Zurich', 'GB', 'GB-Eire', 'GMT', 'GMT+0', 'GMT-0', 'GMT0', 'Greenwich', 'HST', 'Hongkong', 'Iceland', 'Indian/Antananarivo', 'Indian/Chagos', 'Indian/Christmas', 'Indian/Cocos', 'Indian/Comoro', 'Indian/Kerguelen', 'Indian/Mahe', 'Indian/Maldives', 'Indian/Mauritius', 'Indian/Mayotte', 'Indian/Reunion', 'Iran', 'Israel', 'Jamaica', 'Japan', 'Kwajalein', 'Libya', 'MET', 'MST', 'MST7MDT', 'Mexico/BajaNorte', 'Mexico/BajaSur', 'Mexico/General', 'NZ', 'NZ-CHAT', 'Navajo', 'PRC', 'PST8PDT', 'Pacific/Apia', 'Pacific/Auckland', 'Pacific/Bougainville', 'Pacific/Chatham', 'Pacific/Chuuk', 'Pacific/Easter', 'Pacific/Efate', 'Pacific/Enderbury', 'Pacific/Fakaofo', 'Pacific/Fiji', 'Pacific/Funafuti', 'Pacific/Galapagos', 'Pacific/Gambier', 'Pacific/Guadalcanal', 'Pacific/Guam', 'Pacific/Honolulu', 'Pacific/Johnston', 'Pacific/Kiritimati', 'Pacific/Kosrae', 'Pacific/Kwajalein', 'Pacific/Majuro', 'Pacific/Marquesas', 'Pacific/Midway', 'Pacific/Nauru', 'Pacific/Niue', 'Pacific/Norfolk', 'Pacific/Noumea', 'Pacific/Pago_Pago', 'Pacific/Palau', 'Pacific/Pitcairn', 'Pacific/Pohnpei', 'Pacific/Ponape', 'Pacific/Port_Moresby', 'Pacific/Rarotonga', 'Pacific/Saipan', 'Pacific/Samoa', 'Pacific/Tahiti', 'Pacific/Tarawa', 'Pacific/Tongatapu', 'Pacific/Truk', 'Pacific/Wake', 'Pacific/Wallis', 'Pacific/Yap', 'Poland', 'Portugal', 'ROC', 'ROK', 'Singapore', 'Turkey', 'UCT', 'US/Alaska', 'US/Aleutian', 'US/Arizona', 'US/Central', 'US/East-Indiana', 'US/Eastern', 'US/Hawaii', 'US/Indiana-Starke', 'US/Michigan', 'US/Mountain', 'US/Pacific', 'US/Pacific-New', 'US/Samoa', 'UTC', 'Universal', 'W-SU', 'WET', 'Zulu']"
      ]
     },
     "execution_count": 11,
     "metadata": {},
     "output_type": "execute_result"
    }
   ],
   "source": [
    "all_timezones"
   ]
  },
  {
   "cell_type": "code",
   "execution_count": null,
   "metadata": {},
   "outputs": [],
   "source": []
  }
 ],
 "metadata": {
  "kernelspec": {
   "display_name": "Python 3",
   "language": "python",
   "name": "python3"
  },
  "language_info": {
   "codemirror_mode": {
    "name": "ipython",
    "version": 3
   },
   "file_extension": ".py",
   "mimetype": "text/x-python",
   "name": "python",
   "nbconvert_exporter": "python",
   "pygments_lexer": "ipython3",
   "version": "3.6.2"
  }
 },
 "nbformat": 4,
 "nbformat_minor": 2
}
