{
 "cells": [
  {
   "cell_type": "markdown",
   "metadata": {},
   "source": [
    "# Model Building\n",
    "\n",
    "This notebook will go over the process of testing different variations of models to find the parameters that best suit the model for this application. \n",
    "\n",
    "* Model Type\n",
    "* Metric Evaluation\n",
    "* Hyper Parameter Tuning \n"
   ]
  },
  {
   "cell_type": "code",
   "execution_count": null,
   "metadata": {},
   "outputs": [],
   "source": [
    "import sys\n"
   ]
  },
  {
   "cell_type": "code",
   "execution_count": null,
   "metadata": {},
   "outputs": [],
   "source": [
    "!{sys.executable} -m pip install pymysql"
   ]
  },
  {
   "cell_type": "code",
   "execution_count": 1,
   "metadata": {},
   "outputs": [],
   "source": [
    "from sklearn.ensemble import RandomForestRegressor\n",
    "import sklearn.metrics as metrics\n",
    "from scipy.stats.stats import pearsonr\n",
    "import pandas as pd\n",
    "import numpy as np\n",
    "from datetime import datetime\n",
    "import statistics\n",
    "import matplotlib.pyplot as plt\n",
    "import pymysql\n",
    "import config\n",
    "import transformations"
   ]
  },
  {
   "cell_type": "code",
   "execution_count": 2,
   "metadata": {},
   "outputs": [
    {
     "name": "stderr",
     "output_type": "stream",
     "text": [
      "C:\\Users\\chrisA\\Documents\\DisneyWaitTimes\\DisneyWaits\\src\\transformations.py:121: SettingWithCopyWarning: \n",
      "A value is trying to be set on a copy of a slice from a DataFrame.\n",
      "Try using .loc[row_indexer,col_indexer] = value instead\n",
      "\n",
      "See the caveats in the documentation: http://pandas.pydata.org/pandas-docs/stable/indexing.html#indexing-view-versus-copy\n",
      "  RideWaits[\"Month\"] = RideWaits[\"Date\"].dt.month\n",
      "C:\\Users\\chrisA\\Documents\\DisneyWaitTimes\\DisneyWaits\\src\\transformations.py:122: SettingWithCopyWarning: \n",
      "A value is trying to be set on a copy of a slice from a DataFrame.\n",
      "Try using .loc[row_indexer,col_indexer] = value instead\n",
      "\n",
      "See the caveats in the documentation: http://pandas.pydata.org/pandas-docs/stable/indexing.html#indexing-view-versus-copy\n",
      "  RideWaits[\"TimeSinceRideOpen\"] = (RideWaits[\"Date\"] - RideWaits[\"OpeningDate\"]).dt.days\n",
      "C:\\Users\\chrisA\\Documents\\DisneyWaitTimes\\DisneyWaits\\src\\transformations.py:124: SettingWithCopyWarning: \n",
      "A value is trying to be set on a copy of a slice from a DataFrame.\n",
      "Try using .loc[row_indexer,col_indexer] = value instead\n",
      "\n",
      "See the caveats in the documentation: http://pandas.pydata.org/pandas-docs/stable/indexing.html#indexing-view-versus-copy\n",
      "  RideWaits[\"MagicHourType\"] = pd.Categorical(RideWaits[\"MagicHourType\"])\n",
      "C:\\Users\\chrisA\\Documents\\DisneyWaitTimes\\DisneyWaits\\src\\transformations.py:125: SettingWithCopyWarning: \n",
      "A value is trying to be set on a copy of a slice from a DataFrame.\n",
      "Try using .loc[row_indexer,col_indexer] = value instead\n",
      "\n",
      "See the caveats in the documentation: http://pandas.pydata.org/pandas-docs/stable/indexing.html#indexing-view-versus-copy\n",
      "  RideWaits[\"TimeSinceRideOpen\"] = (RideWaits[\"Date\"] - RideWaits[\"OpeningDate\"]).dt.days\n",
      "C:\\Users\\chrisA\\Documents\\DisneyWaitTimes\\DisneyWaits\\src\\transformations.py:126: SettingWithCopyWarning: \n",
      "A value is trying to be set on a copy of a slice from a DataFrame.\n",
      "Try using .loc[row_indexer,col_indexer] = value instead\n",
      "\n",
      "See the caveats in the documentation: http://pandas.pydata.org/pandas-docs/stable/indexing.html#indexing-view-versus-copy\n",
      "  RideWaits[\"DayOfWeek\"] = pd.Categorical(RideWaits[\"DayOfWeek\"])\n"
     ]
    }
   ],
   "source": [
    "conn = pymysql.connect(config.host, user=config.username,port=config.port,\n",
    "                           passwd=config.password)\n",
    "\n",
    "#gather all historical data to build model\n",
    "RideWaits = pd.read_sql_query(\"call DisneyDB.RideWaitQuery('2,7,8,9')\", conn)\n",
    "\n",
    "#transform data for model bulding\n",
    "RideWaits = transformations.transformData(RideWaits)\n"
   ]
  },
  {
   "cell_type": "code",
   "execution_count": 3,
   "metadata": {},
   "outputs": [
    {
     "data": {
      "text/html": [
       "<div>\n",
       "<style>\n",
       "    .dataframe thead tr:only-child th {\n",
       "        text-align: right;\n",
       "    }\n",
       "\n",
       "    .dataframe thead th {\n",
       "        text-align: left;\n",
       "    }\n",
       "\n",
       "    .dataframe tbody tr th {\n",
       "        vertical-align: top;\n",
       "    }\n",
       "</style>\n",
       "<table border=\"1\" class=\"dataframe\">\n",
       "  <thead>\n",
       "    <tr style=\"text-align: right;\">\n",
       "      <th></th>\n",
       "      <th>RideId</th>\n",
       "      <th>Date</th>\n",
       "      <th>Time</th>\n",
       "      <th>Wait</th>\n",
       "      <th>Name</th>\n",
       "      <th>OpeningDate</th>\n",
       "      <th>Tier</th>\n",
       "      <th>Location</th>\n",
       "      <th>IntellectualProp</th>\n",
       "      <th>ParkId</th>\n",
       "      <th>...</th>\n",
       "      <th>CharacterExperience</th>\n",
       "      <th>inEMH</th>\n",
       "      <th>validTime</th>\n",
       "      <th>EMHDay</th>\n",
       "      <th>TimeSinceOpen</th>\n",
       "      <th>TimeSinceMidday</th>\n",
       "      <th>MagicHourType</th>\n",
       "      <th>MinutesSinceOpen</th>\n",
       "      <th>Month</th>\n",
       "      <th>TimeSinceRideOpen</th>\n",
       "    </tr>\n",
       "  </thead>\n",
       "  <tbody>\n",
       "    <tr>\n",
       "      <th>0</th>\n",
       "      <td>46</td>\n",
       "      <td>2018-09-19</td>\n",
       "      <td>09:15:00</td>\n",
       "      <td>10</td>\n",
       "      <td>Royal Sommerhus</td>\n",
       "      <td>2016-06-21</td>\n",
       "      <td>minor_attraction</td>\n",
       "      <td></td>\n",
       "      <td>None</td>\n",
       "      <td>2</td>\n",
       "      <td>...</td>\n",
       "      <td>0</td>\n",
       "      <td>0</td>\n",
       "      <td>1</td>\n",
       "      <td>0</td>\n",
       "      <td>0</td>\n",
       "      <td>5</td>\n",
       "      <td>None</td>\n",
       "      <td>15.0</td>\n",
       "      <td>9</td>\n",
       "      <td>820</td>\n",
       "    </tr>\n",
       "    <tr>\n",
       "      <th>1</th>\n",
       "      <td>46</td>\n",
       "      <td>2018-09-19</td>\n",
       "      <td>09:30:00</td>\n",
       "      <td>30</td>\n",
       "      <td>Royal Sommerhus</td>\n",
       "      <td>2016-06-21</td>\n",
       "      <td>minor_attraction</td>\n",
       "      <td></td>\n",
       "      <td>None</td>\n",
       "      <td>2</td>\n",
       "      <td>...</td>\n",
       "      <td>0</td>\n",
       "      <td>0</td>\n",
       "      <td>1</td>\n",
       "      <td>0</td>\n",
       "      <td>0</td>\n",
       "      <td>5</td>\n",
       "      <td>None</td>\n",
       "      <td>30.0</td>\n",
       "      <td>9</td>\n",
       "      <td>820</td>\n",
       "    </tr>\n",
       "    <tr>\n",
       "      <th>2</th>\n",
       "      <td>62992</td>\n",
       "      <td>2018-09-19</td>\n",
       "      <td>09:36:00</td>\n",
       "      <td>10</td>\n",
       "      <td>Turtle Talk With Crush</td>\n",
       "      <td>2004-11-16</td>\n",
       "      <td>minor_attraction</td>\n",
       "      <td>Future World</td>\n",
       "      <td>Pixar</td>\n",
       "      <td>2</td>\n",
       "      <td>...</td>\n",
       "      <td>0</td>\n",
       "      <td>0</td>\n",
       "      <td>1</td>\n",
       "      <td>0</td>\n",
       "      <td>0</td>\n",
       "      <td>5</td>\n",
       "      <td>None</td>\n",
       "      <td>36.0</td>\n",
       "      <td>9</td>\n",
       "      <td>5055</td>\n",
       "    </tr>\n",
       "    <tr>\n",
       "      <th>3</th>\n",
       "      <td>107785</td>\n",
       "      <td>2018-09-19</td>\n",
       "      <td>09:36:00</td>\n",
       "      <td>10</td>\n",
       "      <td>The Seas with Nemo and Friends</td>\n",
       "      <td>2006-11-27</td>\n",
       "      <td>major_attraction</td>\n",
       "      <td>Future World</td>\n",
       "      <td>Pixar</td>\n",
       "      <td>2</td>\n",
       "      <td>...</td>\n",
       "      <td>0</td>\n",
       "      <td>0</td>\n",
       "      <td>1</td>\n",
       "      <td>0</td>\n",
       "      <td>0</td>\n",
       "      <td>5</td>\n",
       "      <td>None</td>\n",
       "      <td>36.0</td>\n",
       "      <td>9</td>\n",
       "      <td>4314</td>\n",
       "    </tr>\n",
       "    <tr>\n",
       "      <th>4</th>\n",
       "      <td>18375495</td>\n",
       "      <td>2018-09-19</td>\n",
       "      <td>09:36:00</td>\n",
       "      <td>20</td>\n",
       "      <td>Frozen Ever After</td>\n",
       "      <td>2016-06-21</td>\n",
       "      <td>major_attraction</td>\n",
       "      <td>World Showcase</td>\n",
       "      <td>Princess</td>\n",
       "      <td>2</td>\n",
       "      <td>...</td>\n",
       "      <td>0</td>\n",
       "      <td>0</td>\n",
       "      <td>1</td>\n",
       "      <td>0</td>\n",
       "      <td>0</td>\n",
       "      <td>5</td>\n",
       "      <td>None</td>\n",
       "      <td>36.0</td>\n",
       "      <td>9</td>\n",
       "      <td>820</td>\n",
       "    </tr>\n",
       "  </tbody>\n",
       "</table>\n",
       "<p>5 rows × 27 columns</p>\n",
       "</div>"
      ],
      "text/plain": [
       "     RideId       Date      Time  Wait                            Name  \\\n",
       "0        46 2018-09-19  09:15:00    10                 Royal Sommerhus   \n",
       "1        46 2018-09-19  09:30:00    30                 Royal Sommerhus   \n",
       "2     62992 2018-09-19  09:36:00    10          Turtle Talk With Crush   \n",
       "3    107785 2018-09-19  09:36:00    10  The Seas with Nemo and Friends   \n",
       "4  18375495 2018-09-19  09:36:00    20               Frozen Ever After   \n",
       "\n",
       "  OpeningDate              Tier        Location IntellectualProp ParkId  \\\n",
       "0  2016-06-21  minor_attraction                             None      2   \n",
       "1  2016-06-21  minor_attraction                             None      2   \n",
       "2  2004-11-16  minor_attraction    Future World            Pixar      2   \n",
       "3  2006-11-27  major_attraction    Future World            Pixar      2   \n",
       "4  2016-06-21  major_attraction  World Showcase         Princess      2   \n",
       "\n",
       "         ...         CharacterExperience inEMH validTime EMHDay TimeSinceOpen  \\\n",
       "0        ...                           0     0         1      0             0   \n",
       "1        ...                           0     0         1      0             0   \n",
       "2        ...                           0     0         1      0             0   \n",
       "3        ...                           0     0         1      0             0   \n",
       "4        ...                           0     0         1      0             0   \n",
       "\n",
       "  TimeSinceMidday  MagicHourType  MinutesSinceOpen  Month  TimeSinceRideOpen  \n",
       "0               5           None              15.0      9                820  \n",
       "1               5           None              30.0      9                820  \n",
       "2               5           None              36.0      9               5055  \n",
       "3               5           None              36.0      9               4314  \n",
       "4               5           None              36.0      9                820  \n",
       "\n",
       "[5 rows x 27 columns]"
      ]
     },
     "execution_count": 3,
     "metadata": {},
     "output_type": "execute_result"
    }
   ],
   "source": [
    "RideWaits.head()"
   ]
  },
  {
   "cell_type": "markdown",
   "metadata": {},
   "source": [
    "The data frame looks quite different than in the prevsious exploratory analysis frame. Certain columns have been removed in an effort to consolidate and extract the vital information that has been seen to make a difference in Wait times. "
   ]
  },
  {
   "cell_type": "code",
   "execution_count": 4,
   "metadata": {},
   "outputs": [],
   "source": [
    "keyFeatures = [\"Name\",\"MagicHourType\", \"Tier\", \"IntellectualProp\", \"ParkName\", \"DayOfWeek\", \"Weekend\", \"TimeSinceOpen\",\"MinutesSinceOpen\", \"CharacterExperience\", \"TimeSinceMidday\", \"inEMH\", \"EMHDay\"]\n"
   ]
  },
  {
   "cell_type": "code",
   "execution_count": 5,
   "metadata": {},
   "outputs": [
    {
     "data": {
      "text/plain": [
       "['Name',\n",
       " 'MagicHourType',\n",
       " 'Tier',\n",
       " 'IntellectualProp',\n",
       " 'ParkName',\n",
       " 'DayOfWeek',\n",
       " 'Weekend',\n",
       " 'TimeSinceOpen',\n",
       " 'MinutesSinceOpen',\n",
       " 'CharacterExperience',\n",
       " 'TimeSinceMidday',\n",
       " 'inEMH',\n",
       " 'EMHDay']"
      ]
     },
     "execution_count": 5,
     "metadata": {},
     "output_type": "execute_result"
    }
   ],
   "source": [
    "keyFeatures"
   ]
  },
  {
   "cell_type": "markdown",
   "metadata": {},
   "source": [
    "We have established to this point that this list of features will cause the most impact on wait times and give the most insight into the dataset. \n",
    "These can be broken into categories into the information we are trying to gain:\n",
    "* Ride Characteristics\n",
    "    * Name\n",
    "    * Tier\n",
    "    * IntellectualProp (Intellectual Property)\n",
    "    * ParkName (Which park is this ride located in)\n",
    "    * CharacterExperience (Is this a character experience)\n",
    "* Time of Day Information\n",
    "    * DayOfWeek\n",
    "    * Weekend \n",
    "    * TimeSinceOpen (How many hours is it since the park opened that day)\n",
    "    * TimeSinceMidday (How many hours is it in absolute value since 2pm)\n",
    "    * inEMH (is this wait time in an Extra magic hour window)\n",
    "    * EMHDay (is this day at the park an Extra Magic Hour Day)\n",
    "    * MagicHourType (is this a extra magic morning or an extra magic night)\n",
    "    * Minutes since park open. This and TimeSinceOpen may add unwanted variance. So I may remove TimeSinceOpen\n",
    "* Weather\n",
    "    * SimpleStatus\n",
    "    \n",
    "As the dataset grows and the more months and weather characteristics pile in, this list of usable features may expand. For example, temperature is not being included in this list as all the data gathered as of today has been from one week, and the temperature pattern adds no value. "
   ]
  },
  {
   "cell_type": "code",
   "execution_count": 6,
   "metadata": {},
   "outputs": [
    {
     "name": "stdout",
     "output_type": "stream",
     "text": [
      "['Name', 'MagicHourType', 'Tier', 'IntellectualProp', 'ParkName', 'DayOfWeek', 'Weekend', 'TimeSinceOpen', 'MinutesSinceOpen', 'CharacterExperience', 'TimeSinceMidday', 'inEMH', 'EMHDay', 'Wait']\n"
     ]
    }
   ],
   "source": [
    "keyFeatures.append(\"Wait\")\n",
    "RideWaits[\"Name\"] = pd.Categorical(RideWaits[\"Name\"])\n",
    "RideWaits[\"DayOfWeek\"] = pd.Categorical(RideWaits[\"DayOfWeek\"])\n",
    "print(keyFeatures)\n",
    "RideWaits = RideWaits[keyFeatures]\n",
    "categoryColumns = RideWaits.select_dtypes(include = ['category']).columns\n",
    "for col in categoryColumns:\n",
    "    currentCategorical = pd.get_dummies(RideWaits[col], prefix = str(col+ \"_\"))\n",
    "    RideWaits = pd.concat([RideWaits,currentCategorical], axis = 1)\n",
    "    RideWaits = RideWaits.drop([col], axis = 1)\n"
   ]
  },
  {
   "cell_type": "code",
   "execution_count": 7,
   "metadata": {
    "scrolled": true
   },
   "outputs": [
    {
     "data": {
      "text/html": [
       "<div>\n",
       "<style>\n",
       "    .dataframe thead tr:only-child th {\n",
       "        text-align: right;\n",
       "    }\n",
       "\n",
       "    .dataframe thead th {\n",
       "        text-align: left;\n",
       "    }\n",
       "\n",
       "    .dataframe tbody tr th {\n",
       "        vertical-align: top;\n",
       "    }\n",
       "</style>\n",
       "<table border=\"1\" class=\"dataframe\">\n",
       "  <thead>\n",
       "    <tr style=\"text-align: right;\">\n",
       "      <th></th>\n",
       "      <th>Weekend</th>\n",
       "      <th>TimeSinceOpen</th>\n",
       "      <th>MinutesSinceOpen</th>\n",
       "      <th>CharacterExperience</th>\n",
       "      <th>TimeSinceMidday</th>\n",
       "      <th>inEMH</th>\n",
       "      <th>EMHDay</th>\n",
       "      <th>Wait</th>\n",
       "      <th>Name__A Pirates Adventure ~ Treasures of the Seven Seas</th>\n",
       "      <th>Name__Alien Swirling Saucers</th>\n",
       "      <th>...</th>\n",
       "      <th>ParkName__Disneys Hollywood Studios</th>\n",
       "      <th>ParkName__EpCot</th>\n",
       "      <th>ParkName__Magic Kingdom Park</th>\n",
       "      <th>DayOfWeek__0</th>\n",
       "      <th>DayOfWeek__1</th>\n",
       "      <th>DayOfWeek__2</th>\n",
       "      <th>DayOfWeek__3</th>\n",
       "      <th>DayOfWeek__4</th>\n",
       "      <th>DayOfWeek__5</th>\n",
       "      <th>DayOfWeek__6</th>\n",
       "    </tr>\n",
       "  </thead>\n",
       "  <tbody>\n",
       "    <tr>\n",
       "      <th>0</th>\n",
       "      <td>0</td>\n",
       "      <td>0</td>\n",
       "      <td>15.0</td>\n",
       "      <td>0</td>\n",
       "      <td>5</td>\n",
       "      <td>0</td>\n",
       "      <td>0</td>\n",
       "      <td>10</td>\n",
       "      <td>0</td>\n",
       "      <td>0</td>\n",
       "      <td>...</td>\n",
       "      <td>0</td>\n",
       "      <td>1</td>\n",
       "      <td>0</td>\n",
       "      <td>0</td>\n",
       "      <td>0</td>\n",
       "      <td>1</td>\n",
       "      <td>0</td>\n",
       "      <td>0</td>\n",
       "      <td>0</td>\n",
       "      <td>0</td>\n",
       "    </tr>\n",
       "    <tr>\n",
       "      <th>1</th>\n",
       "      <td>0</td>\n",
       "      <td>0</td>\n",
       "      <td>30.0</td>\n",
       "      <td>0</td>\n",
       "      <td>5</td>\n",
       "      <td>0</td>\n",
       "      <td>0</td>\n",
       "      <td>30</td>\n",
       "      <td>0</td>\n",
       "      <td>0</td>\n",
       "      <td>...</td>\n",
       "      <td>0</td>\n",
       "      <td>1</td>\n",
       "      <td>0</td>\n",
       "      <td>0</td>\n",
       "      <td>0</td>\n",
       "      <td>1</td>\n",
       "      <td>0</td>\n",
       "      <td>0</td>\n",
       "      <td>0</td>\n",
       "      <td>0</td>\n",
       "    </tr>\n",
       "    <tr>\n",
       "      <th>2</th>\n",
       "      <td>0</td>\n",
       "      <td>0</td>\n",
       "      <td>36.0</td>\n",
       "      <td>0</td>\n",
       "      <td>5</td>\n",
       "      <td>0</td>\n",
       "      <td>0</td>\n",
       "      <td>10</td>\n",
       "      <td>0</td>\n",
       "      <td>0</td>\n",
       "      <td>...</td>\n",
       "      <td>0</td>\n",
       "      <td>1</td>\n",
       "      <td>0</td>\n",
       "      <td>0</td>\n",
       "      <td>0</td>\n",
       "      <td>1</td>\n",
       "      <td>0</td>\n",
       "      <td>0</td>\n",
       "      <td>0</td>\n",
       "      <td>0</td>\n",
       "    </tr>\n",
       "    <tr>\n",
       "      <th>3</th>\n",
       "      <td>0</td>\n",
       "      <td>0</td>\n",
       "      <td>36.0</td>\n",
       "      <td>0</td>\n",
       "      <td>5</td>\n",
       "      <td>0</td>\n",
       "      <td>0</td>\n",
       "      <td>10</td>\n",
       "      <td>0</td>\n",
       "      <td>0</td>\n",
       "      <td>...</td>\n",
       "      <td>0</td>\n",
       "      <td>1</td>\n",
       "      <td>0</td>\n",
       "      <td>0</td>\n",
       "      <td>0</td>\n",
       "      <td>1</td>\n",
       "      <td>0</td>\n",
       "      <td>0</td>\n",
       "      <td>0</td>\n",
       "      <td>0</td>\n",
       "    </tr>\n",
       "    <tr>\n",
       "      <th>4</th>\n",
       "      <td>0</td>\n",
       "      <td>0</td>\n",
       "      <td>36.0</td>\n",
       "      <td>0</td>\n",
       "      <td>5</td>\n",
       "      <td>0</td>\n",
       "      <td>0</td>\n",
       "      <td>20</td>\n",
       "      <td>0</td>\n",
       "      <td>0</td>\n",
       "      <td>...</td>\n",
       "      <td>0</td>\n",
       "      <td>1</td>\n",
       "      <td>0</td>\n",
       "      <td>0</td>\n",
       "      <td>0</td>\n",
       "      <td>1</td>\n",
       "      <td>0</td>\n",
       "      <td>0</td>\n",
       "      <td>0</td>\n",
       "      <td>0</td>\n",
       "    </tr>\n",
       "  </tbody>\n",
       "</table>\n",
       "<p>5 rows × 108 columns</p>\n",
       "</div>"
      ],
      "text/plain": [
       "   Weekend  TimeSinceOpen  MinutesSinceOpen  CharacterExperience  \\\n",
       "0        0              0              15.0                    0   \n",
       "1        0              0              30.0                    0   \n",
       "2        0              0              36.0                    0   \n",
       "3        0              0              36.0                    0   \n",
       "4        0              0              36.0                    0   \n",
       "\n",
       "   TimeSinceMidday  inEMH  EMHDay  Wait  \\\n",
       "0                5      0       0    10   \n",
       "1                5      0       0    30   \n",
       "2                5      0       0    10   \n",
       "3                5      0       0    10   \n",
       "4                5      0       0    20   \n",
       "\n",
       "   Name__A Pirates Adventure ~ Treasures of the Seven Seas  \\\n",
       "0                                                  0         \n",
       "1                                                  0         \n",
       "2                                                  0         \n",
       "3                                                  0         \n",
       "4                                                  0         \n",
       "\n",
       "   Name__Alien Swirling Saucers      ...       \\\n",
       "0                             0      ...        \n",
       "1                             0      ...        \n",
       "2                             0      ...        \n",
       "3                             0      ...        \n",
       "4                             0      ...        \n",
       "\n",
       "   ParkName__Disneys Hollywood Studios  ParkName__EpCot  \\\n",
       "0                                    0                1   \n",
       "1                                    0                1   \n",
       "2                                    0                1   \n",
       "3                                    0                1   \n",
       "4                                    0                1   \n",
       "\n",
       "   ParkName__Magic Kingdom Park  DayOfWeek__0  DayOfWeek__1  DayOfWeek__2  \\\n",
       "0                             0             0             0             1   \n",
       "1                             0             0             0             1   \n",
       "2                             0             0             0             1   \n",
       "3                             0             0             0             1   \n",
       "4                             0             0             0             1   \n",
       "\n",
       "   DayOfWeek__3  DayOfWeek__4  DayOfWeek__5  DayOfWeek__6  \n",
       "0             0             0             0             0  \n",
       "1             0             0             0             0  \n",
       "2             0             0             0             0  \n",
       "3             0             0             0             0  \n",
       "4             0             0             0             0  \n",
       "\n",
       "[5 rows x 108 columns]"
      ]
     },
     "execution_count": 7,
     "metadata": {},
     "output_type": "execute_result"
    }
   ],
   "source": [
    "RideWaits.head()"
   ]
  },
  {
   "cell_type": "code",
   "execution_count": 8,
   "metadata": {},
   "outputs": [
    {
     "data": {
      "text/plain": [
       "uint8      100\n",
       "int64        7\n",
       "float64      1\n",
       "dtype: int64"
      ]
     },
     "execution_count": 8,
     "metadata": {},
     "output_type": "execute_result"
    }
   ],
   "source": [
    "RideWaits.dtypes.value_counts()"
   ]
  },
  {
   "cell_type": "code",
   "execution_count": 11,
   "metadata": {},
   "outputs": [
    {
     "data": {
      "text/plain": [
       "<matplotlib.axes._subplots.AxesSubplot at 0x27847aae208>"
      ]
     },
     "execution_count": 11,
     "metadata": {},
     "output_type": "execute_result"
    },
    {
     "data": {
      "image/png": "[encoded data removed]",
      "text/plain": [
       "<matplotlib.figure.Figure at 0x2784296e668>"
      ]
     },
     "metadata": {},
     "output_type": "display_data"
    }
   ],
   "source": [
    "import matplotlib.pyplot as plt\n",
    "import seaborn as sns\n",
    "%matplotlib inline\n",
    "sns.distplot(RideWaits[\"Wait\"])"
   ]
  },
  {
   "cell_type": "code",
   "execution_count": null,
   "metadata": {},
   "outputs": [],
   "source": [
    "#almost all of our waits are between 0 and 50 minutes"
   ]
  },
  {
   "cell_type": "code",
   "execution_count": 9,
   "metadata": {},
   "outputs": [],
   "source": [
    "from sklearn.model_selection import train_test_split\n",
    "\n",
    "train_x, test_x, train_y, test_y = train_test_split(RideWaits.drop(['Wait'], axis = 1), RideWaits[\"Wait\"], test_size = .25, random_state = 1)\n",
    "\n",
    "rf = RandomForestRegressor(random_state = 1)\n",
    "rf.fit(train_x, train_y)\n",
    "predictions = rf.predict(test_x)\n",
    "rmseBase = metrics.mean_squared_error(predictions, test_y)**(1/2)\n",
    "r2Base = metrics.r2_score(predictions, test_y)\n",
    "varBase = metrics.explained_variance_score(predictions,test_y)\n",
    "pearsoncorrBase = pearsonr(predictions, test_y)\n",
    "perrorBase = abs(predictions - test_y)/test_y\n",
    "accuracyBase = 1 - statistics.median(perrorBase)\n",
    "errorBase = abs(predictions - test_y)\n",
    "merrorBase = errorBase.mean()\n",
    "medErrorBase = statistics.median(errorBase)"
   ]
  },
  {
   "cell_type": "code",
   "execution_count": 10,
   "metadata": {},
   "outputs": [
    {
     "name": "stdout",
     "output_type": "stream",
     "text": [
      "RMSE: 15.77907720058853\n",
      "r2: 0.4953648907947068\n",
      "var:0.4954022484505005\n",
      "pearsonCorr: (0.7743321576912681, 0.0)\n",
      "Accuracy: 0.08333333333333326\n",
      "Mean Error: 10.120797630792502\n",
      "Median Error: 6.016666666666664\n"
     ]
    }
   ],
   "source": [
    "print(\"RMSE: \" + str(rmseBase))\n",
    "print(\"r2: \"+ str(r2Base))\n",
    "print(\"var:\" + str(varBase))\n",
    "print(\"pearsonCorr: \"+ str(pearsoncorrBase))\n",
    "print(\"Accuracy: \" + str(accuracyBase))\n",
    "print(\"Mean Error: \" + str(merrorBase))\n",
    "print(\"Median Error: \" + str(medErrorBase))"
   ]
  },
  {
   "cell_type": "code",
   "execution_count": null,
   "metadata": {},
   "outputs": [],
   "source": [
    "def plot_correlation_heatmap(df):\n",
    "    corr = df.corr()\n",
    "    \n",
    "    sns.set(style=\"white\")\n",
    "    mask = np.zeros_like(corr, dtype=np.bool)\n",
    "    mask[np.triu_indices_from(mask)] = True\n",
    "\n",
    "    f, ax = plt.subplots(figsize=(11, 9))\n",
    "    cmap = sns.diverging_palette(220, 10, as_cmap=True)\n",
    "\n",
    "\n",
    "    sns.heatmap(corr, mask=mask, cmap=cmap, vmax=.3, center=0,\n",
    "            square=True, linewidths=.5, cbar_kws={\"shrink\": .5})\n",
    "    plt.show()"
   ]
  },
  {
   "cell_type": "code",
   "execution_count": null,
   "metadata": {},
   "outputs": [],
   "source": [
    "import matplotlib.pyplot as plt\n",
    "import seaborn as sns\n",
    "%matplotlib inline"
   ]
  },
  {
   "cell_type": "code",
   "execution_count": null,
   "metadata": {},
   "outputs": [],
   "source": [
    "high_correlations = RideWaits.corr()['Wait']\n",
    "high_correlations = high_correlations.loc[abs(high_correlations) > .05]\n",
    "print(high_correlations)"
   ]
  },
  {
   "cell_type": "code",
   "execution_count": null,
   "metadata": {},
   "outputs": [],
   "source": [
    "key_columns = high_correlations.index\n",
    "RideWaits = RideWaits[key_columns]"
   ]
  },
  {
   "cell_type": "code",
   "execution_count": null,
   "metadata": {},
   "outputs": [],
   "source": [
    "RideWaits.head()"
   ]
  },
  {
   "cell_type": "code",
   "execution_count": null,
   "metadata": {},
   "outputs": [],
   "source": [
    "train_x, test_x, train_y, test_y = train_test_split(RideWaits.drop(['Wait'], axis = 1), RideWaits[\"Wait\"], test_size = .25, random_state = 1)\n",
    "\n",
    "rf = RandomForestRegressor(random_state = 1)\n",
    "rf.fit(train_x, train_y)\n",
    "predictions = rf.predict(test_x)\n",
    "rmseBase = metrics.mean_squared_error(predictions, test_y)**(1/2)\n",
    "r2Base = metrics.r2_score(predictions, test_y)\n",
    "varBase = metrics.explained_variance_score(predictions,test_y)\n",
    "pearsoncorrBase = pearsonr(predictions, test_y)\n",
    "perrorBase = abs(predictions - test_y)/test_y\n",
    "accuracyBase = 1 - statistics.median(perrorBase)\n",
    "errorBase = abs(predictions - test_y)\n",
    "merrorBase = errorBase.mean()\n",
    "medErrorBase = statistics.median(errorBase)"
   ]
  },
  {
   "cell_type": "code",
   "execution_count": null,
   "metadata": {},
   "outputs": [],
   "source": [
    "print(\"RMSE: \" + str(rmseBase))\n",
    "print(\"r2: \"+ str(r2Base))\n",
    "print(\"var:\" + str(varBase))\n",
    "print(\"pearsonCorr: \"+ str(pearsoncorrBase))\n",
    "print(\"Accuracy: \" + str(accuracyBase))\n",
    "print(\"Mean Error: \" + str(merrorBase))\n",
    "print(\"Median Error: \" + str(medErrorBase))"
   ]
  },
  {
   "cell_type": "markdown",
   "metadata": {},
   "source": [
    "By using the defaults of the Random forest regressor we can get some baseline statistics with this algorithm. We see we have a high correlation meaning that our predictions are following the proper trend of our data. Our accuracy for our base model is 85% and is not a bad start, we also see that both our mean and median wait time error values are under 10 minutes which is also a good place to start. We can now try some other modeling methods as well as tune the hyper parameters for our random forest \n",
    "model. "
   ]
  },
  {
   "cell_type": "markdown",
   "metadata": {},
   "source": [
    "We are going to start with attempting to tune the hyper parameters for this model"
   ]
  },
  {
   "cell_type": "markdown",
   "metadata": {},
   "source": [
    "Our focus will be on the following parameters: \n",
    "* n_estimators\n",
    "* max_features\n",
    "* max_depth\n",
    "* min_samples_split\n",
    "* min_samples_leaf\n",
    "* bootstrap"
   ]
  },
  {
   "cell_type": "code",
   "execution_count": null,
   "metadata": {},
   "outputs": [],
   "source": [
    "from sklearn.model_selection import RandomizedSearchCV\n",
    "\n",
    "n_estimators = [int(x) for x in np.linspace(start = 200, stop = 2000, num = 10)]\n",
    "max_features = ['auto', 'sqrt']\n",
    "max_depth = [int(x) for x in np.linspace(10,110, num = 11)]\n",
    "max_depth.append(None)\n",
    "min_samples_split = [2,5,10]\n",
    "min_samples_leaf = [1,2,4]\n",
    "\n",
    "bootstrap = [True, False]\n",
    "\n",
    "random_grid = {'n_estimators': n_estimators,\n",
    "               'max_features': max_features,\n",
    "               'max_depth': max_depth,\n",
    "               'min_samples_split': min_samples_split,\n",
    "               'min_samples_leaf': min_samples_leaf,\n",
    "               'bootstrap': bootstrap}"
   ]
  },
  {
   "cell_type": "code",
   "execution_count": null,
   "metadata": {},
   "outputs": [],
   "source": [
    "rfNew = RandomForestRegressor()\n",
    "rf_randomized = RandomizedSearchCV(estimator = rf, param_distributions = random_grid, n_iter = 100, cv = 3, verbose = 2, random_state = 1, n_jobs = -1)"
   ]
  },
  {
   "cell_type": "code",
   "execution_count": null,
   "metadata": {},
   "outputs": [],
   "source": [
    "rf_randomized.fit(train_x, train_y)"
   ]
  },
  {
   "cell_type": "code",
   "execution_count": null,
   "metadata": {},
   "outputs": [],
   "source": [
    "rf_randomized.best_params_"
   ]
  },
  {
   "cell_type": "code",
   "execution_count": null,
   "metadata": {},
   "outputs": [],
   "source": [
    "rf_random = rf_randomized.best_estimator_"
   ]
  },
  {
   "cell_type": "code",
   "execution_count": null,
   "metadata": {},
   "outputs": [],
   "source": [
    "predictions = rf_random.predict(test_x)\n",
    "rmseRandom = metrics.mean_squared_error(predictions, test_y)**(1/2)\n",
    "r2Random = metrics.r2_score(predictions, test_y)\n",
    "varRandom = metrics.explained_variance_score(predictions,test_y)\n",
    "pearsoncorrRandom = pearsonr(predictions, test_y)\n",
    "perrorRandom = abs(predictions - test_y)/test_y\n",
    "accuracyRandom = 1 - statistics.median(perrorRandom)\n",
    "errorRandom = abs(predictions - test_y)\n",
    "merrorRandom = errorRandom.mean()\n",
    "medErrorRandom = statistics.median(errorRandom)"
   ]
  },
  {
   "cell_type": "code",
   "execution_count": null,
   "metadata": {},
   "outputs": [],
   "source": [
    "print(\"RMSE: \" + str(rmseRandom))\n",
    "print(\"r2: \"+ str(r2Random))\n",
    "print(\"var:\" + str(varRandom))\n",
    "print(\"pearsonCorr: \"+ str(pearsoncorrRandom))\n",
    "print(\"Accuracy: \" + str(accuracyRandom))\n",
    "print(\"Mean Error: \" + str(merrorRandom))\n",
    "print(\"Median Error: \" + str(medErrorRandom))"
   ]
  },
  {
   "cell_type": "markdown",
   "metadata": {},
   "source": [
    "We see a very slight increase in RMSE, mean error, and median Error, but see no increase in overall accuracy."
   ]
  },
  {
   "cell_type": "code",
   "execution_count": null,
   "metadata": {},
   "outputs": [],
   "source": [
    "gridSearch = {'bootstrap': [True],\n",
    "              'max_depth' : [60,70,80,90],\n",
    "              'max_features': ['auto',6,7,8,9,10],\n",
    "              'min_samples_leaf': [1,2,3,4],\n",
    "              'min_samples_split': [4,5,6,7],\n",
    "              'n_estimators' : [800,1200,1600,1800,2000]}"
   ]
  },
  {
   "cell_type": "code",
   "execution_count": null,
   "metadata": {},
   "outputs": [],
   "source": [
    "from sklearn.model_selection import GridSearchCV\n",
    "rf = RandomForestRegressor()\n",
    "grid_search_rf = GridSearchCV(estimator = rf, param_grid = gridSearch, cv = 3, n_jobs = -1, verbose = 2)"
   ]
  },
  {
   "cell_type": "code",
   "execution_count": null,
   "metadata": {},
   "outputs": [],
   "source": [
    "grid_search_rf.fit(train_x, train_y)"
   ]
  },
  {
   "cell_type": "code",
   "execution_count": null,
   "metadata": {},
   "outputs": [],
   "source": [
    "grid_search_rf.best_params_"
   ]
  },
  {
   "cell_type": "code",
   "execution_count": null,
   "metadata": {},
   "outputs": [],
   "source": [
    "best_grid = grid_search_rf.best_estimator_"
   ]
  },
  {
   "cell_type": "code",
   "execution_count": null,
   "metadata": {},
   "outputs": [],
   "source": [
    "predictions = best_grid.predict(test_x)\n",
    "rmseGrid = metrics.mean_squared_error(predictions, test_y)**(1/2)\n",
    "r2Grid = metrics.r2_score(predictions, test_y)\n",
    "varGrid = metrics.explained_variance_score(predictions,test_y)\n",
    "pearsoncorrGrid = pearsonr(predictions, test_y)\n",
    "perrorGrid = abs(predictions - test_y)/test_y\n",
    "accuracyGrid = 1 - statistics.median(perrorGrid)\n",
    "errorGrid = abs(predictions - test_y)\n",
    "merrorGrid = errorGrid.mean()\n",
    "medErrorGrid = statistics.median(errorGrid)"
   ]
  },
  {
   "cell_type": "code",
   "execution_count": null,
   "metadata": {},
   "outputs": [],
   "source": [
    "print(\"RMSE: \" + str(rmseGrid))\n",
    "print(\"r2: \"+ str(r2Grid))\n",
    "print(\"var:\" + str(varGrid))\n",
    "print(\"pearsonCorr: \"+ str(pearsoncorrGrid))\n",
    "print(\"Accuracy: \" + str(accuracyGrid))\n",
    "print(\"Mean Error: \" + str(merrorGrid))\n",
    "print(\"Median Error: \" + str(medErrorGrid))"
   ]
  },
  {
   "cell_type": "markdown",
   "metadata": {},
   "source": [
    "A slight increase in accuracy but negligible effects across the board in most other categories"
   ]
  },
  {
   "cell_type": "markdown",
   "metadata": {
    "collapsed": true
   },
   "source": [
    "## Cross validation\n",
    "Using the internal cross validation packages we can compute scores without worrying about over fitting or tuning hyper parameters to specific data sets. This can cause a pseudo leakage of our testing data into the training set. We will start the cross validation with the random forest regressor we got from the best estimator from the grid search."
   ]
  },
  {
   "cell_type": "code",
   "execution_count": null,
   "metadata": {},
   "outputs": [],
   "source": [
    "from sklearn.model_selection import cross_val_score"
   ]
  },
  {
   "cell_type": "code",
   "execution_count": null,
   "metadata": {},
   "outputs": [],
   "source": [
    "rf = RandomForestRegressor(bootstrap = True, max_depth = 50, max_features = 7, min_samples_leaf = 1, n_estimators = 500)"
   ]
  },
  {
   "cell_type": "code",
   "execution_count": null,
   "metadata": {},
   "outputs": [],
   "source": [
    "key_features"
   ]
  },
  {
   "cell_type": "code",
   "execution_count": null,
   "metadata": {},
   "outputs": [],
   "source": [
    "RideWaits.head()"
   ]
  },
  {
   "cell_type": "code",
   "execution_count": null,
   "metadata": {},
   "outputs": [],
   "source": [
    "scores = cross_val_score(rf, RideWaits[key_columns].drop(['Wait']), RideWaits[\"Wait\"], cv = 10)"
   ]
  },
  {
   "cell_type": "code",
   "execution_count": null,
   "metadata": {},
   "outputs": [],
   "source": [
    "scores"
   ]
  },
  {
   "cell_type": "markdown",
   "metadata": {},
   "source": [
    "This is just a single metric, it is perhaps more useful to obtain a number of metrics for each of our cross validated models."
   ]
  },
  {
   "cell_type": "code",
   "execution_count": null,
   "metadata": {},
   "outputs": [],
   "source": [
    "import sklearn.metrics as metrics\n",
    "from sklearn.model_selection import KFold\n",
    "def cross_validation_metrics(df,  target, folds, key_cols = None,):\n",
    "    df = df.dropna(how = 'any')\n",
    "    if key_cols is None:\n",
    "        X = df.drop(target, axis = 1)\n",
    "    else:\n",
    "        X = df[key_cols]\n",
    "    y = np.array(df[target])\n",
    "    overall_rmse = []\n",
    "    overall_accuracy = []\n",
    "    overall_median_error = []\n",
    "    overall_mean_error = []\n",
    "    overall_r2 = []\n",
    "    corr = []\n",
    "    kf = KFold(n_splits = folds)\n",
    "    i = 1\n",
    "    for train_index, test_index in kf.split(X):\n",
    "        X_train, X_test = X.iloc[train_index], X.iloc[test_index]\n",
    "        y_train, y_test = y[train_index], y[test_index]\n",
    "        rf = RandomForestRegressor(n_estimators = 250,max_features = 'auto', min_samples_split = 4, min_samples_leaf = 1,max_depth = 60)\n",
    "        rf.fit(X_train, y_train)\n",
    "        predictions = rf.predict(X_test)\n",
    "        predictions = predictions[y_test>0]\n",
    "        y_test = y_test[y_test>0]\n",
    "        rmse = metrics.mean_squared_error(predictions, y_test)**(1/2)\n",
    "        var = metrics.explained_variance_score(predictions,y_test)\n",
    "        pearsoncorr = pearsonr(predictions, np.array(y_test))\n",
    "        perror = abs(predictions - y_test)/y_test\n",
    "        mperror = statistics.median(perror)\n",
    "        error = abs(predictions - y_test)\n",
    "        merror = error.mean()\n",
    "        print(\"Fold \" + str(i))\n",
    "        print(\"RMSE: \"+ str(rmse))\n",
    "        print(\"Correlation: \"+ str(pearsoncorr))\n",
    "        print(\"Accuracy: \" + str(1-mperror))\n",
    "        print(\"Mean Error: \"+ str(merror))\n",
    "        print(\"Median Error: \"+ str(statistics.median(error)))\n",
    "        print(\"-------------------------\")\n",
    "        overall_rmse.append(rmse)\n",
    "        overall_accuracy.append((1-mperror))\n",
    "        overall_median_error.append(statistics.median(error))\n",
    "        overall_mean_error.append(merror)\n",
    "        #overall_r2.append(r2)\n",
    "        corr.append(pearsoncorr[0])\n",
    "        i = i+1\n",
    "    \n",
    "    return_dict = {\n",
    "        'rmse': np.mean(overall_rmse),\n",
    "        'accuracy': np.mean(overall_accuracy),\n",
    "        'median_error': np.mean(overall_median_error),\n",
    "        'mean_error' : np.mean(overall_mean_error),\n",
    "        'correlation':np.mean(corr)\n",
    "    }\n",
    "    return return_dict\n"
   ]
  },
  {
   "cell_type": "code",
   "execution_count": null,
   "metadata": {},
   "outputs": [],
   "source": [
    "model_metrics = cross_validation_metrics(RideWaits,\"Wait\",10)"
   ]
  },
  {
   "cell_type": "code",
   "execution_count": null,
   "metadata": {},
   "outputs": [],
   "source": [
    "model_metrics"
   ]
  },
  {
   "cell_type": "code",
   "execution_count": null,
   "metadata": {},
   "outputs": [],
   "source": [
    "metric_frame = pd.DataFrame(list(model_metrics.items()), columns = ['Metric Name', 'Metric Value'])"
   ]
  },
  {
   "cell_type": "code",
   "execution_count": null,
   "metadata": {},
   "outputs": [],
   "source": [
    "metric_frame"
   ]
  },
  {
   "cell_type": "code",
   "execution_count": null,
   "metadata": {},
   "outputs": [],
   "source": []
  }
 ],
 "metadata": {
  "kernelspec": {
   "display_name": "Python 3",
   "language": "python",
   "name": "python3"
  },
  "language_info": {
   "codemirror_mode": {
    "name": "ipython",
    "version": 3
   },
   "file_extension": ".py",
   "mimetype": "text/x-python",
   "name": "python",
   "nbconvert_exporter": "python",
   "pygments_lexer": "ipython3",
   "version": "3.6.2"
  }
 },
 "nbformat": 4,
 "nbformat_minor": 2
}
