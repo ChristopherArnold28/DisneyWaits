{
 "cells": [
  {
   "cell_type": "markdown",
   "metadata": {},
   "source": [
    "# Model Building\n",
    "\n",
    "This notebook will go over the process of testing different variations of models to find the parameters that best suit the model for this application. \n",
    "\n",
    "* Model Type\n",
    "* Metric Evaluation\n",
    "* Hyper Parameter Tuning \n"
   ]
  },
  {
   "cell_type": "code",
   "execution_count": 1,
   "metadata": {},
   "outputs": [],
   "source": [
    "import sys"
   ]
  },
  {
   "cell_type": "code",
   "execution_count": 2,
   "metadata": {},
   "outputs": [
    {
     "name": "stdout",
     "output_type": "stream",
     "text": [
      "Requirement already satisfied: pymysql in c:\\users\\chrisa\\appdata\\local\\programs\\python\\python36\\lib\\site-packages (0.8.1)\n"
     ]
    }
   ],
   "source": [
    "!{sys.executable} -m pip install pymysql"
   ]
  },
  {
   "cell_type": "code",
   "execution_count": 3,
   "metadata": {},
   "outputs": [],
   "source": [
    "from sklearn.ensemble import RandomForestRegressor\n",
    "import sklearn.metrics as metrics\n",
    "from scipy.stats.stats import pearsonr\n",
    "import pandas as pd\n",
    "import numpy as np\n",
    "from datetime import datetime\n",
    "import statistics\n",
    "import matplotlib.pyplot as plt\n",
    "import pymysql\n",
    "import config\n",
    "import transformations"
   ]
  },
  {
   "cell_type": "code",
   "execution_count": 4,
   "metadata": {},
   "outputs": [
    {
     "name": "stderr",
     "output_type": "stream",
     "text": [
      "C:\\Users\\chrisA\\AppData\\Local\\Programs\\Python\\Python36\\lib\\site-packages\\pandas\\core\\indexing.py:517: SettingWithCopyWarning: \n",
      "A value is trying to be set on a copy of a slice from a DataFrame.\n",
      "Try using .loc[row_indexer,col_indexer] = value instead\n",
      "\n",
      "See the caveats in the documentation: http://pandas.pydata.org/pandas-docs/stable/indexing.html#indexing-view-versus-copy\n",
      "  self.obj[item] = s\n",
      "C:\\Users\\chrisA\\AppData\\Local\\Programs\\Python\\Python36\\lib\\site-packages\\pandas\\core\\indexing.py:337: SettingWithCopyWarning: \n",
      "A value is trying to be set on a copy of a slice from a DataFrame.\n",
      "Try using .loc[row_indexer,col_indexer] = value instead\n",
      "\n",
      "See the caveats in the documentation: http://pandas.pydata.org/pandas-docs/stable/indexing.html#indexing-view-versus-copy\n",
      "  self.obj[key] = _infer_fill_value(value)\n"
     ]
    }
   ],
   "source": [
    "conn = pymysql.connect(config.host, user=config.username,port=config.port,\n",
    "                           passwd=config.password)\n",
    "\n",
    "#gather all historical data to build model\n",
    "RideWaits = pd.read_sql_query(\"call DisneyDB.RideWaitQuery\", conn)\n",
    "\n",
    "#transform data for model bulding\n",
    "RideWaits = transformations.transformData(RideWaits)\n"
   ]
  },
  {
   "cell_type": "code",
   "execution_count": 5,
   "metadata": {},
   "outputs": [
    {
     "data": {
      "text/html": [
       "<div>\n",
       "<style>\n",
       "    .dataframe thead tr:only-child th {\n",
       "        text-align: right;\n",
       "    }\n",
       "\n",
       "    .dataframe thead th {\n",
       "        text-align: left;\n",
       "    }\n",
       "\n",
       "    .dataframe tbody tr th {\n",
       "        vertical-align: top;\n",
       "    }\n",
       "</style>\n",
       "<table border=\"1\" class=\"dataframe\">\n",
       "  <thead>\n",
       "    <tr style=\"text-align: right;\">\n",
       "      <th></th>\n",
       "      <th>RideId</th>\n",
       "      <th>Date</th>\n",
       "      <th>Time</th>\n",
       "      <th>Wait</th>\n",
       "      <th>Name</th>\n",
       "      <th>OpeningDate</th>\n",
       "      <th>Tier</th>\n",
       "      <th>Location</th>\n",
       "      <th>IntellectualProp</th>\n",
       "      <th>Status</th>\n",
       "      <th>...</th>\n",
       "      <th>DayOfWeek</th>\n",
       "      <th>Weekend</th>\n",
       "      <th>CharacterExperience</th>\n",
       "      <th>inEMH</th>\n",
       "      <th>validTime</th>\n",
       "      <th>EMHDay</th>\n",
       "      <th>TimeSinceOpen</th>\n",
       "      <th>TimeSinceMidday</th>\n",
       "      <th>MagicHourType</th>\n",
       "      <th>TimeSinceRideOpen</th>\n",
       "    </tr>\n",
       "  </thead>\n",
       "  <tbody>\n",
       "    <tr>\n",
       "      <th>0</th>\n",
       "      <td>0</td>\n",
       "      <td>2018-05-07</td>\n",
       "      <td>12:30:00</td>\n",
       "      <td>35</td>\n",
       "      <td>Astro Orbiter</td>\n",
       "      <td>1995-02-25</td>\n",
       "      <td>minor_attraction</td>\n",
       "      <td>Tomorrowland</td>\n",
       "      <td>None</td>\n",
       "      <td>1</td>\n",
       "      <td>...</td>\n",
       "      <td>0</td>\n",
       "      <td>0</td>\n",
       "      <td>0</td>\n",
       "      <td>0</td>\n",
       "      <td>1</td>\n",
       "      <td>1</td>\n",
       "      <td>3</td>\n",
       "      <td>2</td>\n",
       "      <td>Night</td>\n",
       "      <td>8472</td>\n",
       "    </tr>\n",
       "    <tr>\n",
       "      <th>1</th>\n",
       "      <td>2</td>\n",
       "      <td>2018-05-07</td>\n",
       "      <td>12:30:00</td>\n",
       "      <td>45</td>\n",
       "      <td>Big Thunder Mountain Railroad</td>\n",
       "      <td>1980-09-23</td>\n",
       "      <td>headliner</td>\n",
       "      <td>Frontierland</td>\n",
       "      <td>None</td>\n",
       "      <td>1</td>\n",
       "      <td>...</td>\n",
       "      <td>0</td>\n",
       "      <td>0</td>\n",
       "      <td>0</td>\n",
       "      <td>0</td>\n",
       "      <td>1</td>\n",
       "      <td>1</td>\n",
       "      <td>3</td>\n",
       "      <td>2</td>\n",
       "      <td>Night</td>\n",
       "      <td>13740</td>\n",
       "    </tr>\n",
       "    <tr>\n",
       "      <th>2</th>\n",
       "      <td>3</td>\n",
       "      <td>2018-05-07</td>\n",
       "      <td>12:30:00</td>\n",
       "      <td>45</td>\n",
       "      <td>Buzz Lightyears Space Ranger Spin</td>\n",
       "      <td>1998-10-07</td>\n",
       "      <td>minor_attraction</td>\n",
       "      <td>Tomorrowland</td>\n",
       "      <td>Pixar</td>\n",
       "      <td>1</td>\n",
       "      <td>...</td>\n",
       "      <td>0</td>\n",
       "      <td>0</td>\n",
       "      <td>0</td>\n",
       "      <td>0</td>\n",
       "      <td>1</td>\n",
       "      <td>1</td>\n",
       "      <td>3</td>\n",
       "      <td>2</td>\n",
       "      <td>Night</td>\n",
       "      <td>7152</td>\n",
       "    </tr>\n",
       "    <tr>\n",
       "      <th>3</th>\n",
       "      <td>6</td>\n",
       "      <td>2018-05-07</td>\n",
       "      <td>12:30:00</td>\n",
       "      <td>40</td>\n",
       "      <td>Dumbo the Flying Elephant</td>\n",
       "      <td>1971-10-01</td>\n",
       "      <td>minor_attraction</td>\n",
       "      <td>Fantasyland</td>\n",
       "      <td>AnimatedClassic</td>\n",
       "      <td>1</td>\n",
       "      <td>...</td>\n",
       "      <td>0</td>\n",
       "      <td>0</td>\n",
       "      <td>0</td>\n",
       "      <td>0</td>\n",
       "      <td>1</td>\n",
       "      <td>1</td>\n",
       "      <td>3</td>\n",
       "      <td>2</td>\n",
       "      <td>Night</td>\n",
       "      <td>17020</td>\n",
       "    </tr>\n",
       "    <tr>\n",
       "      <th>4</th>\n",
       "      <td>7</td>\n",
       "      <td>2018-05-07</td>\n",
       "      <td>12:30:00</td>\n",
       "      <td>25</td>\n",
       "      <td>Enchanted Tales with Belle</td>\n",
       "      <td>2012-12-06</td>\n",
       "      <td>minor_attraction</td>\n",
       "      <td>Fantasyland</td>\n",
       "      <td>AnimatedClassic</td>\n",
       "      <td>1</td>\n",
       "      <td>...</td>\n",
       "      <td>0</td>\n",
       "      <td>0</td>\n",
       "      <td>0</td>\n",
       "      <td>0</td>\n",
       "      <td>1</td>\n",
       "      <td>1</td>\n",
       "      <td>3</td>\n",
       "      <td>2</td>\n",
       "      <td>Night</td>\n",
       "      <td>1978</td>\n",
       "    </tr>\n",
       "  </tbody>\n",
       "</table>\n",
       "<p>5 rows × 30 columns</p>\n",
       "</div>"
      ],
      "text/plain": [
       "   RideId       Date      Time  Wait                               Name  \\\n",
       "0       0 2018-05-07  12:30:00    35                      Astro Orbiter   \n",
       "1       2 2018-05-07  12:30:00    45      Big Thunder Mountain Railroad   \n",
       "2       3 2018-05-07  12:30:00    45  Buzz Lightyears Space Ranger Spin   \n",
       "3       6 2018-05-07  12:30:00    40          Dumbo the Flying Elephant   \n",
       "4       7 2018-05-07  12:30:00    25         Enchanted Tales with Belle   \n",
       "\n",
       "  OpeningDate              Tier      Location IntellectualProp  Status  \\\n",
       "0  1995-02-25  minor_attraction  Tomorrowland             None       1   \n",
       "1  1980-09-23         headliner  Frontierland             None       1   \n",
       "2  1998-10-07  minor_attraction  Tomorrowland            Pixar       1   \n",
       "3  1971-10-01  minor_attraction   Fantasyland  AnimatedClassic       1   \n",
       "4  2012-12-06  minor_attraction   Fantasyland  AnimatedClassic       1   \n",
       "\n",
       "         ...         DayOfWeek  Weekend CharacterExperience  inEMH validTime  \\\n",
       "0        ...                 0        0                   0      0         1   \n",
       "1        ...                 0        0                   0      0         1   \n",
       "2        ...                 0        0                   0      0         1   \n",
       "3        ...                 0        0                   0      0         1   \n",
       "4        ...                 0        0                   0      0         1   \n",
       "\n",
       "  EMHDay TimeSinceOpen TimeSinceMidday MagicHourType TimeSinceRideOpen  \n",
       "0      1             3               2         Night              8472  \n",
       "1      1             3               2         Night             13740  \n",
       "2      1             3               2         Night              7152  \n",
       "3      1             3               2         Night             17020  \n",
       "4      1             3               2         Night              1978  \n",
       "\n",
       "[5 rows x 30 columns]"
      ]
     },
     "execution_count": 5,
     "metadata": {},
     "output_type": "execute_result"
    }
   ],
   "source": [
    "RideWaits.head()"
   ]
  },
  {
   "cell_type": "markdown",
   "metadata": {},
   "source": [
    "The data frame looks quite different than in the prevsious exploratory analysis frame. Certain columns have been removed in an effort to consolidate and extract the vital information that has been seen to make a difference in Wait times. "
   ]
  },
  {
   "cell_type": "code",
   "execution_count": 6,
   "metadata": {},
   "outputs": [],
   "source": [
    "keyFeatures = [\"Name\",\"MagicHourType\", \"Tier\", \"IntellectualProp\", \"SimpleStatus\", \"ParkName\", \"DayOfWeek\", \"Weekend\", \"TimeSinceOpen\", \"CharacterExperience\", \"TimeSinceMidday\", \"inEMH\", \"EMHDay\"]\n"
   ]
  },
  {
   "cell_type": "code",
   "execution_count": 7,
   "metadata": {},
   "outputs": [
    {
     "data": {
      "text/plain": [
       "['Name',\n",
       " 'MagicHourType',\n",
       " 'Tier',\n",
       " 'IntellectualProp',\n",
       " 'SimpleStatus',\n",
       " 'ParkName',\n",
       " 'DayOfWeek',\n",
       " 'Weekend',\n",
       " 'TimeSinceOpen',\n",
       " 'CharacterExperience',\n",
       " 'TimeSinceMidday',\n",
       " 'inEMH',\n",
       " 'EMHDay']"
      ]
     },
     "execution_count": 7,
     "metadata": {},
     "output_type": "execute_result"
    }
   ],
   "source": [
    "keyFeatures"
   ]
  },
  {
   "cell_type": "markdown",
   "metadata": {},
   "source": [
    "We have established to this point that this list of features will cause the most impact on wait times and give the most insight into the dataset. \n",
    "These can be broken into categories into the information we are trying to gain:\n",
    "* Ride Characteristics\n",
    "    * Name\n",
    "    * Tier\n",
    "    * IntellectualProp (Intellectual Property)\n",
    "    * ParkName (Which park is this ride located in)\n",
    "    * CharacterExperience (Is this a character experience)\n",
    "* Time of Day Information\n",
    "    * DayOfWeek\n",
    "    * Weekend \n",
    "    * TimeSinceOpen (How many hours is it since the park opened that day)\n",
    "    * TimeSinceMidday (How many hours is it in absolute value since 2pm)\n",
    "    * inEMH (is this wait time in an Extra magic hour window)\n",
    "    * EMHDay (is this day at the park an Extra Magic Hour Day)\n",
    "    * MagicHourType (is this a extra magic morning or an extra magic night)\n",
    "* Weather\n",
    "    * SimpleStatus\n",
    "    \n",
    "As the dataset grows and the more months and weather characteristics pile in, this list of usable features may expand. For example, temperature is not being included in this list as all the data gathered as of today has been from one week, and the temperature pattern adds no value. "
   ]
  },
  {
   "cell_type": "code",
   "execution_count": 8,
   "metadata": {},
   "outputs": [],
   "source": [
    "categoryColumns = RideWaits.select_dtypes(include = ['category']).columns\n",
    "RideWaits[\"Name\"] = pd.Categorical(RideWaits[\"Name\"]).codes\n",
    "for col in categoryColumns:\n",
    "    RideWaits[col] = pd.Categorical(RideWaits[col]).codes\n"
   ]
  },
  {
   "cell_type": "code",
   "execution_count": 9,
   "metadata": {},
   "outputs": [
    {
     "name": "stdout",
     "output_type": "stream",
     "text": [
      "<class 'pandas.core.frame.DataFrame'>\n",
      "Int64Index: 27574 entries, 0 to 28473\n",
      "Data columns (total 13 columns):\n",
      "Name                   27574 non-null int8\n",
      "MagicHourType          27574 non-null int8\n",
      "Tier                   27574 non-null int8\n",
      "IntellectualProp       27574 non-null int8\n",
      "SimpleStatus           27574 non-null int8\n",
      "ParkName               27574 non-null int8\n",
      "DayOfWeek              27574 non-null int64\n",
      "Weekend                27574 non-null int64\n",
      "TimeSinceOpen          27574 non-null int64\n",
      "CharacterExperience    27574 non-null int64\n",
      "TimeSinceMidday        27574 non-null int64\n",
      "inEMH                  27574 non-null int64\n",
      "EMHDay                 27574 non-null int64\n",
      "dtypes: int64(7), int8(6)\n",
      "memory usage: 3.1 MB\n"
     ]
    }
   ],
   "source": [
    "RideWaits[keyFeatures].info()"
   ]
  },
  {
   "cell_type": "code",
   "execution_count": 10,
   "metadata": {},
   "outputs": [],
   "source": [
    "from sklearn.model_selection import train_test_split\n",
    "\n",
    "train_x, test_x, train_y, test_y = train_test_split(RideWaits[keyFeatures], RideWaits[\"Wait\"], test_size = .25, random_state = 1)\n",
    "\n",
    "rf = RandomForestRegressor(random_state = 1)\n",
    "rf.fit(train_x, train_y)\n",
    "predictions = rf.predict(test_x)\n",
    "rmseBase = metrics.mean_squared_error(predictions, test_y)**(1/2)\n",
    "r2Base = metrics.r2_score(predictions, test_y)\n",
    "varBase = metrics.explained_variance_score(predictions,test_y)\n",
    "pearsoncorrBase = pearsonr(predictions, test_y)\n",
    "perrorBase = abs(predictions - test_y)/test_y\n",
    "accuracyBase = 1 - statistics.median(perrorBase)\n",
    "errorBase = abs(predictions - test_y)\n",
    "merrorBase = errorBase.mean()\n",
    "medErrorBase = statistics.median(errorBase)"
   ]
  },
  {
   "cell_type": "code",
   "execution_count": 11,
   "metadata": {},
   "outputs": [
    {
     "name": "stdout",
     "output_type": "stream",
     "text": [
      "RMSE: 9.16678440584\n",
      "r2: 0.868382524014\n",
      "var:0.868410504503\n",
      "pearsonCorr: (0.93743680462890122, 0.0)\n",
      "Accuracy: 0.861547008547\n",
      "Mean Error: 5.66744115471\n",
      "Median Error: 3.45833333333\n"
     ]
    }
   ],
   "source": [
    "print(\"RMSE: \" + str(rmseBase))\n",
    "print(\"r2: \"+ str(r2Base))\n",
    "print(\"var:\" + str(varBase))\n",
    "print(\"pearsonCorr: \"+ str(pearsoncorrBase))\n",
    "print(\"Accuracy: \" + str(accuracyBase))\n",
    "print(\"Mean Error: \" + str(merrorBase))\n",
    "print(\"Median Error: \" + str(medErrorBase))"
   ]
  },
  {
   "cell_type": "markdown",
   "metadata": {},
   "source": [
    "By using the defaults of the Random forest regressor we can get some baseline statistics with this algorithm. We see we have a high correlation meaning that our predictions are following the proper trend of our data. Our accuracy for our base model is 87% and is not a bad start, we also see that both our mean and median wait time error values are under 10 minutes which is also a good place to start. We can now try some other modeling methods as well as tune the hyper parameters for our random forest model. "
   ]
  },
  {
   "cell_type": "markdown",
   "metadata": {},
   "source": [
    "We are going to start with attempting to tune the hyper parameters for this model"
   ]
  },
  {
   "cell_type": "markdown",
   "metadata": {},
   "source": [
    "Our focus will be on the following parameters: \n",
    "* n_estimators\n",
    "* max_features\n",
    "* max_depth\n",
    "* min_samples_split\n",
    "* min_samples_leaf\n",
    "* bootstrap"
   ]
  },
  {
   "cell_type": "code",
   "execution_count": 12,
   "metadata": {},
   "outputs": [],
   "source": [
    "from sklearn.model_selection import RandomizedSearchCV\n",
    "\n",
    "n_estimators = [int(x) for x in np.linspace(start = 200, stop = 2000, num = 10)]\n",
    "max_features = ['auto', 'sqrt']\n",
    "max_depth = [int(x) for x in np.linspace(10,110, num = 11)]\n",
    "max_depth.append(None)\n",
    "min_samples_split = [2,5,10]\n",
    "min_samples_leaf = [1,2,4]\n",
    "\n",
    "bootstrap = [True, False]\n",
    "\n",
    "random_grid = {'n_estimators': n_estimators,\n",
    "               'max_features': max_features,\n",
    "               'max_depth': max_depth,\n",
    "               'min_samples_split': min_samples_split,\n",
    "               'min_samples_leaf': min_samples_leaf,\n",
    "               'bootstrap': bootstrap}"
   ]
  },
  {
   "cell_type": "code",
   "execution_count": 13,
   "metadata": {},
   "outputs": [],
   "source": [
    "rfNew = RandomForestRegressor()\n",
    "rf_randomized = RandomizedSearchCV(estimator = rf, param_distributions = random_grid, n_iter = 100, cv = 3, verbose = 2, random_state = 1, n_jobs = -1)"
   ]
  },
  {
   "cell_type": "code",
   "execution_count": 14,
   "metadata": {},
   "outputs": [
    {
     "name": "stdout",
     "output_type": "stream",
     "text": [
      "Fitting 3 folds for each of 100 candidates, totalling 300 fits\n"
     ]
    },
    {
     "name": "stderr",
     "output_type": "stream",
     "text": [
      "[Parallel(n_jobs=-1)]: Done  25 tasks      | elapsed:  2.5min\n",
      "[Parallel(n_jobs=-1)]: Done 146 tasks      | elapsed: 11.3min\n",
      "[Parallel(n_jobs=-1)]: Done 300 out of 300 | elapsed: 23.2min finished\n"
     ]
    },
    {
     "data": {
      "text/plain": [
       "RandomizedSearchCV(cv=3, error_score='raise',\n",
       "          estimator=RandomForestRegressor(bootstrap=True, criterion='mse', max_depth=None,\n",
       "           max_features='auto', max_leaf_nodes=None,\n",
       "           min_impurity_decrease=0.0, min_impurity_split=None,\n",
       "           min_samples_leaf=1, min_samples_split=2,\n",
       "           min_weight_fraction_leaf=0.0, n_estimators=10, n_jobs=1,\n",
       "           oob_score=False, random_state=1, verbose=0, warm_start=False),\n",
       "          fit_params=None, iid=True, n_iter=100, n_jobs=-1,\n",
       "          param_distributions={'n_estimators': [200, 400, 600, 800, 1000, 1200, 1400, 1600, 1800, 2000], 'max_features': ['auto', 'sqrt'], 'max_depth': [10, 20, 30, 40, 50, 60, 70, 80, 90, 100, 110, None], 'min_samples_split': [2, 5, 10], 'min_samples_leaf': [1, 2, 4], 'bootstrap': [True, False]},\n",
       "          pre_dispatch='2*n_jobs', random_state=1, refit=True,\n",
       "          return_train_score=True, scoring=None, verbose=2)"
      ]
     },
     "execution_count": 14,
     "metadata": {},
     "output_type": "execute_result"
    }
   ],
   "source": [
    "rf_randomized.fit(train_x, train_y)"
   ]
  },
  {
   "cell_type": "code",
   "execution_count": 15,
   "metadata": {},
   "outputs": [
    {
     "data": {
      "text/plain": [
       "{'bootstrap': True,\n",
       " 'max_depth': 70,\n",
       " 'max_features': 'auto',\n",
       " 'min_samples_leaf': 1,\n",
       " 'min_samples_split': 5,\n",
       " 'n_estimators': 1800}"
      ]
     },
     "execution_count": 15,
     "metadata": {},
     "output_type": "execute_result"
    }
   ],
   "source": [
    "rf_randomized.best_params_"
   ]
  },
  {
   "cell_type": "code",
   "execution_count": 16,
   "metadata": {},
   "outputs": [],
   "source": [
    "rf_random = rf_randomized.best_estimator_"
   ]
  },
  {
   "cell_type": "code",
   "execution_count": 19,
   "metadata": {},
   "outputs": [],
   "source": [
    "predictions = rf_random.predict(test_x)\n",
    "rmseRandom = metrics.mean_squared_error(predictions, test_y)**(1/2)\n",
    "r2Random = metrics.r2_score(predictions, test_y)\n",
    "varRandom = metrics.explained_variance_score(predictions,test_y)\n",
    "pearsoncorrRandom = pearsonr(predictions, test_y)\n",
    "perrorRandom = abs(predictions - test_y)/test_y\n",
    "accuracyRandom = 1 - statistics.median(perrorRandom)\n",
    "errorRandom = abs(predictions - test_y)\n",
    "merrorRandom = errorRandom.mean()\n",
    "medErrorRandom = statistics.median(errorRandom)"
   ]
  },
  {
   "cell_type": "code",
   "execution_count": 20,
   "metadata": {},
   "outputs": [
    {
     "name": "stdout",
     "output_type": "stream",
     "text": [
      "RMSE: 8.86696008798\n",
      "r2: 0.873741967764\n",
      "var:0.873770139723\n",
      "pearsonCorr: (0.94132637573981681, 0.0)\n",
      "Accuracy: 0.85789432858\n",
      "Mean Error: 5.61230924331\n",
      "Median Error: 3.45147737872\n"
     ]
    }
   ],
   "source": [
    "print(\"RMSE: \" + str(rmseRandom))\n",
    "print(\"r2: \"+ str(r2Random))\n",
    "print(\"var:\" + str(varRandom))\n",
    "print(\"pearsonCorr: \"+ str(pearsoncorrRandom))\n",
    "print(\"Accuracy: \" + str(accuracyRandom))\n",
    "print(\"Mean Error: \" + str(merrorRandom))\n",
    "print(\"Median Error: \" + str(medErrorRandom))"
   ]
  },
  {
   "cell_type": "markdown",
   "metadata": {},
   "source": [
    "We see a very slight increase in RMSE, mean error, and median Error, but see no increase in overall accuracy."
   ]
  },
  {
   "cell_type": "code",
   "execution_count": 21,
   "metadata": {},
   "outputs": [],
   "source": [
    "gridSearch = {'bootstrap': [True],\n",
    "              'max_depth' : [50,60,70,80,90],\n",
    "              'max_features': [6,7,8,9,10],\n",
    "              'min_samples_leaf': [1,2,3,4],\n",
    "              'n_estimators' : [200,300,500,1000,1500]}"
   ]
  },
  {
   "cell_type": "code",
   "execution_count": 22,
   "metadata": {},
   "outputs": [],
   "source": [
    "from sklearn.model_selection import GridSearchCV\n",
    "rf = RandomForestRegressor()\n",
    "grid_search_rf = GridSearchCV(estimator = rf, param_grid = gridSearch, cv = 3, n_jobs = -1, verbose = 2)"
   ]
  },
  {
   "cell_type": "code",
   "execution_count": 23,
   "metadata": {},
   "outputs": [
    {
     "name": "stdout",
     "output_type": "stream",
     "text": [
      "Fitting 3 folds for each of 500 candidates, totalling 1500 fits\n"
     ]
    },
    {
     "name": "stderr",
     "output_type": "stream",
     "text": [
      "[Parallel(n_jobs=-1)]: Done  25 tasks      | elapsed:  1.2min\n",
      "[Parallel(n_jobs=-1)]: Done 146 tasks      | elapsed:  6.5min\n",
      "[Parallel(n_jobs=-1)]: Done 349 tasks      | elapsed: 16.9min\n",
      "[Parallel(n_jobs=-1)]: Done 632 tasks      | elapsed: 31.1min\n",
      "[Parallel(n_jobs=-1)]: Done 997 tasks      | elapsed: 48.1min\n",
      "[Parallel(n_jobs=-1)]: Done 1442 tasks      | elapsed: 69.2min\n",
      "[Parallel(n_jobs=-1)]: Done 1500 out of 1500 | elapsed: 72.6min finished\n"
     ]
    },
    {
     "data": {
      "text/plain": [
       "GridSearchCV(cv=3, error_score='raise',\n",
       "       estimator=RandomForestRegressor(bootstrap=True, criterion='mse', max_depth=None,\n",
       "           max_features='auto', max_leaf_nodes=None,\n",
       "           min_impurity_decrease=0.0, min_impurity_split=None,\n",
       "           min_samples_leaf=1, min_samples_split=2,\n",
       "           min_weight_fraction_leaf=0.0, n_estimators=10, n_jobs=1,\n",
       "           oob_score=False, random_state=None, verbose=0, warm_start=False),\n",
       "       fit_params=None, iid=True, n_jobs=-1,\n",
       "       param_grid={'bootstrap': [True], 'max_depth': [50, 60, 70, 80, 90], 'max_features': [6, 7, 8, 9, 10], 'min_samples_leaf': [1, 2, 3, 4], 'n_estimators': [200, 300, 500, 1000, 1500]},\n",
       "       pre_dispatch='2*n_jobs', refit=True, return_train_score=True,\n",
       "       scoring=None, verbose=2)"
      ]
     },
     "execution_count": 23,
     "metadata": {},
     "output_type": "execute_result"
    }
   ],
   "source": [
    "grid_search_rf.fit(train_x, train_y)"
   ]
  },
  {
   "cell_type": "code",
   "execution_count": 69,
   "metadata": {},
   "outputs": [
    {
     "data": {
      "text/plain": [
       "{'bootstrap': True,\n",
       " 'max_depth': 50,\n",
       " 'max_features': 7,\n",
       " 'min_samples_leaf': 1,\n",
       " 'n_estimators': 500}"
      ]
     },
     "execution_count": 69,
     "metadata": {},
     "output_type": "execute_result"
    }
   ],
   "source": [
    "grid_search_rf.best_params_"
   ]
  },
  {
   "cell_type": "code",
   "execution_count": 71,
   "metadata": {
    "collapsed": true
   },
   "outputs": [],
   "source": [
    "best_grid = grid_search_rf.best_estimator_"
   ]
  },
  {
   "cell_type": "code",
   "execution_count": 81,
   "metadata": {
    "collapsed": true
   },
   "outputs": [],
   "source": [
    "predictions = best_grid.predict(test_x)\n",
    "rmseGrid = metrics.mean_squared_error(predictions, test_y)**(1/2)\n",
    "r2Grid = metrics.r2_score(predictions, test_y)\n",
    "varGrid = metrics.explained_variance_score(predictions,test_y)\n",
    "pearsoncorrGrid = pearsonr(predictions, test_y)\n",
    "perrorGrid = abs(predictions - test_y)/test_y\n",
    "accuracyGrid = 1 - statistics.median(perrorGrid)\n",
    "errorGrid = abs(predictions - test_y)\n",
    "merrorGrid = errorGrid.mean()\n",
    "medErrorGrid = statistics.median(errorGrid)"
   ]
  },
  {
   "cell_type": "code",
   "execution_count": 73,
   "metadata": {},
   "outputs": [
    {
     "data": {
      "text/plain": [
       "8.8481542038575434"
      ]
     },
     "execution_count": 73,
     "metadata": {},
     "output_type": "execute_result"
    }
   ],
   "source": [
    "print(\"RMSE: \" + str(rmseGrid))\n",
    "print(\"r2: \"+ str(r2Grid))\n",
    "print(\"var:\" + str(varGrid))\n",
    "print(\"pearsonCorr: \"+ str(pearsoncorrGrid))\n",
    "print(\"Accuracy: \" + str(accuracyGrid))\n",
    "print(\"Mean Error: \" + str(merrorGrid))\n",
    "print(\"Median Error: \" + str(medErrorGrid))"
   ]
  },
  {
   "cell_type": "markdown",
   "metadata": {},
   "source": [
    "A slight increase in accuracy but negligible effects across the board in most other categories"
   ]
  },
  {
   "cell_type": "markdown",
   "metadata": {
    "collapsed": true
   },
   "source": [
    "## Cross validation\n",
    "Using the internal cross validation packages we can compute scores without worrying about over fitting or tuning hyper parameters to specific data sets. This can cause a pseudo leakage of our testing data into the training set. We will start the cross validation with the random forest regressor we got from the best estimator from the grid search."
   ]
  },
  {
   "cell_type": "code",
   "execution_count": 19,
   "metadata": {
    "collapsed": true
   },
   "outputs": [],
   "source": [
    "from sklearn.model_selection import cross_val_score"
   ]
  },
  {
   "cell_type": "code",
   "execution_count": 20,
   "metadata": {
    "collapsed": true
   },
   "outputs": [],
   "source": [
    "rf = RandomForestRegressor(bootstrap = True, max_depth = 50, max_features = 7, min_samples_leaf = 1, n_estimators = 500)"
   ]
  },
  {
   "cell_type": "code",
   "execution_count": null,
   "metadata": {
    "collapsed": true
   },
   "outputs": [],
   "source": [
    "scores = cross_val_score(rf, RideWaits[keyFeatures], RideWaits[\"Wait\"], cv = 10)"
   ]
  },
  {
   "cell_type": "code",
   "execution_count": 22,
   "metadata": {},
   "outputs": [
    {
     "data": {
      "text/plain": [
       "array([ 0.95672522,  0.95998704,  0.89559266,  0.6451986 ,  0.70555515,\n",
       "        0.73674714,  0.79526532,  0.66179876,  0.67487744,  0.56593622])"
      ]
     },
     "execution_count": 22,
     "metadata": {},
     "output_type": "execute_result"
    }
   ],
   "source": [
    "scores"
   ]
  },
  {
   "cell_type": "markdown",
   "metadata": {},
   "source": [
    "This is just a single metric, it is perhaps more useful to obtain a number of metrics for each of our cross validated models."
   ]
  },
  {
   "cell_type": "code",
   "execution_count": 30,
   "metadata": {},
   "outputs": [],
   "source": [
    "import sklearn.metrics as metrics\n",
    "from sklearn.model_selection import KFold\n",
    "def cross_validation_metrics(df, key_cols, target, folds):\n",
    "    df = df.dropna(how = 'any')\n",
    "    X = df[key_cols]\n",
    "    y = np.array(df[target])\n",
    "    overall_rmse = []\n",
    "    overall_accuracy = []\n",
    "    overall_median_error = []\n",
    "    overall_mean_error = []\n",
    "    overall_r2 = []\n",
    "    corr = []\n",
    "    kf = KFold(n_splits = folds)\n",
    "    i = 1\n",
    "    for train_index, test_index in kf.split(X):\n",
    "        X_train, X_test = X.iloc[train_index], X.iloc[test_index]\n",
    "        y_train, y_test = y[train_index], y[test_index]\n",
    "        rf = RandomForestRegressor(n_estimators = 500)\n",
    "        rf.fit(X_train, y_train)\n",
    "        predictions = rf.predict(X_test)\n",
    "        rmse = metrics.mean_squared_error(predictions, y_test)**(1/2)\n",
    "        var = metrics.explained_variance_score(predictions,y_test)\n",
    "        pearsoncorr = pearsonr(predictions, np.array(y_test))\n",
    "        perror = abs(predictions - y_test)/y_test\n",
    "        mperror = statistics.median(perror)\n",
    "        error = abs(predictions - y_test)\n",
    "        merror = error.mean()\n",
    "        print(\"Fold \" + str(i))\n",
    "        print(\"RMSE: \"+ str(rmse))\n",
    "        print(\"Correlation: \"+ str(pearsoncorr))\n",
    "        print(\"Accuracy: \" + str(1-mperror))\n",
    "        print(\"Mean Error: \"+ str(merror))\n",
    "        print(\"Median Error: \"+ str(statistics.median(error)))\n",
    "        print(\"-------------------------\")\n",
    "        overall_rmse.append(rmse)\n",
    "        overall_accuracy.append((1-mperror))\n",
    "        overall_median_error.append(statistics.median(error))\n",
    "        overall_mean_error.append(merror)\n",
    "        #overall_r2.append(r2)\n",
    "        corr.append(pearsoncorr[0])\n",
    "        i = i+1\n",
    "    \n",
    "    return_dict = {\n",
    "        'rmse': np.mean(overall_rmse),\n",
    "        'accuracy': np.mean(overall_accuracy),\n",
    "        'median_error': np.mean(overall_median_error),\n",
    "        'mean_error' : np.mean(overall_mean_error),\n",
    "        'correlation':np.mean(corr)\n",
    "    }\n",
    "    return return_dict\n"
   ]
  },
  {
   "cell_type": "code",
   "execution_count": 31,
   "metadata": {},
   "outputs": [
    {
     "name": "stdout",
     "output_type": "stream",
     "text": [
      "Fold 1\n",
      "RMSE: 6.0732260457\n",
      "Correlation: (0.97396761764927553, 0.0)\n",
      "Accuracy: 0.928947731097\n",
      "Mean Error: 3.87727640195\n",
      "Median Error: 2.4910750777\n",
      "-------------------------\n",
      "Fold 2\n",
      "RMSE: 5.65187157481\n",
      "Correlation: (0.98426679942944462, 0.0)\n",
      "Accuracy: 0.940172390488\n",
      "Mean Error: 3.47899026157\n",
      "Median Error: 1.77168759019\n",
      "-------------------------\n",
      "Fold 3\n",
      "RMSE: 4.91791154206\n",
      "Correlation: (0.98768679015027039, 0.0)\n",
      "Accuracy: 0.940564055389\n",
      "Mean Error: 3.03340974048\n",
      "Median Error: 1.99461026121\n",
      "-------------------------\n",
      "Fold 4\n",
      "RMSE: 6.13154560897\n",
      "Correlation: (0.97359658257898918, 0.0)\n",
      "Accuracy: 0.927273672653\n",
      "Mean Error: 3.92428541216\n",
      "Median Error: 2.49962698413\n",
      "-------------------------\n",
      "Fold 5\n",
      "RMSE: 10.7646263104\n",
      "Correlation: (0.93536159179077571, 0.0)\n",
      "Accuracy: 0.834643614719\n",
      "Mean Error: 6.150838461\n",
      "Median Error: 3.78594580746\n",
      "-------------------------\n",
      "Fold 6\n",
      "RMSE: 17.9471995249\n",
      "Correlation: (0.83625193755711447, 5.4551834709844905e-276)\n",
      "Accuracy: 0.684471302556\n",
      "Mean Error: 11.7027463517\n",
      "Median Error: 7.35476977924\n",
      "-------------------------\n",
      "Fold 7\n",
      "RMSE: 15.9441133201\n",
      "Correlation: (0.84668320264363206, 1.0670775213913783e-289)\n",
      "Accuracy: 0.752219480519\n",
      "Mean Error: 9.83211634886\n",
      "Median Error: 5.31736507937\n",
      "-------------------------\n",
      "Fold 8\n",
      "RMSE: 10.8309306002\n",
      "Correlation: (0.89568838320996447, 0.0)\n",
      "Accuracy: 0.807032539683\n",
      "Mean Error: 7.69862592136\n",
      "Median Error: 5.34366262891\n",
      "-------------------------\n",
      "Fold 9\n",
      "RMSE: 20.4025988257\n",
      "Correlation: (0.74377554088989306, 1.006887091473456e-185)\n",
      "Accuracy: 0.636361904762\n",
      "Mean Error: 13.5204327139\n",
      "Median Error: 8.50344047619\n",
      "-------------------------\n",
      "Fold 10\n",
      "RMSE: 18.6962947916\n",
      "Correlation: (0.83563960852589858, 5.912646636367159e-275)\n",
      "Accuracy: 0.69991453929\n",
      "Mean Error: 12.4352027451\n",
      "Median Error: 7.68438072166\n",
      "-------------------------\n"
     ]
    }
   ],
   "source": [
    "metrics = cross_validation_metrics(RideWaits, keyFeatures,\"Wait\",10)"
   ]
  },
  {
   "cell_type": "code",
   "execution_count": 44,
   "metadata": {},
   "outputs": [
    {
     "data": {
      "text/plain": [
       "{'accuracy': 0.81516012311550567,\n",
       " 'correlation': 0.90129180544252585,\n",
       " 'mean_error': 7.5653924358065492,\n",
       " 'median_error': 4.6746564406052169,\n",
       " 'rmse': 11.736031814446992}"
      ]
     },
     "execution_count": 44,
     "metadata": {},
     "output_type": "execute_result"
    }
   ],
   "source": [
    "metrics"
   ]
  },
  {
   "cell_type": "code",
   "execution_count": 46,
   "metadata": {},
   "outputs": [],
   "source": [
    "metric_frame = pd.DataFrame(list(metrics.items()), columns = ['Metric Name', 'Metric Value'])"
   ]
  },
  {
   "cell_type": "code",
   "execution_count": 47,
   "metadata": {},
   "outputs": [
    {
     "data": {
      "text/html": [
       "<div>\n",
       "<style>\n",
       "    .dataframe thead tr:only-child th {\n",
       "        text-align: right;\n",
       "    }\n",
       "\n",
       "    .dataframe thead th {\n",
       "        text-align: left;\n",
       "    }\n",
       "\n",
       "    .dataframe tbody tr th {\n",
       "        vertical-align: top;\n",
       "    }\n",
       "</style>\n",
       "<table border=\"1\" class=\"dataframe\">\n",
       "  <thead>\n",
       "    <tr style=\"text-align: right;\">\n",
       "      <th></th>\n",
       "      <th>Metric Name</th>\n",
       "      <th>Metric Value</th>\n",
       "    </tr>\n",
       "  </thead>\n",
       "  <tbody>\n",
       "    <tr>\n",
       "      <th>0</th>\n",
       "      <td>rmse</td>\n",
       "      <td>11.736032</td>\n",
       "    </tr>\n",
       "    <tr>\n",
       "      <th>1</th>\n",
       "      <td>accuracy</td>\n",
       "      <td>0.815160</td>\n",
       "    </tr>\n",
       "    <tr>\n",
       "      <th>2</th>\n",
       "      <td>median_error</td>\n",
       "      <td>4.674656</td>\n",
       "    </tr>\n",
       "    <tr>\n",
       "      <th>3</th>\n",
       "      <td>mean_error</td>\n",
       "      <td>7.565392</td>\n",
       "    </tr>\n",
       "    <tr>\n",
       "      <th>4</th>\n",
       "      <td>correlation</td>\n",
       "      <td>0.901292</td>\n",
       "    </tr>\n",
       "  </tbody>\n",
       "</table>\n",
       "</div>"
      ],
      "text/plain": [
       "    Metric Name  Metric Value\n",
       "0          rmse     11.736032\n",
       "1      accuracy      0.815160\n",
       "2  median_error      4.674656\n",
       "3    mean_error      7.565392\n",
       "4   correlation      0.901292"
      ]
     },
     "execution_count": 47,
     "metadata": {},
     "output_type": "execute_result"
    }
   ],
   "source": [
    "metric_frame"
   ]
  },
  {
   "cell_type": "code",
   "execution_count": null,
   "metadata": {},
   "outputs": [],
   "source": []
  }
 ],
 "metadata": {
  "kernelspec": {
   "display_name": "Python 3",
   "language": "python",
   "name": "python3"
  },
  "language_info": {
   "codemirror_mode": {
    "name": "ipython",
    "version": 3
   },
   "file_extension": ".py",
   "mimetype": "text/x-python",
   "name": "python",
   "nbconvert_exporter": "python",
   "pygments_lexer": "ipython3",
   "version": "3.6.2"
  }
 },
 "nbformat": 4,
 "nbformat_minor": 2
}
