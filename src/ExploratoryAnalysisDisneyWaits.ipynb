{
 "cells": [
  {
   "cell_type": "code",
   "execution_count": 1,
   "metadata": {},
   "outputs": [],
   "source": [
    "import sys\n",
    "import pandas as pd\n",
    "import numpy as np\n",
    "from datetime import datetime\n",
    "import matplotlib.pyplot as plt\n",
    "import pymysql\n",
    "import config\n",
    "%matplotlib inline\n",
    "import seaborn as sns"
   ]
  },
  {
   "cell_type": "code",
   "execution_count": 2,
   "metadata": {},
   "outputs": [],
   "source": [
    "conn = pymysql.connect(config.host, user=config.username,port=config.port,\n",
    "                           passwd=config.password)\n",
    "\n",
    "#gather all historical data to build model\n",
    "RideWaits = pd.read_sql_query(\"call DisneyDB.RideWaitQuery\", conn)"
   ]
  },
  {
   "cell_type": "markdown",
   "metadata": {},
   "source": [
    "# Disney Wait Times\n",
    "\n",
    "This Jupyter notebook will serve as some exploratory analysis amongst wait times to gain any introductory information as to the relationship between wait times and other categories. This will also prove as a place to show the transformations that the data frame will undergo to gain some of the other wanted features that I believe to be useful in this exercise. "
   ]
  },
  {
   "cell_type": "code",
   "execution_count": 3,
   "metadata": {},
   "outputs": [
    {
     "data": {
      "text/html": [
       "<div>\n",
       "<style>\n",
       "    .dataframe thead tr:only-child th {\n",
       "        text-align: right;\n",
       "    }\n",
       "\n",
       "    .dataframe thead th {\n",
       "        text-align: left;\n",
       "    }\n",
       "\n",
       "    .dataframe tbody tr th {\n",
       "        vertical-align: top;\n",
       "    }\n",
       "</style>\n",
       "<table border=\"1\" class=\"dataframe\">\n",
       "  <thead>\n",
       "    <tr style=\"text-align: right;\">\n",
       "      <th></th>\n",
       "      <th>RideId</th>\n",
       "      <th>Date</th>\n",
       "      <th>Time</th>\n",
       "      <th>Wait</th>\n",
       "      <th>Name</th>\n",
       "      <th>OpeningDate</th>\n",
       "      <th>Tier</th>\n",
       "      <th>Location</th>\n",
       "      <th>IntellectualProp</th>\n",
       "      <th>Status</th>\n",
       "      <th>Temperature</th>\n",
       "      <th>CloudCover</th>\n",
       "      <th>SimpleStatus</th>\n",
       "      <th>RainAccumulation</th>\n",
       "      <th>ParkId</th>\n",
       "      <th>ParkOpen</th>\n",
       "      <th>ParkClose</th>\n",
       "      <th>EMHOpen</th>\n",
       "      <th>EMHClose</th>\n",
       "      <th>ParkName</th>\n",
       "    </tr>\n",
       "  </thead>\n",
       "  <tbody>\n",
       "    <tr>\n",
       "      <th>0</th>\n",
       "      <td>1</td>\n",
       "      <td>2018-05-07</td>\n",
       "      <td>12:30</td>\n",
       "      <td>35</td>\n",
       "      <td>Astro Orbiter</td>\n",
       "      <td>1995-02-25</td>\n",
       "      <td>minor_attraction</td>\n",
       "      <td>Tomorrowland</td>\n",
       "      <td>None</td>\n",
       "      <td>clear sky</td>\n",
       "      <td>83.25</td>\n",
       "      <td>1.0</td>\n",
       "      <td>Clear</td>\n",
       "      <td>0.0</td>\n",
       "      <td>1</td>\n",
       "      <td>9:00 AM</td>\n",
       "      <td>10:00 PM</td>\n",
       "      <td>10:00 PM</td>\n",
       "      <td>12:00 AM</td>\n",
       "      <td>Magic Kingdom</td>\n",
       "    </tr>\n",
       "    <tr>\n",
       "      <th>1</th>\n",
       "      <td>3</td>\n",
       "      <td>2018-05-07</td>\n",
       "      <td>12:30</td>\n",
       "      <td>45</td>\n",
       "      <td>Big Thunder Mountain Railroad</td>\n",
       "      <td>1980-09-23</td>\n",
       "      <td>headliner</td>\n",
       "      <td>Frontierland</td>\n",
       "      <td>None</td>\n",
       "      <td>clear sky</td>\n",
       "      <td>83.25</td>\n",
       "      <td>1.0</td>\n",
       "      <td>Clear</td>\n",
       "      <td>0.0</td>\n",
       "      <td>1</td>\n",
       "      <td>9:00 AM</td>\n",
       "      <td>10:00 PM</td>\n",
       "      <td>10:00 PM</td>\n",
       "      <td>12:00 AM</td>\n",
       "      <td>Magic Kingdom</td>\n",
       "    </tr>\n",
       "    <tr>\n",
       "      <th>2</th>\n",
       "      <td>4</td>\n",
       "      <td>2018-05-07</td>\n",
       "      <td>12:30</td>\n",
       "      <td>45</td>\n",
       "      <td>Buzz Lightyears Space Ranger Spin</td>\n",
       "      <td>1998-10-07</td>\n",
       "      <td>minor_attraction</td>\n",
       "      <td>Tomorrowland</td>\n",
       "      <td>Pixar</td>\n",
       "      <td>clear sky</td>\n",
       "      <td>83.25</td>\n",
       "      <td>1.0</td>\n",
       "      <td>Clear</td>\n",
       "      <td>0.0</td>\n",
       "      <td>1</td>\n",
       "      <td>9:00 AM</td>\n",
       "      <td>10:00 PM</td>\n",
       "      <td>10:00 PM</td>\n",
       "      <td>12:00 AM</td>\n",
       "      <td>Magic Kingdom</td>\n",
       "    </tr>\n",
       "    <tr>\n",
       "      <th>3</th>\n",
       "      <td>7</td>\n",
       "      <td>2018-05-07</td>\n",
       "      <td>12:30</td>\n",
       "      <td>40</td>\n",
       "      <td>Dumbo the Flying Elephant</td>\n",
       "      <td>1971-10-01</td>\n",
       "      <td>minor_attraction</td>\n",
       "      <td>Fantasyland</td>\n",
       "      <td>AnimatedClassic</td>\n",
       "      <td>clear sky</td>\n",
       "      <td>83.25</td>\n",
       "      <td>1.0</td>\n",
       "      <td>Clear</td>\n",
       "      <td>0.0</td>\n",
       "      <td>1</td>\n",
       "      <td>9:00 AM</td>\n",
       "      <td>10:00 PM</td>\n",
       "      <td>10:00 PM</td>\n",
       "      <td>12:00 AM</td>\n",
       "      <td>Magic Kingdom</td>\n",
       "    </tr>\n",
       "    <tr>\n",
       "      <th>4</th>\n",
       "      <td>8</td>\n",
       "      <td>2018-05-07</td>\n",
       "      <td>12:30</td>\n",
       "      <td>25</td>\n",
       "      <td>Enchanted Tales with Belle</td>\n",
       "      <td>2012-12-06</td>\n",
       "      <td>minor_attraction</td>\n",
       "      <td>Fantasyland</td>\n",
       "      <td>AnimatedClassic</td>\n",
       "      <td>clear sky</td>\n",
       "      <td>83.25</td>\n",
       "      <td>1.0</td>\n",
       "      <td>Clear</td>\n",
       "      <td>0.0</td>\n",
       "      <td>1</td>\n",
       "      <td>9:00 AM</td>\n",
       "      <td>10:00 PM</td>\n",
       "      <td>10:00 PM</td>\n",
       "      <td>12:00 AM</td>\n",
       "      <td>Magic Kingdom</td>\n",
       "    </tr>\n",
       "  </tbody>\n",
       "</table>\n",
       "</div>"
      ],
      "text/plain": [
       "   RideId        Date   Time  Wait                               Name  \\\n",
       "0       1  2018-05-07  12:30    35                      Astro Orbiter   \n",
       "1       3  2018-05-07  12:30    45      Big Thunder Mountain Railroad   \n",
       "2       4  2018-05-07  12:30    45  Buzz Lightyears Space Ranger Spin   \n",
       "3       7  2018-05-07  12:30    40          Dumbo the Flying Elephant   \n",
       "4       8  2018-05-07  12:30    25         Enchanted Tales with Belle   \n",
       "\n",
       "  OpeningDate              Tier      Location IntellectualProp     Status  \\\n",
       "0  1995-02-25  minor_attraction  Tomorrowland             None  clear sky   \n",
       "1  1980-09-23         headliner  Frontierland             None  clear sky   \n",
       "2  1998-10-07  minor_attraction  Tomorrowland            Pixar  clear sky   \n",
       "3  1971-10-01  minor_attraction   Fantasyland  AnimatedClassic  clear sky   \n",
       "4  2012-12-06  minor_attraction   Fantasyland  AnimatedClassic  clear sky   \n",
       "\n",
       "   Temperature  CloudCover SimpleStatus  RainAccumulation  ParkId ParkOpen  \\\n",
       "0        83.25         1.0        Clear               0.0       1  9:00 AM   \n",
       "1        83.25         1.0        Clear               0.0       1  9:00 AM   \n",
       "2        83.25         1.0        Clear               0.0       1  9:00 AM   \n",
       "3        83.25         1.0        Clear               0.0       1  9:00 AM   \n",
       "4        83.25         1.0        Clear               0.0       1  9:00 AM   \n",
       "\n",
       "  ParkClose   EMHOpen  EMHClose       ParkName  \n",
       "0  10:00 PM  10:00 PM  12:00 AM  Magic Kingdom  \n",
       "1  10:00 PM  10:00 PM  12:00 AM  Magic Kingdom  \n",
       "2  10:00 PM  10:00 PM  12:00 AM  Magic Kingdom  \n",
       "3  10:00 PM  10:00 PM  12:00 AM  Magic Kingdom  \n",
       "4  10:00 PM  10:00 PM  12:00 AM  Magic Kingdom  "
      ]
     },
     "execution_count": 3,
     "metadata": {},
     "output_type": "execute_result"
    }
   ],
   "source": [
    "RideWaits.head()"
   ]
  },
  {
   "cell_type": "code",
   "execution_count": 4,
   "metadata": {},
   "outputs": [],
   "source": [
    "RideWaits[\"RideId\"] = pd.Categorical(RideWaits[\"RideId\"])\n",
    "RideWaits[\"Status\"] = pd.Categorical(RideWaits[\"Status\"])\n",
    "RideWaits[\"ParkId\"] = pd.Categorical(RideWaits[\"ParkId\"])\n",
    "RideWaits[\"Tier\"] = pd.Categorical(RideWaits[\"Tier\"])\n",
    "RideWaits[\"ParkName\"] = pd.Categorical(RideWaits[\"ParkName\"])\n",
    "RideWaits[\"IntellectualProp\"] = pd.Categorical(RideWaits[\"IntellectualProp\"])\n",
    "RideWaits[\"Date\"] = pd.to_datetime(RideWaits[\"Date\"], infer_datetime_format = True)\n",
    "RideWaits[\"OpeningDate\"] = pd.to_datetime(RideWaits[\"OpeningDate\"], infer_datetime_format = True)\n",
    "RideWaits[\"Time\"] = pd.to_datetime(RideWaits[\"Time\"], format = '%H:%M').dt.time\n",
    "RideWaits[\"ParkOpen\"] = pd.to_datetime(RideWaits[\"ParkOpen\"], format = '%I:%M %p').dt.strftime('%H:%M')\n",
    "RideWaits[\"ParkOpen\"] = pd.to_datetime(RideWaits[\"ParkOpen\"], format = '%H:%M').dt.time\n",
    "RideWaits[\"ParkClose\"] = pd.to_datetime(RideWaits[\"ParkClose\"], format = '%I:%M %p').dt.strftime('%H:%M')\n",
    "RideWaits[\"ParkClose\"] = pd.to_datetime(RideWaits[\"ParkClose\"], format = '%H:%M').dt.time\n",
    "RideWaits[\"DayOfWeek\"] = [datetime.weekday(x) for x in RideWaits[\"Date\"]]\n",
    "RideWaits[\"EMHOpen\"] = pd.to_datetime(RideWaits[\"EMHOpen\"], format = '%I:%M %p', errors = 'coerce').dt.strftime('%H:%M')\n",
    "RideWaits[\"EMHClose\"] = pd.to_datetime(RideWaits[\"EMHClose\"], format = '%I:%M %p', errors = 'coerce').dt.strftime('%H:%M')\n",
    "RideWaits[\"EMHOpen\"] = pd.to_datetime(RideWaits[\"EMHOpen\"], format = '%H:%M', errors = 'coerce').dt.time\n",
    "RideWaits[\"EMHClose\"] = pd.to_datetime(RideWaits[\"EMHClose\"], format = '%H:%M', errors = 'coerce').dt.time\n",
    "RideWaits[\"Weekend\"] = [0 if x == 0 or x == 1 or x ==2 or x==3 or x==4 else 1 for x in RideWaits[\"DayOfWeek\"]]\n",
    "RideWaits[\"Weekend\"].value_counts()\n",
    "RideWaits[\"CharacterExperience\"] = [1 if \"Meet\" in x else 0 for x in RideWaits[\"Name\"]]"
   ]
  },
  {
   "cell_type": "code",
   "execution_count": 5,
   "metadata": {},
   "outputs": [
    {
     "data": {
      "text/plain": [
       "2018-05-07    6774\n",
       "2018-08-05    3511\n",
       "2018-06-04    3459\n",
       "2018-06-28    3369\n",
       "2018-07-11    3338\n",
       "2018-06-09    3332\n",
       "2018-07-05    3325\n",
       "2018-05-26    3320\n",
       "2018-07-21    3319\n",
       "2018-06-20    3316\n",
       "2018-05-27    3276\n",
       "2018-07-03    3272\n",
       "2018-07-01    3269\n",
       "2018-06-02    3268\n",
       "2018-06-27    3258\n",
       "2018-08-16    3256\n",
       "2018-07-14    3250\n",
       "2018-08-12    3244\n",
       "2018-07-04    3243\n",
       "2018-08-18    3237\n",
       "2018-07-10    3232\n",
       "2018-06-22    3230\n",
       "2018-06-03    3221\n",
       "2018-07-02    3220\n",
       "2018-08-15    3219\n",
       "2018-07-16    3214\n",
       "2018-05-24    3207\n",
       "2018-06-06    3201\n",
       "2018-06-19    3201\n",
       "2018-06-11    3197\n",
       "              ... \n",
       "2018-05-18    2842\n",
       "2018-07-13    2781\n",
       "2018-05-09    2705\n",
       "2018-09-16    2672\n",
       "2018-09-17    2650\n",
       "2018-08-22    2446\n",
       "2018-09-01    2328\n",
       "2018-08-31    2322\n",
       "2018-08-26    2299\n",
       "2018-08-30    2272\n",
       "2018-09-04    2245\n",
       "2018-08-23    2200\n",
       "2018-09-15    2036\n",
       "2018-08-25    2000\n",
       "2018-08-24    1942\n",
       "2018-09-13    1727\n",
       "2018-08-28    1621\n",
       "2018-08-27    1466\n",
       "2018-09-02    1458\n",
       "2018-09-03    1280\n",
       "2018-08-29     979\n",
       "2018-09-18     144\n",
       "2018-09-05     142\n",
       "2018-09-11     128\n",
       "2018-09-07     124\n",
       "2018-09-12     122\n",
       "2018-09-09     112\n",
       "2018-09-06     104\n",
       "2018-09-10     100\n",
       "2018-09-08      94\n",
       "Name: Date, Length: 134, dtype: int64"
      ]
     },
     "execution_count": 5,
     "metadata": {},
     "output_type": "execute_result"
    }
   ],
   "source": [
    "RideWaits[\"Date\"].value_counts()"
   ]
  },
  {
   "cell_type": "markdown",
   "metadata": {},
   "source": [
    "The transformations above get the data ready for analysis, however there may exist some times outside of our viable windows. This next loop should remove all those times, as well as let us know if a time is in Extra Magic hours or not. "
   ]
  },
  {
   "cell_type": "code",
   "execution_count": 6,
   "metadata": {},
   "outputs": [],
   "source": [
    "validTime = []\n",
    "inEMH = []\n",
    "emhDay = []\n",
    "timeSinceStart = []\n",
    "timeSinceMidDay = []\n",
    "magicHourType = []\n",
    "timeSinceOpenMinutes = []\n",
    "\n",
    "for index, row in RideWaits.iterrows():\n",
    "    tempTime = datetime.now()\n",
    "    cTime = row[\"Time\"]\n",
    "    pOpen = row[\"ParkOpen\"]\n",
    "    pClose = row[\"ParkClose\"]\n",
    "    currentParkTime = tempTime.replace(hour = cTime.hour, minute = cTime.minute, second = 0, microsecond = 0)\n",
    "    parkOpen = tempTime.replace(hour = pOpen.hour, minute = pOpen.minute, second = 0, microsecond = 0)\n",
    "    parkClose = tempTime.replace(hour = pClose.hour, minute = pClose.minute, second = 0, microsecond = 0)\n",
    "    if parkClose < parkOpen:\n",
    "        parkClose = parkClose.replace(day = parkClose.day + 1)\n",
    "    if (pd.isnull(row[\"EMHOpen\"])== False) & (pd.isnull(row[\"EMHClose\"]) == False):\n",
    "        eOpen = row[\"EMHOpen\"]\n",
    "        eClose = row[\"EMHClose\"]\n",
    "        emhOpen = tempTime.replace(hour = eOpen.hour, minute = eOpen.minute, second = 0, microsecond = 0)\n",
    "        emhClose = tempTime.replace(hour = eClose.hour, minute = eClose.minute, second = 0, microsecond = 0)\n",
    "        if emhClose < emhOpen:\n",
    "            emhClose = emhClose.replace(day = emhClose.day + 1)\n",
    "        emh = \"ok\"\n",
    "        emhDay.append(1)\n",
    "        if emhClose.hour == parkOpen.hour:\n",
    "            magicHourType.append(\"Morning\")\n",
    "        else:\n",
    "            magicHourType.append(\"Night\")\n",
    "    else:\n",
    "        emh = \"none\"\n",
    "        emhDay.append(0)\n",
    "        magicHourType.append(\"None\")\n",
    "    if (currentParkTime < parkClose) & (currentParkTime > parkOpen):\n",
    "        #print(\"Current Time is: \" + str(currentParkTime) + \" and ParkHours are \"+ str(parkOpen) +\" to \" + str(parkClose) + \" \" +str(validtime))\n",
    "        tSinceOpen = currentParkTime.hour - parkOpen.hour\n",
    "        tSinceOpenMinutes = currentParkTime - parkOpen\n",
    "        tSinceMidDay = abs(currentParkTime.hour - 14)\n",
    "        if currentParkTime.hour < parkOpen.hour:\n",
    "            tSinceOpen = currentParkTime.hour + 24 - parkOpen.hour\n",
    "            tSinceOpenMinutes = currentParkTime.replace(day = currentParkTime.day + 1) - parkOpen\n",
    "            tSinceMidDay = abs(currentParkTime.hour - 14 + 24)\n",
    "        validTime.append(1)\n",
    "        inEMH.append(0)\n",
    "    else:\n",
    "        if (emh == \"ok\") & ((currentParkTime < emhClose) & (currentParkTime > emhOpen)):\n",
    "            validTime.append(1)\n",
    "            inEMH.append(1)\n",
    "            if (emhClose.hour == parkOpen.hour):\n",
    "                tSinceOpen = currentParkTime.hour - emhOpen.hour\n",
    "                tSinceOpenMinutes = currentParkTime - emhOpen\n",
    "                tSinceMidDay = abs(currentParkTime.hour - 14)\n",
    "\n",
    "            else:\n",
    "                if currentParkTime.hour < parkOpen.hour:\n",
    "                    tSinceOpen = currentParkTime.hour + 24 - parkOpen.hour\n",
    "                    tSinceOpenMinutes = currentParkTime.replace(day = currentParkTime.day + 1) - parkOpen\n",
    "                    tSinceMidDay = abs(currentParkTime.hour - 14 + 24)\n",
    "                else:\n",
    "                    tSinceOpen = currentParkTime.hour - parkOpen.hour\n",
    "                    tSinceOpenMinutes = currentParkTime - parkOpen\n",
    "                    tSinceMidDay = abs(currentParkTime.hour - 14)\n",
    "        else:\n",
    "            validTime.append(0)\n",
    "            inEMH.append(0)\n",
    "    timeSinceStart.append(tSinceOpen)\n",
    "    timeSinceMidDay.append(tSinceMidDay)\n",
    "    timeSinceOpenMinutes.append(tSinceOpenMinutes)\n",
    "\n",
    "\n",
    "RideWaits[\"inEMH\"] = inEMH\n",
    "RideWaits[\"validTime\"] = validTime\n",
    "RideWaits[\"EMHDay\"] = emhDay\n",
    "RideWaits[\"TimeSinceOpen\"] = timeSinceStart\n",
    "RideWaits[\"TimeSinceMidday\"] = timeSinceMidDay\n",
    "RideWaits[\"MagicHourType\"] = magicHourType\n",
    "RideWaits[\"MinutesSinceOpen\"] = [x.total_seconds()/60 for x in timeSinceOpenMinutes]\n",
    "RideWaits[\"SimpleStatus\"] = pd.Categorical(RideWaits[\"SimpleStatus\"])\n",
    "RideWaits = RideWaits[RideWaits[\"validTime\"] == 1]\n",
    "\n",
    "#RideWaits[\"Month\"] = RideWaits[\"Date\"].dt.month\n",
    "RideWaits[\"TimeSinceRideOpen\"] = (RideWaits[\"Date\"] - RideWaits[\"OpeningDate\"]).dt.days"
   ]
  },
  {
   "cell_type": "markdown",
   "metadata": {},
   "source": [
    "The features above are generally transformations of the data with the exception of Day of the Week where that is extracted from the date object."
   ]
  },
  {
   "cell_type": "markdown",
   "metadata": {},
   "source": [
    "## Relationships between Different Categories and Wait Time\n",
    "\n",
    "In this section we will explore the relationship directly to different group categories as shown below. \n",
    "\n",
    "* Day of Week\n",
    "* Ride Name\n",
    "* Time of Day\n",
    "* Park\n",
    "* Ride/Time of Day\n",
    "* Park/Time of Day\n",
    "* Tier/Time of Day\n",
    "* If it's an extra magic hour day\n",
    "* In Extra Magic hours or not"
   ]
  },
  {
   "cell_type": "code",
   "execution_count": null,
   "metadata": {},
   "outputs": [],
   "source": [
    "RideWaits[\"Wait\"].describe()"
   ]
  },
  {
   "cell_type": "code",
   "execution_count": null,
   "metadata": {},
   "outputs": [],
   "source": [
    "RideWaits[\"DayOfWeek\"].value_counts()"
   ]
  },
  {
   "cell_type": "code",
   "execution_count": null,
   "metadata": {},
   "outputs": [],
   "source": [
    "RideWaits.groupby('DayOfWeek')['Wait'].mean()"
   ]
  },
  {
   "cell_type": "code",
   "execution_count": null,
   "metadata": {},
   "outputs": [],
   "source": [
    "fig,ax= plt.subplots(figsize = (20,10))\n",
    "RideWaits.groupby('DayOfWeek')['Wait'].mean().plot(ax = ax)\n",
    "plt.show()"
   ]
  },
  {
   "cell_type": "code",
   "execution_count": null,
   "metadata": {},
   "outputs": [],
   "source": [
    "plt.subplots(figsize = (20,10))\n",
    "ax = sns.boxplot(x = \"DayOfWeek\", y = \"Wait\", data = RideWaits)\n",
    "plt.show()"
   ]
  },
  {
   "cell_type": "code",
   "execution_count": null,
   "metadata": {},
   "outputs": [],
   "source": [
    "RideWaits.groupby('Name')['Wait'].mean()"
   ]
  },
  {
   "cell_type": "markdown",
   "metadata": {},
   "source": [
    "This extremely large data frame may not be particularly useful by itself. We'll dive into these figures in another cell later on. "
   ]
  },
  {
   "cell_type": "code",
   "execution_count": null,
   "metadata": {},
   "outputs": [],
   "source": [
    "fig,ax= plt.subplots(figsize = (20,10))\n",
    "RideWaits.groupby('Time')['Wait'].mean().plot(ax = ax)\n",
    "plt.show()"
   ]
  },
  {
   "cell_type": "markdown",
   "metadata": {},
   "source": [
    "We see that the wait time follows a general curve through the day, signaling that time of day is a huge factor in the wait times at the park. The wait time increases to a point, roughly 14:00, then decreases from that point to the end of the day. It mirrors a y = -|x| situation. We can attempt to recreate this by creating a value that emulates the time since midday, signaling midday as 14:00."
   ]
  },
  {
   "cell_type": "code",
   "execution_count": null,
   "metadata": {},
   "outputs": [],
   "source": [
    "fig,ax= plt.subplots(figsize = (20,10))\n",
    "RideWaits.groupby('MinutesSinceOpen')['Wait'].mean().plot(ax = ax)\n",
    "plt.show()"
   ]
  },
  {
   "cell_type": "code",
   "execution_count": null,
   "metadata": {},
   "outputs": [],
   "source": [
    "RideWaits.corr()[\"Wait\"][\"TimeSinceMidday\"]"
   ]
  },
  {
   "cell_type": "code",
   "execution_count": null,
   "metadata": {},
   "outputs": [],
   "source": [
    "RideWaits.plot(x = \"TimeSinceMidday\", y = \"Wait\", kind = \"scatter\")"
   ]
  },
  {
   "cell_type": "markdown",
   "metadata": {},
   "source": [
    "It's generally hard to see if there is any sort of trend with every single point. If we group by the number of hours since midday perhaps we can see a general trend. "
   ]
  },
  {
   "cell_type": "code",
   "execution_count": null,
   "metadata": {},
   "outputs": [],
   "source": [
    "fig,ax= plt.subplots(figsize = (20,10))\n",
    "RideWaits.groupby('TimeSinceMidday')['Wait'].mean().plot(ax = ax)\n",
    "plt.show()"
   ]
  },
  {
   "cell_type": "code",
   "execution_count": null,
   "metadata": {},
   "outputs": [],
   "source": [
    "RideWaits.groupby('TimeSinceMidday')['Wait'].describe()"
   ]
  },
  {
   "cell_type": "markdown",
   "metadata": {},
   "source": [
    "As suspected, the wait time decreases as the time moves away from the midpoint of the day. "
   ]
  },
  {
   "cell_type": "code",
   "execution_count": null,
   "metadata": {},
   "outputs": [],
   "source": [
    "RideWaits.groupby('ParkName')['Wait'].describe()\n"
   ]
  },
  {
   "cell_type": "code",
   "execution_count": null,
   "metadata": {},
   "outputs": [],
   "source": [
    "plt.subplots(figsize = (20,10))\n",
    "ax = sns.boxplot(x = \"ParkName\", y = \"Wait\", data = RideWaits)\n",
    "plt.show()"
   ]
  },
  {
   "cell_type": "markdown",
   "metadata": {},
   "source": [
    "We see quickly from this box and whisker plot as well as with the described data frame above that Epcot and Hollywood studios have nearly identical wait times, Animal Kingdom has the largest Interquartile range and the highest mean. This may be due to the addition of two new rides that have been recently experiencing some dramatically high wait times. This leads me to believe that 'newness' of ride contributes to wait time. This leads to that being an engineered feature later on."
   ]
  },
  {
   "cell_type": "code",
   "execution_count": null,
   "metadata": {},
   "outputs": [],
   "source": [
    "from scipy import stats\n",
    "t,p = stats.ttest_ind(RideWaits[\"Wait\"], RideWaits[RideWaits[\"ParkName\"]==\"Animal Kingdom\"][\"Wait\"])\n",
    "print(t, p)"
   ]
  },
  {
   "cell_type": "markdown",
   "metadata": {},
   "source": [
    "This means that a ride in  Animal kingdom will have a greater mean wait time than an average ride in Walt Disney World. This is most likely due to the addition of Pandora."
   ]
  },
  {
   "cell_type": "code",
   "execution_count": null,
   "metadata": {},
   "outputs": [],
   "source": [
    "rideSummaryStats = RideWaits.groupby('Name')['Wait'].describe()\n",
    "rideSummaryStats.head(15)"
   ]
  },
  {
   "cell_type": "code",
   "execution_count": null,
   "metadata": {},
   "outputs": [],
   "source": [
    "RideWaits.groupby('Tier')['Wait'].describe()\n"
   ]
  },
  {
   "cell_type": "code",
   "execution_count": null,
   "metadata": {},
   "outputs": [],
   "source": [
    "plt.subplots(figsize = (20,10))\n",
    "ax = sns.boxplot(x = \"Tier\", y = \"Wait\", data = RideWaits)\n",
    "plt.show()"
   ]
  },
  {
   "cell_type": "markdown",
   "metadata": {},
   "source": [
    "This follows mostly what our preconceived notions would be:\n",
    "Super headliner attractions dominate the wait times followed by headlines. This leads to wanting inspect the data some more to understand what differentiates between headliner and major attraction or major attraction and minor attraction as those two have nearly identical wait times. "
   ]
  },
  {
   "cell_type": "code",
   "execution_count": null,
   "metadata": {},
   "outputs": [],
   "source": [
    "RideWaits.groupby('EMHDay')['Wait'].describe()"
   ]
  },
  {
   "cell_type": "code",
   "execution_count": null,
   "metadata": {},
   "outputs": [],
   "source": [
    "plt.subplots(figsize = (20,10))\n",
    "ax = sns.boxplot(x = \"EMHDay\", y = \"Wait\", data = RideWaits)\n",
    "plt.show()"
   ]
  },
  {
   "cell_type": "code",
   "execution_count": null,
   "metadata": {},
   "outputs": [],
   "source": [
    "t, p = stats.ttest_ind(RideWaits[RideWaits[\"EMHDay\"] == 0][\"Wait\"], RideWaits[RideWaits[\"EMHDay\"]==1][\"Wait\"])\n",
    "print(t)\n",
    "print(p)"
   ]
  },
  {
   "cell_type": "markdown",
   "metadata": {},
   "source": [
    "The working assumption in most Disney Park planning sites is that if you don't need to go to a park when it has extra magic hours, don't because it will be more packed. We see that there is statistical significance in the difference and can say with confidence that Extra Magic hours increase the wait time."
   ]
  },
  {
   "cell_type": "code",
   "execution_count": null,
   "metadata": {},
   "outputs": [],
   "source": [
    "RideWaits.groupby('inEMH')['Wait'].describe()"
   ]
  },
  {
   "cell_type": "code",
   "execution_count": null,
   "metadata": {},
   "outputs": [],
   "source": [
    "plt.subplots(figsize = (20,10))\n",
    "ax = sns.boxplot(x = \"inEMH\", y = \"Wait\", data = RideWaits)\n",
    "plt.show()"
   ]
  },
  {
   "cell_type": "code",
   "execution_count": null,
   "metadata": {},
   "outputs": [],
   "source": [
    "t, p = stats.ttest_ind(RideWaits[RideWaits[\"inEMH\"] == 0][\"Wait\"], RideWaits[RideWaits[\"inEMH\"]==1][\"Wait\"])\n",
    "print(t)\n",
    "print(p)"
   ]
  },
  {
   "cell_type": "markdown",
   "metadata": {},
   "source": [
    "Again this goes with typical thought. If you ride attractions during extra magic hours, you will be subject to lower wait times than those outsie of extra magic hours. We see a difference of wait time by 14 minutes. We see that our p value is significantly small, much below our threshold. We can say with statistical significance that the mean wait time while in extra magic hours is lower than outside of extra magic hours."
   ]
  },
  {
   "cell_type": "code",
   "execution_count": null,
   "metadata": {},
   "outputs": [],
   "source": [
    "RideWaits.groupby('MagicHourType')['Wait'].describe()"
   ]
  },
  {
   "cell_type": "code",
   "execution_count": null,
   "metadata": {},
   "outputs": [],
   "source": [
    "plt.subplots(figsize = (20,10))\n",
    "ax = sns.boxplot(x = \"MagicHourType\", y = \"Wait\", data = RideWaits)\n",
    "plt.show()"
   ]
  },
  {
   "cell_type": "markdown",
   "metadata": {},
   "source": [
    "## Descriptive Plots\n",
    "\n",
    "Below we have some plots that show all the rides grouped by park. First the wait average wait times by ride and time slot are shown, followed by the average wait times by tier and time slot."
   ]
  },
  {
   "cell_type": "code",
   "execution_count": null,
   "metadata": {},
   "outputs": [],
   "source": [
    "fig,ax = plt.subplots(figsize = (20,10))\n",
    "RideWaits.groupby(['Time','ParkName'])['Wait'].mean().unstack().plot(ax = ax)\n",
    "plt.show()"
   ]
  },
  {
   "cell_type": "code",
   "execution_count": null,
   "metadata": {},
   "outputs": [],
   "source": [
    "fig,ax = plt.subplots(figsize = (20,10))\n",
    "RideWaits.groupby(['TimeSinceOpen','ParkName'])['Wait'].mean().unstack().plot(ax = ax)\n",
    "plt.show()"
   ]
  },
  {
   "cell_type": "markdown",
   "metadata": {},
   "source": [
    "By normalizing across the parks for 'TimeSinceOpen' we get ride of some of the noise potentially associated with minor fluctuations per 15 minutes as well as different opening times across the parks. We also see a single spike in Magic Kingdom times before park open, that is clearly associated with a high popularity ride being open during Extra Magic Hours. "
   ]
  },
  {
   "cell_type": "code",
   "execution_count": null,
   "metadata": {},
   "outputs": [],
   "source": [
    "fig,ax = plt.subplots(figsize = (20,10))\n",
    "RideWaits[RideWaits[\"ParkName\"]==\"Magic Kingdom\"].groupby(['Time','Name'])['Wait'].mean().unstack().plot(ax = ax)\n",
    "plt.show()"
   ]
  },
  {
   "cell_type": "code",
   "execution_count": null,
   "metadata": {},
   "outputs": [],
   "source": [
    "fig,ax = plt.subplots(figsize = (20,10))\n",
    "RideWaits[RideWaits[\"ParkName\"]==\"EpCot\"].groupby(['Time','Name'])['Wait'].mean().unstack().plot(ax = ax)\n",
    "plt.show()"
   ]
  },
  {
   "cell_type": "code",
   "execution_count": null,
   "metadata": {},
   "outputs": [],
   "source": [
    "fig,ax = plt.subplots(figsize = (20,10))\n",
    "RideWaits[RideWaits[\"ParkName\"]==\"Hollywood Studios\"].groupby(['Time','Name'])['Wait'].mean().unstack().plot(ax = ax)\n",
    "plt.show()"
   ]
  },
  {
   "cell_type": "code",
   "execution_count": null,
   "metadata": {},
   "outputs": [],
   "source": [
    "fig,ax = plt.subplots(figsize = (20,10))\n",
    "RideWaits[RideWaits[\"ParkName\"]==\"Animal Kingdom\"].groupby(['Time','Name'])['Wait'].mean().unstack().plot(ax = ax)\n",
    "plt.show()"
   ]
  },
  {
   "cell_type": "code",
   "execution_count": null,
   "metadata": {},
   "outputs": [],
   "source": [
    "fig,ax = plt.subplots(figsize = (20,10))\n",
    "RideWaits[RideWaits[\"ParkName\"]==\"Magic Kingdom\"].groupby(['Time','Tier'])['Wait'].mean().unstack().plot(ax = ax)\n",
    "plt.show()\n"
   ]
  },
  {
   "cell_type": "code",
   "execution_count": null,
   "metadata": {},
   "outputs": [],
   "source": [
    "fig,ax = plt.subplots(figsize = (20,10))\n",
    "RideWaits[RideWaits[\"ParkName\"]==\"EpCot\"].groupby(['Time','Tier'])['Wait'].mean().unstack().plot(ax = ax)\n",
    "plt.show()"
   ]
  },
  {
   "cell_type": "code",
   "execution_count": null,
   "metadata": {},
   "outputs": [],
   "source": [
    "fig,ax = plt.subplots(figsize = (20,10))\n",
    "RideWaits[RideWaits[\"ParkName\"]==\"Hollywood Studios\"].groupby(['Time','Tier'])['Wait'].mean().unstack().plot(ax = ax)\n",
    "plt.show()"
   ]
  },
  {
   "cell_type": "code",
   "execution_count": null,
   "metadata": {},
   "outputs": [],
   "source": [
    "fig,ax = plt.subplots(figsize = (20,10))\n",
    "RideWaits[RideWaits[\"ParkName\"]==\"Animal Kingdom\"].groupby(['Time','Tier'])['Wait'].mean().unstack().plot(ax = ax)\n",
    "plt.show()"
   ]
  },
  {
   "cell_type": "markdown",
   "metadata": {},
   "source": [
    "# Investigating High Wait Time Attractions"
   ]
  },
  {
   "cell_type": "code",
   "execution_count": null,
   "metadata": {},
   "outputs": [],
   "source": [
    "rideSummaryStats = rideSummaryStats.sort_values(by = ['mean'], ascending = False)\n",
    "topWaits = rideSummaryStats.iloc[:10]\n",
    "topWaits"
   ]
  },
  {
   "cell_type": "markdown",
   "metadata": {},
   "source": [
    "We can investigate these high wait time rides and see what commonalities they share. "
   ]
  },
  {
   "cell_type": "code",
   "execution_count": null,
   "metadata": {},
   "outputs": [],
   "source": [
    "topRides = RideWaits[RideWaits[\"Name\"].isin(topWaits.index)]\n",
    "information = topRides.groupby(['Name','ParkName','OpeningDate']).size().reset_index()\n",
    "information"
   ]
  },
  {
   "cell_type": "code",
   "execution_count": null,
   "metadata": {},
   "outputs": [],
   "source": [
    "information[\"ParkName\"].value_counts()"
   ]
  },
  {
   "cell_type": "markdown",
   "metadata": {},
   "source": [
    "We see that the majority of our rides with long waits, 6 of the 10 are either in Magic Kingdom or Animal Kingdom. The Animal Kingdom Rides are the relatively new Avatar Rides in addition to The Kilimanjaro Safaris. Only Two of these rides I would consider as legacy experiences with Peter Pans Flight and Space Mountain. The opening dates of so many of these rides being after 1995 urges the inclusion of a feature that captures the time since the opening of the ride."
   ]
  },
  {
   "cell_type": "code",
   "execution_count": null,
   "metadata": {},
   "outputs": [],
   "source": [
    "RideWaits.corr()[\"Wait\"][\"TimeSinceRideOpen\"]"
   ]
  },
  {
   "cell_type": "markdown",
   "metadata": {},
   "source": [
    "We see that there is a negative correlation which is what we expect here, as the novelty of a ride wears off, the wait should go down. However this doesn't capture if a ride is a classic, or if it was open the day the park first opened."
   ]
  },
  {
   "cell_type": "code",
   "execution_count": null,
   "metadata": {},
   "outputs": [],
   "source": [
    "fig,ax = plt.subplots(figsize = (20,10))\n",
    "topRides.groupby([\"Time\",\"Name\"])['Wait'].mean().unstack().plot(ax = ax)\n",
    "plt.show()"
   ]
  },
  {
   "cell_type": "markdown",
   "metadata": {},
   "source": [
    "The first thing that sticks out in this graph is the solid line that represents the character experience of Cinderella and other Princesses. Perhaps there should a feature that incorporates whether the experience is a character experience or not. Or, more generally, to what branch of IP (intellectual property) does this experience belong? This would help answer the question if rides associated with Princesses tend to have longer waits than rides that do not have a specific associated property image, like Jungle Cruise or the Haunted Mansion.  "
   ]
  },
  {
   "cell_type": "markdown",
   "metadata": {},
   "source": [
    "## Weather\n",
    "\n",
    "Up until this point we have analyzed rides without a consideration towards the weather at the time. Orlando has common surprise thunderstorms that may drop wait times as people rush indoors, or it may suddenly increase wait times towards dark rides to avoid the outside. These are things we can look at in principal, then later when they are incorporated into a machine learning model."
   ]
  },
  {
   "cell_type": "code",
   "execution_count": null,
   "metadata": {},
   "outputs": [],
   "source": [
    "RideWaits[\"Status\"].value_counts()"
   ]
  },
  {
   "cell_type": "code",
   "execution_count": null,
   "metadata": {},
   "outputs": [],
   "source": [
    "RideWaits.groupby('Status')[\"Wait\"].describe()"
   ]
  },
  {
   "cell_type": "markdown",
   "metadata": {},
   "source": [
    "Initially we have had no conditions with rain, so we can't analyze if rain is or is not having an effect. We see, though that fog does have some effect, however fog mainly only occurs in the morning so that may be more a time constraint than directly related to fog."
   ]
  },
  {
   "cell_type": "code",
   "execution_count": null,
   "metadata": {},
   "outputs": [],
   "source": [
    "RideWaits.groupby('SimpleStatus')[\"Wait\"].describe()"
   ]
  },
  {
   "cell_type": "markdown",
   "metadata": {},
   "source": [
    "We also have a simpler status to be able to group some weather statuses more easily. We see here again that Fog is the only substantial difference, but again is this due to morning hours or the fog."
   ]
  },
  {
   "cell_type": "markdown",
   "metadata": {},
   "source": [
    "We should now look at the temperature to see if there is any correlation between temperature and wait times. "
   ]
  },
  {
   "cell_type": "code",
   "execution_count": null,
   "metadata": {},
   "outputs": [],
   "source": [
    "RideWaits.plot(x = \"Temperature\", y = \"Wait\", kind = \"scatter\")"
   ]
  },
  {
   "cell_type": "code",
   "execution_count": null,
   "metadata": {},
   "outputs": [],
   "source": [
    "RideWaits.corr()[\"Wait\"][\"Temperature\"]"
   ]
  },
  {
   "cell_type": "code",
   "execution_count": null,
   "metadata": {},
   "outputs": [],
   "source": [
    "fig,ax= plt.subplots(figsize = (20,10))\n",
    "RideWaits.groupby('Temperature')['Wait'].mean().plot(ax = ax)\n",
    "plt.show()"
   ]
  },
  {
   "cell_type": "markdown",
   "metadata": {},
   "source": [
    "We see almost the reverse effect we would expect to see with Temperature. I would anticipate that heat would cause people to leave the parks, but, since heat occurs in the middle of the day when the parks are most busy we see that this is presenting itself as a positive correlation, albeit not a strong one, between wait time and temperature. This again leads me to want to capture if a ride is outdoors or a dark ride, as well as whether the queue is outdoors or indoors. "
   ]
  },
  {
   "cell_type": "markdown",
   "metadata": {},
   "source": [
    "These all lead to an understanding that Time of Day may be the most important factor in generalizing a wait time, in addition to the specific ride."
   ]
  },
  {
   "cell_type": "markdown",
   "metadata": {},
   "source": [
    "It may be easier to view Temperature as a daily high and the average wait time that day, as we can isolate temperature from the time of day considerations and pair all other aspects, such as day of week. This way the comparison will be more apples to apples and we can remove for potentially confounding variables. "
   ]
  },
  {
   "cell_type": "markdown",
   "metadata": {},
   "source": [
    "## Intellectual Property\n",
    "\n",
    "Disney owns a vast array of different Intellectual property that certain rides take advantage of. This is seen with the upcoming additions of Star Wars Land and Toy Story Land. The thought is that certain IP create very popular rides and will increase wait times. "
   ]
  },
  {
   "cell_type": "code",
   "execution_count": null,
   "metadata": {},
   "outputs": [],
   "source": [
    "RideWaits.groupby('IntellectualProp')[\"Wait\"].describe()"
   ]
  },
  {
   "cell_type": "code",
   "execution_count": null,
   "metadata": {},
   "outputs": [],
   "source": [
    "plt.subplots(figsize = (20,10))\n",
    "ax = sns.boxplot(x = \"IntellectualProp\", y = \"Wait\", data = RideWaits)\n",
    "plt.show()"
   ]
  },
  {
   "cell_type": "markdown",
   "metadata": {},
   "source": [
    "This doesn't tell much of a story. It's hard to tell if the Intellectual property is causing Avatar to have such high wait times, or is it the tier of the ride, or is it the newness of those rides. All of these factors may be playing a part in the high wait times associated with Avatar related properties. "
   ]
  },
  {
   "cell_type": "markdown",
   "metadata": {},
   "source": [
    "### Character Experiences\n",
    "\n",
    "Character experiences are another type of experience that may effect wait times. Most are devoted to showing off Disney's favorite characters and because of this the wait times for these attractions will tend to soar. "
   ]
  },
  {
   "cell_type": "code",
   "execution_count": null,
   "metadata": {},
   "outputs": [],
   "source": [
    "RideWaits.groupby('CharacterExperience')[\"Wait\"].describe()"
   ]
  },
  {
   "cell_type": "code",
   "execution_count": null,
   "metadata": {},
   "outputs": [],
   "source": [
    "RideWaits[RideWaits[\"CharacterExperience\"] == 1][\"Name\"].unique()"
   ]
  },
  {
   "cell_type": "code",
   "execution_count": null,
   "metadata": {},
   "outputs": [],
   "source": [
    "plt.subplots(figsize = (20,10))\n",
    "ax = sns.boxplot(x = \"CharacterExperience\", y = \"Wait\", data = RideWaits)\n",
    "plt.show()"
   ]
  },
  {
   "cell_type": "code",
   "execution_count": null,
   "metadata": {},
   "outputs": [],
   "source": [
    "t, p = stats.ttest_ind(RideWaits[RideWaits[\"CharacterExperience\"] == 0][\"Wait\"], RideWaits[RideWaits[\"CharacterExperience\"]==1][\"Wait\"])\n",
    "print(t)\n",
    "print(p)"
   ]
  },
  {
   "cell_type": "markdown",
   "metadata": {},
   "source": [
    "Again there is statistical Significance to suggest that a character experience has a longer wait time than a non character experience, leading us to believe that this would be an important aspect to include in a model."
   ]
  },
  {
   "cell_type": "code",
   "execution_count": null,
   "metadata": {},
   "outputs": [],
   "source": []
  }
 ],
 "metadata": {
  "kernelspec": {
   "display_name": "Python 3",
   "language": "python",
   "name": "python3"
  },
  "language_info": {
   "codemirror_mode": {
    "name": "ipython",
    "version": 3
   },
   "file_extension": ".py",
   "mimetype": "text/x-python",
   "name": "python",
   "nbconvert_exporter": "python",
   "pygments_lexer": "ipython3",
   "version": "3.6.2"
  }
 },
 "nbformat": 4,
 "nbformat_minor": 2
}
